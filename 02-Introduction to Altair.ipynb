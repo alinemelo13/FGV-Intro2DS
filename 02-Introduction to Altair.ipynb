{
 "cells": [
  {
   "cell_type": "markdown",
   "metadata": {},
   "source": [
    "<div style=\"text-align: center;\">\n",
    "<div class=\"alert alert-block alert-info\">\n",
    "<span style=\"font-family:Georgia; font-size:2.0em;\"> Introduction to Data Science Bootcamp</span> <br><br>\n",
    "<span style=\"font-family:Georgia; font-size:1.5em;\"> Fundação Getulio Vargas - Rio de Janeiro</span> <br><br>\n",
    "<span style=\"font-family:Georgia; font-size:1.5em;\"> Jorge Poco </span> <br>\n",
    "<span style=\"font-family:Georgia; font-size:1.0em;\">UCSP, Peru</span><br><br><br>\n",
    "\n",
    "<span style=\"font-family:Georgia; font-size:1.5em;\">Based on [material](https://github.com/altair-viz/altair_notebooks/tree/master/notebooks) from Brian E. Granger.</span>\n",
    "</div>"
   ]
  },
  {
   "cell_type": "markdown",
   "metadata": {},
   "source": [
    "# Altair: Statistical Visualization for Python"
   ]
  },
  {
   "cell_type": "markdown",
   "metadata": {},
   "source": [
    "[Altair](http://github.com/altair-viz/altair/) provides a declarative Python API for statistical visualization, built on top of [Vega-Lite](http://vega.github.io/vega-lite/).\n",
    "\n",
    "The notebooks listed here provide a set of tutorials and examples of Altair's use. For more complete documentation, see [Altair's Documentation](http://altair-viz.github.io/)."
   ]
  },
  {
   "cell_type": "markdown",
   "metadata": {},
   "source": [
    "## Quick Altair example"
   ]
  },
  {
   "cell_type": "markdown",
   "metadata": {},
   "source": [
    "Here is a quick example of the Altair API in action:"
   ]
  },
  {
   "cell_type": "code",
   "execution_count": 1,
   "metadata": {},
   "outputs": [
    {
     "data": {
      "text/html": [
       "<div class=\"vega-embed\" id=\"d1f9bf3b-fa14-4734-95d9-1c0f8327f27a\"></div>\n",
       "\n",
       "<style>\n",
       ".vega-embed svg, .vega-embed canvas {\n",
       "  border: 1px dotted gray;\n",
       "}\n",
       "\n",
       ".vega-embed .vega-actions a {\n",
       "  margin-right: 6px;\n",
       "}\n",
       "</style>\n"
      ]
     },
     "metadata": {
      "jupyter-vega": "#d1f9bf3b-fa14-4734-95d9-1c0f8327f27a"
     },
     "output_type": "display_data"
    },
    {
     "data": {
      "application/javascript": [
       "var spec = {\"config\": {\"cell\": {\"width\": 500, \"height\": 350}}, \"encoding\": {\"color\": {\"field\": \"Origin\", \"type\": \"nominal\"}, \"x\": {\"field\": \"Horsepower\", \"type\": \"quantitative\"}, \"y\": {\"field\": \"Miles_per_Gallon\", \"type\": \"quantitative\"}}, \"mark\": \"circle\", \"data\": {\"values\": [{\"Acceleration\": 12.0, \"Cylinders\": 8, \"Displacement\": 307.0, \"Horsepower\": 130.0, \"Miles_per_Gallon\": 18.0, \"Name\": \"chevrolet chevelle malibu\", \"Origin\": \"USA\", \"Weight_in_lbs\": 3504, \"Year\": \"1970-01-01\"}, {\"Acceleration\": 11.5, \"Cylinders\": 8, \"Displacement\": 350.0, \"Horsepower\": 165.0, \"Miles_per_Gallon\": 15.0, \"Name\": \"buick skylark 320\", \"Origin\": \"USA\", \"Weight_in_lbs\": 3693, \"Year\": \"1970-01-01\"}, {\"Acceleration\": 11.0, \"Cylinders\": 8, \"Displacement\": 318.0, \"Horsepower\": 150.0, \"Miles_per_Gallon\": 18.0, \"Name\": \"plymouth satellite\", \"Origin\": \"USA\", \"Weight_in_lbs\": 3436, \"Year\": \"1970-01-01\"}, {\"Acceleration\": 12.0, \"Cylinders\": 8, \"Displacement\": 304.0, \"Horsepower\": 150.0, \"Miles_per_Gallon\": 16.0, \"Name\": \"amc rebel sst\", \"Origin\": \"USA\", \"Weight_in_lbs\": 3433, \"Year\": \"1970-01-01\"}, {\"Acceleration\": 10.5, \"Cylinders\": 8, \"Displacement\": 302.0, \"Horsepower\": 140.0, \"Miles_per_Gallon\": 17.0, \"Name\": \"ford torino\", \"Origin\": \"USA\", \"Weight_in_lbs\": 3449, \"Year\": \"1970-01-01\"}, {\"Acceleration\": 10.0, \"Cylinders\": 8, \"Displacement\": 429.0, \"Horsepower\": 198.0, \"Miles_per_Gallon\": 15.0, \"Name\": \"ford galaxie 500\", \"Origin\": \"USA\", \"Weight_in_lbs\": 4341, \"Year\": \"1970-01-01\"}, {\"Acceleration\": 9.0, \"Cylinders\": 8, \"Displacement\": 454.0, \"Horsepower\": 220.0, \"Miles_per_Gallon\": 14.0, \"Name\": \"chevrolet impala\", \"Origin\": \"USA\", \"Weight_in_lbs\": 4354, \"Year\": \"1970-01-01\"}, {\"Acceleration\": 8.5, \"Cylinders\": 8, \"Displacement\": 440.0, \"Horsepower\": 215.0, \"Miles_per_Gallon\": 14.0, \"Name\": \"plymouth fury iii\", \"Origin\": \"USA\", \"Weight_in_lbs\": 4312, \"Year\": \"1970-01-01\"}, {\"Acceleration\": 10.0, \"Cylinders\": 8, \"Displacement\": 455.0, \"Horsepower\": 225.0, \"Miles_per_Gallon\": 14.0, \"Name\": \"pontiac catalina\", \"Origin\": \"USA\", \"Weight_in_lbs\": 4425, \"Year\": \"1970-01-01\"}, {\"Acceleration\": 8.5, \"Cylinders\": 8, \"Displacement\": 390.0, \"Horsepower\": 190.0, \"Miles_per_Gallon\": 15.0, \"Name\": \"amc ambassador dpl\", \"Origin\": \"USA\", \"Weight_in_lbs\": 3850, \"Year\": \"1970-01-01\"}, {\"Acceleration\": 17.5, \"Cylinders\": 4, \"Displacement\": 133.0, \"Horsepower\": 115.0, \"Miles_per_Gallon\": null, \"Name\": \"citroen ds-21 pallas\", \"Origin\": \"Europe\", \"Weight_in_lbs\": 3090, \"Year\": \"1970-01-01\"}, {\"Acceleration\": 11.5, \"Cylinders\": 8, \"Displacement\": 350.0, \"Horsepower\": 165.0, \"Miles_per_Gallon\": null, \"Name\": \"chevrolet chevelle concours (sw)\", \"Origin\": \"USA\", \"Weight_in_lbs\": 4142, \"Year\": \"1970-01-01\"}, {\"Acceleration\": 11.0, \"Cylinders\": 8, \"Displacement\": 351.0, \"Horsepower\": 153.0, \"Miles_per_Gallon\": null, \"Name\": \"ford torino (sw)\", \"Origin\": \"USA\", \"Weight_in_lbs\": 4034, \"Year\": \"1970-01-01\"}, {\"Acceleration\": 10.5, \"Cylinders\": 8, \"Displacement\": 383.0, \"Horsepower\": 175.0, \"Miles_per_Gallon\": null, \"Name\": \"plymouth satellite (sw)\", \"Origin\": \"USA\", \"Weight_in_lbs\": 4166, \"Year\": \"1970-01-01\"}, {\"Acceleration\": 11.0, \"Cylinders\": 8, \"Displacement\": 360.0, \"Horsepower\": 175.0, \"Miles_per_Gallon\": null, \"Name\": \"amc rebel sst (sw)\", \"Origin\": \"USA\", \"Weight_in_lbs\": 3850, \"Year\": \"1970-01-01\"}, {\"Acceleration\": 10.0, \"Cylinders\": 8, \"Displacement\": 383.0, \"Horsepower\": 170.0, \"Miles_per_Gallon\": 15.0, \"Name\": \"dodge challenger se\", \"Origin\": \"USA\", \"Weight_in_lbs\": 3563, \"Year\": \"1970-01-01\"}, {\"Acceleration\": 8.0, \"Cylinders\": 8, \"Displacement\": 340.0, \"Horsepower\": 160.0, \"Miles_per_Gallon\": 14.0, \"Name\": \"plymouth 'cuda 340\", \"Origin\": \"USA\", \"Weight_in_lbs\": 3609, \"Year\": \"1970-01-01\"}, {\"Acceleration\": 8.0, \"Cylinders\": 8, \"Displacement\": 302.0, \"Horsepower\": 140.0, \"Miles_per_Gallon\": null, \"Name\": \"ford mustang boss 302\", \"Origin\": \"USA\", \"Weight_in_lbs\": 3353, \"Year\": \"1970-01-01\"}, {\"Acceleration\": 9.5, \"Cylinders\": 8, \"Displacement\": 400.0, \"Horsepower\": 150.0, \"Miles_per_Gallon\": 15.0, \"Name\": \"chevrolet monte carlo\", \"Origin\": \"USA\", \"Weight_in_lbs\": 3761, \"Year\": \"1970-01-01\"}, {\"Acceleration\": 10.0, \"Cylinders\": 8, \"Displacement\": 455.0, \"Horsepower\": 225.0, \"Miles_per_Gallon\": 14.0, \"Name\": \"buick estate wagon (sw)\", \"Origin\": \"USA\", \"Weight_in_lbs\": 3086, \"Year\": \"1970-01-01\"}, {\"Acceleration\": 15.0, \"Cylinders\": 4, \"Displacement\": 113.0, \"Horsepower\": 95.0, \"Miles_per_Gallon\": 24.0, \"Name\": \"toyota corona mark ii\", \"Origin\": \"Japan\", \"Weight_in_lbs\": 2372, \"Year\": \"1970-01-01\"}, {\"Acceleration\": 15.5, \"Cylinders\": 6, \"Displacement\": 198.0, \"Horsepower\": 95.0, \"Miles_per_Gallon\": 22.0, \"Name\": \"plymouth duster\", \"Origin\": \"USA\", \"Weight_in_lbs\": 2833, \"Year\": \"1970-01-01\"}, {\"Acceleration\": 15.5, \"Cylinders\": 6, \"Displacement\": 199.0, \"Horsepower\": 97.0, \"Miles_per_Gallon\": 18.0, \"Name\": \"amc hornet\", \"Origin\": \"USA\", \"Weight_in_lbs\": 2774, \"Year\": \"1970-01-01\"}, {\"Acceleration\": 16.0, \"Cylinders\": 6, \"Displacement\": 200.0, \"Horsepower\": 85.0, \"Miles_per_Gallon\": 21.0, \"Name\": \"ford maverick\", \"Origin\": \"USA\", \"Weight_in_lbs\": 2587, \"Year\": \"1970-01-01\"}, {\"Acceleration\": 14.5, \"Cylinders\": 4, \"Displacement\": 97.0, \"Horsepower\": 88.0, \"Miles_per_Gallon\": 27.0, \"Name\": \"datsun pl510\", \"Origin\": \"Japan\", \"Weight_in_lbs\": 2130, \"Year\": \"1970-01-01\"}, {\"Acceleration\": 20.5, \"Cylinders\": 4, \"Displacement\": 97.0, \"Horsepower\": 46.0, \"Miles_per_Gallon\": 26.0, \"Name\": \"volkswagen 1131 deluxe sedan\", \"Origin\": \"Europe\", \"Weight_in_lbs\": 1835, \"Year\": \"1970-01-01\"}, {\"Acceleration\": 17.5, \"Cylinders\": 4, \"Displacement\": 110.0, \"Horsepower\": 87.0, \"Miles_per_Gallon\": 25.0, \"Name\": \"peugeot 504\", \"Origin\": \"Europe\", \"Weight_in_lbs\": 2672, \"Year\": \"1970-01-01\"}, {\"Acceleration\": 14.5, \"Cylinders\": 4, \"Displacement\": 107.0, \"Horsepower\": 90.0, \"Miles_per_Gallon\": 24.0, \"Name\": \"audi 100 ls\", \"Origin\": \"Europe\", \"Weight_in_lbs\": 2430, \"Year\": \"1970-01-01\"}, {\"Acceleration\": 17.5, \"Cylinders\": 4, \"Displacement\": 104.0, \"Horsepower\": 95.0, \"Miles_per_Gallon\": 25.0, \"Name\": \"saab 99e\", \"Origin\": \"Europe\", \"Weight_in_lbs\": 2375, \"Year\": \"1970-01-01\"}, {\"Acceleration\": 12.5, \"Cylinders\": 4, \"Displacement\": 121.0, \"Horsepower\": 113.0, \"Miles_per_Gallon\": 26.0, \"Name\": \"bmw 2002\", \"Origin\": \"Europe\", \"Weight_in_lbs\": 2234, \"Year\": \"1970-01-01\"}, {\"Acceleration\": 15.0, \"Cylinders\": 6, \"Displacement\": 199.0, \"Horsepower\": 90.0, \"Miles_per_Gallon\": 21.0, \"Name\": \"amc gremlin\", \"Origin\": \"USA\", \"Weight_in_lbs\": 2648, \"Year\": \"1970-01-01\"}, {\"Acceleration\": 14.0, \"Cylinders\": 8, \"Displacement\": 360.0, \"Horsepower\": 215.0, \"Miles_per_Gallon\": 10.0, \"Name\": \"ford f250\", \"Origin\": \"USA\", \"Weight_in_lbs\": 4615, \"Year\": \"1970-01-01\"}, {\"Acceleration\": 15.0, \"Cylinders\": 8, \"Displacement\": 307.0, \"Horsepower\": 200.0, \"Miles_per_Gallon\": 10.0, \"Name\": \"chevy c20\", \"Origin\": \"USA\", \"Weight_in_lbs\": 4376, \"Year\": \"1970-01-01\"}, {\"Acceleration\": 13.5, \"Cylinders\": 8, \"Displacement\": 318.0, \"Horsepower\": 210.0, \"Miles_per_Gallon\": 11.0, \"Name\": \"dodge d200\", \"Origin\": \"USA\", \"Weight_in_lbs\": 4382, \"Year\": \"1970-01-01\"}, {\"Acceleration\": 18.5, \"Cylinders\": 8, \"Displacement\": 304.0, \"Horsepower\": 193.0, \"Miles_per_Gallon\": 9.0, \"Name\": \"hi 1200d\", \"Origin\": \"USA\", \"Weight_in_lbs\": 4732, \"Year\": \"1970-01-01\"}, {\"Acceleration\": 14.5, \"Cylinders\": 4, \"Displacement\": 97.0, \"Horsepower\": 88.0, \"Miles_per_Gallon\": 27.0, \"Name\": \"datsun pl510\", \"Origin\": \"Japan\", \"Weight_in_lbs\": 2130, \"Year\": \"1971-01-01\"}, {\"Acceleration\": 15.5, \"Cylinders\": 4, \"Displacement\": 140.0, \"Horsepower\": 90.0, \"Miles_per_Gallon\": 28.0, \"Name\": \"chevrolet vega 2300\", \"Origin\": \"USA\", \"Weight_in_lbs\": 2264, \"Year\": \"1971-01-01\"}, {\"Acceleration\": 14.0, \"Cylinders\": 4, \"Displacement\": 113.0, \"Horsepower\": 95.0, \"Miles_per_Gallon\": 25.0, \"Name\": \"toyota corona\", \"Origin\": \"Japan\", \"Weight_in_lbs\": 2228, \"Year\": \"1971-01-01\"}, {\"Acceleration\": 19.0, \"Cylinders\": 4, \"Displacement\": 98.0, \"Horsepower\": null, \"Miles_per_Gallon\": 25.0, \"Name\": \"ford pinto\", \"Origin\": \"USA\", \"Weight_in_lbs\": 2046, \"Year\": \"1971-01-01\"}, {\"Acceleration\": 20.0, \"Cylinders\": 4, \"Displacement\": 97.0, \"Horsepower\": 48.0, \"Miles_per_Gallon\": null, \"Name\": \"volkswagen super beetle 117\", \"Origin\": \"Europe\", \"Weight_in_lbs\": 1978, \"Year\": \"1971-01-01\"}, {\"Acceleration\": 13.0, \"Cylinders\": 6, \"Displacement\": 232.0, \"Horsepower\": 100.0, \"Miles_per_Gallon\": 19.0, \"Name\": \"amc gremlin\", \"Origin\": \"USA\", \"Weight_in_lbs\": 2634, \"Year\": \"1971-01-01\"}, {\"Acceleration\": 15.5, \"Cylinders\": 6, \"Displacement\": 225.0, \"Horsepower\": 105.0, \"Miles_per_Gallon\": 16.0, \"Name\": \"plymouth satellite custom\", \"Origin\": \"USA\", \"Weight_in_lbs\": 3439, \"Year\": \"1971-01-01\"}, {\"Acceleration\": 15.5, \"Cylinders\": 6, \"Displacement\": 250.0, \"Horsepower\": 100.0, \"Miles_per_Gallon\": 17.0, \"Name\": \"chevrolet chevelle malibu\", \"Origin\": \"USA\", \"Weight_in_lbs\": 3329, \"Year\": \"1971-01-01\"}, {\"Acceleration\": 15.5, \"Cylinders\": 6, \"Displacement\": 250.0, \"Horsepower\": 88.0, \"Miles_per_Gallon\": 19.0, \"Name\": \"ford torino 500\", \"Origin\": \"USA\", \"Weight_in_lbs\": 3302, \"Year\": \"1971-01-01\"}, {\"Acceleration\": 15.5, \"Cylinders\": 6, \"Displacement\": 232.0, \"Horsepower\": 100.0, \"Miles_per_Gallon\": 18.0, \"Name\": \"amc matador\", \"Origin\": \"USA\", \"Weight_in_lbs\": 3288, \"Year\": \"1971-01-01\"}, {\"Acceleration\": 12.0, \"Cylinders\": 8, \"Displacement\": 350.0, \"Horsepower\": 165.0, \"Miles_per_Gallon\": 14.0, \"Name\": \"chevrolet impala\", \"Origin\": \"USA\", \"Weight_in_lbs\": 4209, \"Year\": \"1971-01-01\"}, {\"Acceleration\": 11.5, \"Cylinders\": 8, \"Displacement\": 400.0, \"Horsepower\": 175.0, \"Miles_per_Gallon\": 14.0, \"Name\": \"pontiac catalina brougham\", \"Origin\": \"USA\", \"Weight_in_lbs\": 4464, \"Year\": \"1971-01-01\"}, {\"Acceleration\": 13.5, \"Cylinders\": 8, \"Displacement\": 351.0, \"Horsepower\": 153.0, \"Miles_per_Gallon\": 14.0, \"Name\": \"ford galaxie 500\", \"Origin\": \"USA\", \"Weight_in_lbs\": 4154, \"Year\": \"1971-01-01\"}, {\"Acceleration\": 13.0, \"Cylinders\": 8, \"Displacement\": 318.0, \"Horsepower\": 150.0, \"Miles_per_Gallon\": 14.0, \"Name\": \"plymouth fury iii\", \"Origin\": \"USA\", \"Weight_in_lbs\": 4096, \"Year\": \"1971-01-01\"}, {\"Acceleration\": 11.5, \"Cylinders\": 8, \"Displacement\": 383.0, \"Horsepower\": 180.0, \"Miles_per_Gallon\": 12.0, \"Name\": \"dodge monaco (sw)\", \"Origin\": \"USA\", \"Weight_in_lbs\": 4955, \"Year\": \"1971-01-01\"}, {\"Acceleration\": 12.0, \"Cylinders\": 8, \"Displacement\": 400.0, \"Horsepower\": 170.0, \"Miles_per_Gallon\": 13.0, \"Name\": \"ford country squire (sw)\", \"Origin\": \"USA\", \"Weight_in_lbs\": 4746, \"Year\": \"1971-01-01\"}, {\"Acceleration\": 12.0, \"Cylinders\": 8, \"Displacement\": 400.0, \"Horsepower\": 175.0, \"Miles_per_Gallon\": 13.0, \"Name\": \"pontiac safari (sw)\", \"Origin\": \"USA\", \"Weight_in_lbs\": 5140, \"Year\": \"1971-01-01\"}, {\"Acceleration\": 13.5, \"Cylinders\": 6, \"Displacement\": 258.0, \"Horsepower\": 110.0, \"Miles_per_Gallon\": 18.0, \"Name\": \"amc hornet sportabout (sw)\", \"Origin\": \"USA\", \"Weight_in_lbs\": 2962, \"Year\": \"1971-01-01\"}, {\"Acceleration\": 19.0, \"Cylinders\": 4, \"Displacement\": 140.0, \"Horsepower\": 72.0, \"Miles_per_Gallon\": 22.0, \"Name\": \"chevrolet vega (sw)\", \"Origin\": \"USA\", \"Weight_in_lbs\": 2408, \"Year\": \"1971-01-01\"}, {\"Acceleration\": 15.0, \"Cylinders\": 6, \"Displacement\": 250.0, \"Horsepower\": 100.0, \"Miles_per_Gallon\": 19.0, \"Name\": \"pontiac firebird\", \"Origin\": \"USA\", \"Weight_in_lbs\": 3282, \"Year\": \"1971-01-01\"}, {\"Acceleration\": 14.5, \"Cylinders\": 6, \"Displacement\": 250.0, \"Horsepower\": 88.0, \"Miles_per_Gallon\": 18.0, \"Name\": \"ford mustang\", \"Origin\": \"USA\", \"Weight_in_lbs\": 3139, \"Year\": \"1971-01-01\"}, {\"Acceleration\": 14.0, \"Cylinders\": 4, \"Displacement\": 122.0, \"Horsepower\": 86.0, \"Miles_per_Gallon\": 23.0, \"Name\": \"mercury capri 2000\", \"Origin\": \"USA\", \"Weight_in_lbs\": 2220, \"Year\": \"1971-01-01\"}, {\"Acceleration\": 14.0, \"Cylinders\": 4, \"Displacement\": 116.0, \"Horsepower\": 90.0, \"Miles_per_Gallon\": 28.0, \"Name\": \"opel 1900\", \"Origin\": \"Europe\", \"Weight_in_lbs\": 2123, \"Year\": \"1971-01-01\"}, {\"Acceleration\": 19.5, \"Cylinders\": 4, \"Displacement\": 79.0, \"Horsepower\": 70.0, \"Miles_per_Gallon\": 30.0, \"Name\": \"peugeot 304\", \"Origin\": \"Europe\", \"Weight_in_lbs\": 2074, \"Year\": \"1971-01-01\"}, {\"Acceleration\": 14.5, \"Cylinders\": 4, \"Displacement\": 88.0, \"Horsepower\": 76.0, \"Miles_per_Gallon\": 30.0, \"Name\": \"fiat 124b\", \"Origin\": \"Europe\", \"Weight_in_lbs\": 2065, \"Year\": \"1971-01-01\"}, {\"Acceleration\": 19.0, \"Cylinders\": 4, \"Displacement\": 71.0, \"Horsepower\": 65.0, \"Miles_per_Gallon\": 31.0, \"Name\": \"toyota corolla 1200\", \"Origin\": \"Japan\", \"Weight_in_lbs\": 1773, \"Year\": \"1971-01-01\"}, {\"Acceleration\": 18.0, \"Cylinders\": 4, \"Displacement\": 72.0, \"Horsepower\": 69.0, \"Miles_per_Gallon\": 35.0, \"Name\": \"datsun 1200\", \"Origin\": \"Japan\", \"Weight_in_lbs\": 1613, \"Year\": \"1971-01-01\"}, {\"Acceleration\": 19.0, \"Cylinders\": 4, \"Displacement\": 97.0, \"Horsepower\": 60.0, \"Miles_per_Gallon\": 27.0, \"Name\": \"volkswagen model 111\", \"Origin\": \"Europe\", \"Weight_in_lbs\": 1834, \"Year\": \"1971-01-01\"}, {\"Acceleration\": 20.5, \"Cylinders\": 4, \"Displacement\": 91.0, \"Horsepower\": 70.0, \"Miles_per_Gallon\": 26.0, \"Name\": \"plymouth cricket\", \"Origin\": \"USA\", \"Weight_in_lbs\": 1955, \"Year\": \"1971-01-01\"}, {\"Acceleration\": 15.5, \"Cylinders\": 4, \"Displacement\": 113.0, \"Horsepower\": 95.0, \"Miles_per_Gallon\": 24.0, \"Name\": \"toyota corona hardtop\", \"Origin\": \"Japan\", \"Weight_in_lbs\": 2278, \"Year\": \"1972-01-01\"}, {\"Acceleration\": 17.0, \"Cylinders\": 4, \"Displacement\": 97.5, \"Horsepower\": 80.0, \"Miles_per_Gallon\": 25.0, \"Name\": \"dodge colt hardtop\", \"Origin\": \"USA\", \"Weight_in_lbs\": 2126, \"Year\": \"1972-01-01\"}, {\"Acceleration\": 23.5, \"Cylinders\": 4, \"Displacement\": 97.0, \"Horsepower\": 54.0, \"Miles_per_Gallon\": 23.0, \"Name\": \"volkswagen type 3\", \"Origin\": \"Europe\", \"Weight_in_lbs\": 2254, \"Year\": \"1972-01-01\"}, {\"Acceleration\": 19.5, \"Cylinders\": 4, \"Displacement\": 140.0, \"Horsepower\": 90.0, \"Miles_per_Gallon\": 20.0, \"Name\": \"chevrolet vega\", \"Origin\": \"USA\", \"Weight_in_lbs\": 2408, \"Year\": \"1972-01-01\"}, {\"Acceleration\": 16.5, \"Cylinders\": 4, \"Displacement\": 122.0, \"Horsepower\": 86.0, \"Miles_per_Gallon\": 21.0, \"Name\": \"ford pinto runabout\", \"Origin\": \"USA\", \"Weight_in_lbs\": 2226, \"Year\": \"1972-01-01\"}, {\"Acceleration\": 12.0, \"Cylinders\": 8, \"Displacement\": 350.0, \"Horsepower\": 165.0, \"Miles_per_Gallon\": 13.0, \"Name\": \"chevrolet impala\", \"Origin\": \"USA\", \"Weight_in_lbs\": 4274, \"Year\": \"1972-01-01\"}, {\"Acceleration\": 12.0, \"Cylinders\": 8, \"Displacement\": 400.0, \"Horsepower\": 175.0, \"Miles_per_Gallon\": 14.0, \"Name\": \"pontiac catalina\", \"Origin\": \"USA\", \"Weight_in_lbs\": 4385, \"Year\": \"1972-01-01\"}, {\"Acceleration\": 13.5, \"Cylinders\": 8, \"Displacement\": 318.0, \"Horsepower\": 150.0, \"Miles_per_Gallon\": 15.0, \"Name\": \"plymouth fury iii\", \"Origin\": \"USA\", \"Weight_in_lbs\": 4135, \"Year\": \"1972-01-01\"}, {\"Acceleration\": 13.0, \"Cylinders\": 8, \"Displacement\": 351.0, \"Horsepower\": 153.0, \"Miles_per_Gallon\": 14.0, \"Name\": \"ford galaxie 500\", \"Origin\": \"USA\", \"Weight_in_lbs\": 4129, \"Year\": \"1972-01-01\"}, {\"Acceleration\": 11.5, \"Cylinders\": 8, \"Displacement\": 304.0, \"Horsepower\": 150.0, \"Miles_per_Gallon\": 17.0, \"Name\": \"amc ambassador sst\", \"Origin\": \"USA\", \"Weight_in_lbs\": 3672, \"Year\": \"1972-01-01\"}, {\"Acceleration\": 11.0, \"Cylinders\": 8, \"Displacement\": 429.0, \"Horsepower\": 208.0, \"Miles_per_Gallon\": 11.0, \"Name\": \"mercury marquis\", \"Origin\": \"USA\", \"Weight_in_lbs\": 4633, \"Year\": \"1972-01-01\"}, {\"Acceleration\": 13.5, \"Cylinders\": 8, \"Displacement\": 350.0, \"Horsepower\": 155.0, \"Miles_per_Gallon\": 13.0, \"Name\": \"buick lesabre custom\", \"Origin\": \"USA\", \"Weight_in_lbs\": 4502, \"Year\": \"1972-01-01\"}, {\"Acceleration\": 13.5, \"Cylinders\": 8, \"Displacement\": 350.0, \"Horsepower\": 160.0, \"Miles_per_Gallon\": 12.0, \"Name\": \"oldsmobile delta 88 royale\", \"Origin\": \"USA\", \"Weight_in_lbs\": 4456, \"Year\": \"1972-01-01\"}, {\"Acceleration\": 12.5, \"Cylinders\": 8, \"Displacement\": 400.0, \"Horsepower\": 190.0, \"Miles_per_Gallon\": 13.0, \"Name\": \"chrysler newport royal\", \"Origin\": \"USA\", \"Weight_in_lbs\": 4422, \"Year\": \"1972-01-01\"}, {\"Acceleration\": 13.5, \"Cylinders\": 3, \"Displacement\": 70.0, \"Horsepower\": 97.0, \"Miles_per_Gallon\": 19.0, \"Name\": \"mazda rx2 coupe\", \"Origin\": \"Japan\", \"Weight_in_lbs\": 2330, \"Year\": \"1972-01-01\"}, {\"Acceleration\": 12.5, \"Cylinders\": 8, \"Displacement\": 304.0, \"Horsepower\": 150.0, \"Miles_per_Gallon\": 15.0, \"Name\": \"amc matador (sw)\", \"Origin\": \"USA\", \"Weight_in_lbs\": 3892, \"Year\": \"1972-01-01\"}, {\"Acceleration\": 14.0, \"Cylinders\": 8, \"Displacement\": 307.0, \"Horsepower\": 130.0, \"Miles_per_Gallon\": 13.0, \"Name\": \"chevrolet chevelle concours (sw)\", \"Origin\": \"USA\", \"Weight_in_lbs\": 4098, \"Year\": \"1972-01-01\"}, {\"Acceleration\": 16.0, \"Cylinders\": 8, \"Displacement\": 302.0, \"Horsepower\": 140.0, \"Miles_per_Gallon\": 13.0, \"Name\": \"ford gran torino (sw)\", \"Origin\": \"USA\", \"Weight_in_lbs\": 4294, \"Year\": \"1972-01-01\"}, {\"Acceleration\": 14.0, \"Cylinders\": 8, \"Displacement\": 318.0, \"Horsepower\": 150.0, \"Miles_per_Gallon\": 14.0, \"Name\": \"plymouth satellite custom (sw)\", \"Origin\": \"USA\", \"Weight_in_lbs\": 4077, \"Year\": \"1972-01-01\"}, {\"Acceleration\": 14.5, \"Cylinders\": 4, \"Displacement\": 121.0, \"Horsepower\": 112.0, \"Miles_per_Gallon\": 18.0, \"Name\": \"volvo 145e (sw)\", \"Origin\": \"Europe\", \"Weight_in_lbs\": 2933, \"Year\": \"1972-01-01\"}, {\"Acceleration\": 18.0, \"Cylinders\": 4, \"Displacement\": 121.0, \"Horsepower\": 76.0, \"Miles_per_Gallon\": 22.0, \"Name\": \"volkswagen 411 (sw)\", \"Origin\": \"Europe\", \"Weight_in_lbs\": 2511, \"Year\": \"1972-01-01\"}, {\"Acceleration\": 19.5, \"Cylinders\": 4, \"Displacement\": 120.0, \"Horsepower\": 87.0, \"Miles_per_Gallon\": 21.0, \"Name\": \"peugeot 504 (sw)\", \"Origin\": \"Europe\", \"Weight_in_lbs\": 2979, \"Year\": \"1972-01-01\"}, {\"Acceleration\": 18.0, \"Cylinders\": 4, \"Displacement\": 96.0, \"Horsepower\": 69.0, \"Miles_per_Gallon\": 26.0, \"Name\": \"renault 12 (sw)\", \"Origin\": \"Europe\", \"Weight_in_lbs\": 2189, \"Year\": \"1972-01-01\"}, {\"Acceleration\": 16.0, \"Cylinders\": 4, \"Displacement\": 122.0, \"Horsepower\": 86.0, \"Miles_per_Gallon\": 22.0, \"Name\": \"ford pinto (sw)\", \"Origin\": \"USA\", \"Weight_in_lbs\": 2395, \"Year\": \"1972-01-01\"}, {\"Acceleration\": 17.0, \"Cylinders\": 4, \"Displacement\": 97.0, \"Horsepower\": 92.0, \"Miles_per_Gallon\": 28.0, \"Name\": \"datsun 510 (sw)\", \"Origin\": \"Japan\", \"Weight_in_lbs\": 2288, \"Year\": \"1972-01-01\"}, {\"Acceleration\": 14.5, \"Cylinders\": 4, \"Displacement\": 120.0, \"Horsepower\": 97.0, \"Miles_per_Gallon\": 23.0, \"Name\": \"toyouta corona mark ii (sw)\", \"Origin\": \"Japan\", \"Weight_in_lbs\": 2506, \"Year\": \"1972-01-01\"}, {\"Acceleration\": 15.0, \"Cylinders\": 4, \"Displacement\": 98.0, \"Horsepower\": 80.0, \"Miles_per_Gallon\": 28.0, \"Name\": \"dodge colt (sw)\", \"Origin\": \"USA\", \"Weight_in_lbs\": 2164, \"Year\": \"1972-01-01\"}, {\"Acceleration\": 16.5, \"Cylinders\": 4, \"Displacement\": 97.0, \"Horsepower\": 88.0, \"Miles_per_Gallon\": 27.0, \"Name\": \"toyota corolla 1600 (sw)\", \"Origin\": \"Japan\", \"Weight_in_lbs\": 2100, \"Year\": \"1972-01-01\"}, {\"Acceleration\": 13.0, \"Cylinders\": 8, \"Displacement\": 350.0, \"Horsepower\": 175.0, \"Miles_per_Gallon\": 13.0, \"Name\": \"buick century 350\", \"Origin\": \"USA\", \"Weight_in_lbs\": 4100, \"Year\": \"1973-01-01\"}, {\"Acceleration\": 11.5, \"Cylinders\": 8, \"Displacement\": 304.0, \"Horsepower\": 150.0, \"Miles_per_Gallon\": 14.0, \"Name\": \"amc matador\", \"Origin\": \"USA\", \"Weight_in_lbs\": 3672, \"Year\": \"1973-01-01\"}, {\"Acceleration\": 13.0, \"Cylinders\": 8, \"Displacement\": 350.0, \"Horsepower\": 145.0, \"Miles_per_Gallon\": 13.0, \"Name\": \"chevrolet malibu\", \"Origin\": \"USA\", \"Weight_in_lbs\": 3988, \"Year\": \"1973-01-01\"}, {\"Acceleration\": 14.5, \"Cylinders\": 8, \"Displacement\": 302.0, \"Horsepower\": 137.0, \"Miles_per_Gallon\": 14.0, \"Name\": \"ford gran torino\", \"Origin\": \"USA\", \"Weight_in_lbs\": 4042, \"Year\": \"1973-01-01\"}, {\"Acceleration\": 12.5, \"Cylinders\": 8, \"Displacement\": 318.0, \"Horsepower\": 150.0, \"Miles_per_Gallon\": 15.0, \"Name\": \"dodge coronet custom\", \"Origin\": \"USA\", \"Weight_in_lbs\": 3777, \"Year\": \"1973-01-01\"}, {\"Acceleration\": 11.5, \"Cylinders\": 8, \"Displacement\": 429.0, \"Horsepower\": 198.0, \"Miles_per_Gallon\": 12.0, \"Name\": \"mercury marquis brougham\", \"Origin\": \"USA\", \"Weight_in_lbs\": 4952, \"Year\": \"1973-01-01\"}, {\"Acceleration\": 12.0, \"Cylinders\": 8, \"Displacement\": 400.0, \"Horsepower\": 150.0, \"Miles_per_Gallon\": 13.0, \"Name\": \"chevrolet caprice classic\", \"Origin\": \"USA\", \"Weight_in_lbs\": 4464, \"Year\": \"1973-01-01\"}, {\"Acceleration\": 13.0, \"Cylinders\": 8, \"Displacement\": 351.0, \"Horsepower\": 158.0, \"Miles_per_Gallon\": 13.0, \"Name\": \"ford ltd\", \"Origin\": \"USA\", \"Weight_in_lbs\": 4363, \"Year\": \"1973-01-01\"}, {\"Acceleration\": 14.5, \"Cylinders\": 8, \"Displacement\": 318.0, \"Horsepower\": 150.0, \"Miles_per_Gallon\": 14.0, \"Name\": \"plymouth fury gran sedan\", \"Origin\": \"USA\", \"Weight_in_lbs\": 4237, \"Year\": \"1973-01-01\"}, {\"Acceleration\": 11.0, \"Cylinders\": 8, \"Displacement\": 440.0, \"Horsepower\": 215.0, \"Miles_per_Gallon\": 13.0, \"Name\": \"chrysler new yorker brougham\", \"Origin\": \"USA\", \"Weight_in_lbs\": 4735, \"Year\": \"1973-01-01\"}, {\"Acceleration\": 11.0, \"Cylinders\": 8, \"Displacement\": 455.0, \"Horsepower\": 225.0, \"Miles_per_Gallon\": 12.0, \"Name\": \"buick electra 225 custom\", \"Origin\": \"USA\", \"Weight_in_lbs\": 4951, \"Year\": \"1973-01-01\"}, {\"Acceleration\": 11.0, \"Cylinders\": 8, \"Displacement\": 360.0, \"Horsepower\": 175.0, \"Miles_per_Gallon\": 13.0, \"Name\": \"amc ambassador brougham\", \"Origin\": \"USA\", \"Weight_in_lbs\": 3821, \"Year\": \"1973-01-01\"}, {\"Acceleration\": 16.5, \"Cylinders\": 6, \"Displacement\": 225.0, \"Horsepower\": 105.0, \"Miles_per_Gallon\": 18.0, \"Name\": \"plymouth valiant\", \"Origin\": \"USA\", \"Weight_in_lbs\": 3121, \"Year\": \"1973-01-01\"}, {\"Acceleration\": 18.0, \"Cylinders\": 6, \"Displacement\": 250.0, \"Horsepower\": 100.0, \"Miles_per_Gallon\": 16.0, \"Name\": \"chevrolet nova custom\", \"Origin\": \"USA\", \"Weight_in_lbs\": 3278, \"Year\": \"1973-01-01\"}, {\"Acceleration\": 16.0, \"Cylinders\": 6, \"Displacement\": 232.0, \"Horsepower\": 100.0, \"Miles_per_Gallon\": 18.0, \"Name\": \"amc hornet\", \"Origin\": \"USA\", \"Weight_in_lbs\": 2945, \"Year\": \"1973-01-01\"}, {\"Acceleration\": 16.5, \"Cylinders\": 6, \"Displacement\": 250.0, \"Horsepower\": 88.0, \"Miles_per_Gallon\": 18.0, \"Name\": \"ford maverick\", \"Origin\": \"USA\", \"Weight_in_lbs\": 3021, \"Year\": \"1973-01-01\"}, {\"Acceleration\": 16.0, \"Cylinders\": 6, \"Displacement\": 198.0, \"Horsepower\": 95.0, \"Miles_per_Gallon\": 23.0, \"Name\": \"plymouth duster\", \"Origin\": \"USA\", \"Weight_in_lbs\": 2904, \"Year\": \"1973-01-01\"}, {\"Acceleration\": 21.0, \"Cylinders\": 4, \"Displacement\": 97.0, \"Horsepower\": 46.0, \"Miles_per_Gallon\": 26.0, \"Name\": \"volkswagen super beetle\", \"Origin\": \"Europe\", \"Weight_in_lbs\": 1950, \"Year\": \"1973-01-01\"}, {\"Acceleration\": 14.0, \"Cylinders\": 8, \"Displacement\": 400.0, \"Horsepower\": 150.0, \"Miles_per_Gallon\": 11.0, \"Name\": \"chevrolet impala\", \"Origin\": \"USA\", \"Weight_in_lbs\": 4997, \"Year\": \"1973-01-01\"}, {\"Acceleration\": 12.5, \"Cylinders\": 8, \"Displacement\": 400.0, \"Horsepower\": 167.0, \"Miles_per_Gallon\": 12.0, \"Name\": \"ford country\", \"Origin\": \"USA\", \"Weight_in_lbs\": 4906, \"Year\": \"1973-01-01\"}, {\"Acceleration\": 13.0, \"Cylinders\": 8, \"Displacement\": 360.0, \"Horsepower\": 170.0, \"Miles_per_Gallon\": 13.0, \"Name\": \"plymouth custom suburb\", \"Origin\": \"USA\", \"Weight_in_lbs\": 4654, \"Year\": \"1973-01-01\"}, {\"Acceleration\": 12.5, \"Cylinders\": 8, \"Displacement\": 350.0, \"Horsepower\": 180.0, \"Miles_per_Gallon\": 12.0, \"Name\": \"oldsmobile vista cruiser\", \"Origin\": \"USA\", \"Weight_in_lbs\": 4499, \"Year\": \"1973-01-01\"}, {\"Acceleration\": 15.0, \"Cylinders\": 6, \"Displacement\": 232.0, \"Horsepower\": 100.0, \"Miles_per_Gallon\": 18.0, \"Name\": \"amc gremlin\", \"Origin\": \"USA\", \"Weight_in_lbs\": 2789, \"Year\": \"1973-01-01\"}, {\"Acceleration\": 19.0, \"Cylinders\": 4, \"Displacement\": 97.0, \"Horsepower\": 88.0, \"Miles_per_Gallon\": 20.0, \"Name\": \"toyota carina\", \"Origin\": \"Japan\", \"Weight_in_lbs\": 2279, \"Year\": \"1973-01-01\"}, {\"Acceleration\": 19.5, \"Cylinders\": 4, \"Displacement\": 140.0, \"Horsepower\": 72.0, \"Miles_per_Gallon\": 21.0, \"Name\": \"chevrolet vega\", \"Origin\": \"USA\", \"Weight_in_lbs\": 2401, \"Year\": \"1973-01-01\"}, {\"Acceleration\": 16.5, \"Cylinders\": 4, \"Displacement\": 108.0, \"Horsepower\": 94.0, \"Miles_per_Gallon\": 22.0, \"Name\": \"datsun 610\", \"Origin\": \"Japan\", \"Weight_in_lbs\": 2379, \"Year\": \"1973-01-01\"}, {\"Acceleration\": 13.5, \"Cylinders\": 3, \"Displacement\": 70.0, \"Horsepower\": 90.0, \"Miles_per_Gallon\": 18.0, \"Name\": \"maxda rx3\", \"Origin\": \"Japan\", \"Weight_in_lbs\": 2124, \"Year\": \"1973-01-01\"}, {\"Acceleration\": 18.5, \"Cylinders\": 4, \"Displacement\": 122.0, \"Horsepower\": 85.0, \"Miles_per_Gallon\": 19.0, \"Name\": \"ford pinto\", \"Origin\": \"USA\", \"Weight_in_lbs\": 2310, \"Year\": \"1973-01-01\"}, {\"Acceleration\": 14.0, \"Cylinders\": 6, \"Displacement\": 155.0, \"Horsepower\": 107.0, \"Miles_per_Gallon\": 21.0, \"Name\": \"mercury capri v6\", \"Origin\": \"USA\", \"Weight_in_lbs\": 2472, \"Year\": \"1973-01-01\"}, {\"Acceleration\": 15.5, \"Cylinders\": 4, \"Displacement\": 98.0, \"Horsepower\": 90.0, \"Miles_per_Gallon\": 26.0, \"Name\": \"fiat 124 sport coupe\", \"Origin\": \"Europe\", \"Weight_in_lbs\": 2265, \"Year\": \"1973-01-01\"}, {\"Acceleration\": 13.0, \"Cylinders\": 8, \"Displacement\": 350.0, \"Horsepower\": 145.0, \"Miles_per_Gallon\": 15.0, \"Name\": \"chevrolet monte carlo s\", \"Origin\": \"USA\", \"Weight_in_lbs\": 4082, \"Year\": \"1973-01-01\"}, {\"Acceleration\": 9.5, \"Cylinders\": 8, \"Displacement\": 400.0, \"Horsepower\": 230.0, \"Miles_per_Gallon\": 16.0, \"Name\": \"pontiac grand prix\", \"Origin\": \"USA\", \"Weight_in_lbs\": 4278, \"Year\": \"1973-01-01\"}, {\"Acceleration\": 19.5, \"Cylinders\": 4, \"Displacement\": 68.0, \"Horsepower\": 49.0, \"Miles_per_Gallon\": 29.0, \"Name\": \"fiat 128\", \"Origin\": \"Europe\", \"Weight_in_lbs\": 1867, \"Year\": \"1973-01-01\"}, {\"Acceleration\": 15.5, \"Cylinders\": 4, \"Displacement\": 116.0, \"Horsepower\": 75.0, \"Miles_per_Gallon\": 24.0, \"Name\": \"opel manta\", \"Origin\": \"Europe\", \"Weight_in_lbs\": 2158, \"Year\": \"1973-01-01\"}, {\"Acceleration\": 14.0, \"Cylinders\": 4, \"Displacement\": 114.0, \"Horsepower\": 91.0, \"Miles_per_Gallon\": 20.0, \"Name\": \"audi 100ls\", \"Origin\": \"Europe\", \"Weight_in_lbs\": 2582, \"Year\": \"1973-01-01\"}, {\"Acceleration\": 15.5, \"Cylinders\": 4, \"Displacement\": 121.0, \"Horsepower\": 112.0, \"Miles_per_Gallon\": 19.0, \"Name\": \"volvo 144ea\", \"Origin\": \"Europe\", \"Weight_in_lbs\": 2868, \"Year\": \"1973-01-01\"}, {\"Acceleration\": 11.0, \"Cylinders\": 8, \"Displacement\": 318.0, \"Horsepower\": 150.0, \"Miles_per_Gallon\": 15.0, \"Name\": \"dodge dart custom\", \"Origin\": \"USA\", \"Weight_in_lbs\": 3399, \"Year\": \"1973-01-01\"}, {\"Acceleration\": 14.0, \"Cylinders\": 4, \"Displacement\": 121.0, \"Horsepower\": 110.0, \"Miles_per_Gallon\": 24.0, \"Name\": \"saab 99le\", \"Origin\": \"Europe\", \"Weight_in_lbs\": 2660, \"Year\": \"1973-01-01\"}, {\"Acceleration\": 13.5, \"Cylinders\": 6, \"Displacement\": 156.0, \"Horsepower\": 122.0, \"Miles_per_Gallon\": 20.0, \"Name\": \"toyota mark ii\", \"Origin\": \"Japan\", \"Weight_in_lbs\": 2807, \"Year\": \"1973-01-01\"}, {\"Acceleration\": 11.0, \"Cylinders\": 8, \"Displacement\": 350.0, \"Horsepower\": 180.0, \"Miles_per_Gallon\": 11.0, \"Name\": \"oldsmobile omega\", \"Origin\": \"USA\", \"Weight_in_lbs\": 3664, \"Year\": \"1973-01-01\"}, {\"Acceleration\": 16.5, \"Cylinders\": 6, \"Displacement\": 198.0, \"Horsepower\": 95.0, \"Miles_per_Gallon\": 20.0, \"Name\": \"plymouth duster\", \"Origin\": \"USA\", \"Weight_in_lbs\": 3102, \"Year\": \"1974-01-01\"}, {\"Acceleration\": 17.0, \"Cylinders\": 6, \"Displacement\": 200.0, \"Horsepower\": null, \"Miles_per_Gallon\": 21.0, \"Name\": \"ford maverick\", \"Origin\": \"USA\", \"Weight_in_lbs\": 2875, \"Year\": \"1974-01-01\"}, {\"Acceleration\": 16.0, \"Cylinders\": 6, \"Displacement\": 232.0, \"Horsepower\": 100.0, \"Miles_per_Gallon\": 19.0, \"Name\": \"amc hornet\", \"Origin\": \"USA\", \"Weight_in_lbs\": 2901, \"Year\": \"1974-01-01\"}, {\"Acceleration\": 17.0, \"Cylinders\": 6, \"Displacement\": 250.0, \"Horsepower\": 100.0, \"Miles_per_Gallon\": 15.0, \"Name\": \"chevrolet nova\", \"Origin\": \"USA\", \"Weight_in_lbs\": 3336, \"Year\": \"1974-01-01\"}, {\"Acceleration\": 19.0, \"Cylinders\": 4, \"Displacement\": 79.0, \"Horsepower\": 67.0, \"Miles_per_Gallon\": 31.0, \"Name\": \"datsun b210\", \"Origin\": \"Japan\", \"Weight_in_lbs\": 1950, \"Year\": \"1974-01-01\"}, {\"Acceleration\": 16.5, \"Cylinders\": 4, \"Displacement\": 122.0, \"Horsepower\": 80.0, \"Miles_per_Gallon\": 26.0, \"Name\": \"ford pinto\", \"Origin\": \"USA\", \"Weight_in_lbs\": 2451, \"Year\": \"1974-01-01\"}, {\"Acceleration\": 21.0, \"Cylinders\": 4, \"Displacement\": 71.0, \"Horsepower\": 65.0, \"Miles_per_Gallon\": 32.0, \"Name\": \"toyota corolla 1200\", \"Origin\": \"Japan\", \"Weight_in_lbs\": 1836, \"Year\": \"1974-01-01\"}, {\"Acceleration\": 17.0, \"Cylinders\": 4, \"Displacement\": 140.0, \"Horsepower\": 75.0, \"Miles_per_Gallon\": 25.0, \"Name\": \"chevrolet vega\", \"Origin\": \"USA\", \"Weight_in_lbs\": 2542, \"Year\": \"1974-01-01\"}, {\"Acceleration\": 17.0, \"Cylinders\": 6, \"Displacement\": 250.0, \"Horsepower\": 100.0, \"Miles_per_Gallon\": 16.0, \"Name\": \"chevrolet chevelle malibu classic\", \"Origin\": \"USA\", \"Weight_in_lbs\": 3781, \"Year\": \"1974-01-01\"}, {\"Acceleration\": 18.0, \"Cylinders\": 6, \"Displacement\": 258.0, \"Horsepower\": 110.0, \"Miles_per_Gallon\": 16.0, \"Name\": \"amc matador\", \"Origin\": \"USA\", \"Weight_in_lbs\": 3632, \"Year\": \"1974-01-01\"}, {\"Acceleration\": 16.5, \"Cylinders\": 6, \"Displacement\": 225.0, \"Horsepower\": 105.0, \"Miles_per_Gallon\": 18.0, \"Name\": \"plymouth satellite sebring\", \"Origin\": \"USA\", \"Weight_in_lbs\": 3613, \"Year\": \"1974-01-01\"}, {\"Acceleration\": 14.0, \"Cylinders\": 8, \"Displacement\": 302.0, \"Horsepower\": 140.0, \"Miles_per_Gallon\": 16.0, \"Name\": \"ford gran torino\", \"Origin\": \"USA\", \"Weight_in_lbs\": 4141, \"Year\": \"1974-01-01\"}, {\"Acceleration\": 14.5, \"Cylinders\": 8, \"Displacement\": 350.0, \"Horsepower\": 150.0, \"Miles_per_Gallon\": 13.0, \"Name\": \"buick century luxus (sw)\", \"Origin\": \"USA\", \"Weight_in_lbs\": 4699, \"Year\": \"1974-01-01\"}, {\"Acceleration\": 13.5, \"Cylinders\": 8, \"Displacement\": 318.0, \"Horsepower\": 150.0, \"Miles_per_Gallon\": 14.0, \"Name\": \"dodge coronet custom (sw)\", \"Origin\": \"USA\", \"Weight_in_lbs\": 4457, \"Year\": \"1974-01-01\"}, {\"Acceleration\": 16.0, \"Cylinders\": 8, \"Displacement\": 302.0, \"Horsepower\": 140.0, \"Miles_per_Gallon\": 14.0, \"Name\": \"ford gran torino (sw)\", \"Origin\": \"USA\", \"Weight_in_lbs\": 4638, \"Year\": \"1974-01-01\"}, {\"Acceleration\": 15.5, \"Cylinders\": 8, \"Displacement\": 304.0, \"Horsepower\": 150.0, \"Miles_per_Gallon\": 14.0, \"Name\": \"amc matador (sw)\", \"Origin\": \"USA\", \"Weight_in_lbs\": 4257, \"Year\": \"1974-01-01\"}, {\"Acceleration\": 16.5, \"Cylinders\": 4, \"Displacement\": 98.0, \"Horsepower\": 83.0, \"Miles_per_Gallon\": 29.0, \"Name\": \"audi fox\", \"Origin\": \"Europe\", \"Weight_in_lbs\": 2219, \"Year\": \"1974-01-01\"}, {\"Acceleration\": 15.5, \"Cylinders\": 4, \"Displacement\": 79.0, \"Horsepower\": 67.0, \"Miles_per_Gallon\": 26.0, \"Name\": \"volkswagen dasher\", \"Origin\": \"Europe\", \"Weight_in_lbs\": 1963, \"Year\": \"1974-01-01\"}, {\"Acceleration\": 14.5, \"Cylinders\": 4, \"Displacement\": 97.0, \"Horsepower\": 78.0, \"Miles_per_Gallon\": 26.0, \"Name\": \"opel manta\", \"Origin\": \"Europe\", \"Weight_in_lbs\": 2300, \"Year\": \"1974-01-01\"}, {\"Acceleration\": 16.5, \"Cylinders\": 4, \"Displacement\": 76.0, \"Horsepower\": 52.0, \"Miles_per_Gallon\": 31.0, \"Name\": \"toyota corona\", \"Origin\": \"Japan\", \"Weight_in_lbs\": 1649, \"Year\": \"1974-01-01\"}, {\"Acceleration\": 19.0, \"Cylinders\": 4, \"Displacement\": 83.0, \"Horsepower\": 61.0, \"Miles_per_Gallon\": 32.0, \"Name\": \"datsun 710\", \"Origin\": \"Japan\", \"Weight_in_lbs\": 2003, \"Year\": \"1974-01-01\"}, {\"Acceleration\": 14.5, \"Cylinders\": 4, \"Displacement\": 90.0, \"Horsepower\": 75.0, \"Miles_per_Gallon\": 28.0, \"Name\": \"dodge colt\", \"Origin\": \"USA\", \"Weight_in_lbs\": 2125, \"Year\": \"1974-01-01\"}, {\"Acceleration\": 15.5, \"Cylinders\": 4, \"Displacement\": 90.0, \"Horsepower\": 75.0, \"Miles_per_Gallon\": 24.0, \"Name\": \"fiat 128\", \"Origin\": \"Europe\", \"Weight_in_lbs\": 2108, \"Year\": \"1974-01-01\"}, {\"Acceleration\": 14.0, \"Cylinders\": 4, \"Displacement\": 116.0, \"Horsepower\": 75.0, \"Miles_per_Gallon\": 26.0, \"Name\": \"fiat 124 tc\", \"Origin\": \"Europe\", \"Weight_in_lbs\": 2246, \"Year\": \"1974-01-01\"}, {\"Acceleration\": 15.0, \"Cylinders\": 4, \"Displacement\": 120.0, \"Horsepower\": 97.0, \"Miles_per_Gallon\": 24.0, \"Name\": \"honda civic\", \"Origin\": \"Japan\", \"Weight_in_lbs\": 2489, \"Year\": \"1974-01-01\"}, {\"Acceleration\": 15.5, \"Cylinders\": 4, \"Displacement\": 108.0, \"Horsepower\": 93.0, \"Miles_per_Gallon\": 26.0, \"Name\": \"subaru\", \"Origin\": \"Japan\", \"Weight_in_lbs\": 2391, \"Year\": \"1974-01-01\"}, {\"Acceleration\": 16.0, \"Cylinders\": 4, \"Displacement\": 79.0, \"Horsepower\": 67.0, \"Miles_per_Gallon\": 31.0, \"Name\": \"fiat x1.9\", \"Origin\": \"Europe\", \"Weight_in_lbs\": 2000, \"Year\": \"1974-01-01\"}, {\"Acceleration\": 16.0, \"Cylinders\": 6, \"Displacement\": 225.0, \"Horsepower\": 95.0, \"Miles_per_Gallon\": 19.0, \"Name\": \"plymouth valiant custom\", \"Origin\": \"USA\", \"Weight_in_lbs\": 3264, \"Year\": \"1975-01-01\"}, {\"Acceleration\": 16.0, \"Cylinders\": 6, \"Displacement\": 250.0, \"Horsepower\": 105.0, \"Miles_per_Gallon\": 18.0, \"Name\": \"chevrolet nova\", \"Origin\": \"USA\", \"Weight_in_lbs\": 3459, \"Year\": \"1975-01-01\"}, {\"Acceleration\": 21.0, \"Cylinders\": 6, \"Displacement\": 250.0, \"Horsepower\": 72.0, \"Miles_per_Gallon\": 15.0, \"Name\": \"mercury monarch\", \"Origin\": \"USA\", \"Weight_in_lbs\": 3432, \"Year\": \"1975-01-01\"}, {\"Acceleration\": 19.5, \"Cylinders\": 6, \"Displacement\": 250.0, \"Horsepower\": 72.0, \"Miles_per_Gallon\": 15.0, \"Name\": \"ford maverick\", \"Origin\": \"USA\", \"Weight_in_lbs\": 3158, \"Year\": \"1975-01-01\"}, {\"Acceleration\": 11.5, \"Cylinders\": 8, \"Displacement\": 400.0, \"Horsepower\": 170.0, \"Miles_per_Gallon\": 16.0, \"Name\": \"pontiac catalina\", \"Origin\": \"USA\", \"Weight_in_lbs\": 4668, \"Year\": \"1975-01-01\"}, {\"Acceleration\": 14.0, \"Cylinders\": 8, \"Displacement\": 350.0, \"Horsepower\": 145.0, \"Miles_per_Gallon\": 15.0, \"Name\": \"chevrolet bel air\", \"Origin\": \"USA\", \"Weight_in_lbs\": 4440, \"Year\": \"1975-01-01\"}, {\"Acceleration\": 14.5, \"Cylinders\": 8, \"Displacement\": 318.0, \"Horsepower\": 150.0, \"Miles_per_Gallon\": 16.0, \"Name\": \"plymouth grand fury\", \"Origin\": \"USA\", \"Weight_in_lbs\": 4498, \"Year\": \"1975-01-01\"}, {\"Acceleration\": 13.5, \"Cylinders\": 8, \"Displacement\": 351.0, \"Horsepower\": 148.0, \"Miles_per_Gallon\": 14.0, \"Name\": \"ford ltd\", \"Origin\": \"USA\", \"Weight_in_lbs\": 4657, \"Year\": \"1975-01-01\"}, {\"Acceleration\": 21.0, \"Cylinders\": 6, \"Displacement\": 231.0, \"Horsepower\": 110.0, \"Miles_per_Gallon\": 17.0, \"Name\": \"buick century\", \"Origin\": \"USA\", \"Weight_in_lbs\": 3907, \"Year\": \"1975-01-01\"}, {\"Acceleration\": 18.5, \"Cylinders\": 6, \"Displacement\": 250.0, \"Horsepower\": 105.0, \"Miles_per_Gallon\": 16.0, \"Name\": \"chevroelt chevelle malibu\", \"Origin\": \"USA\", \"Weight_in_lbs\": 3897, \"Year\": \"1975-01-01\"}, {\"Acceleration\": 19.0, \"Cylinders\": 6, \"Displacement\": 258.0, \"Horsepower\": 110.0, \"Miles_per_Gallon\": 15.0, \"Name\": \"amc matador\", \"Origin\": \"USA\", \"Weight_in_lbs\": 3730, \"Year\": \"1975-01-01\"}, {\"Acceleration\": 19.0, \"Cylinders\": 6, \"Displacement\": 225.0, \"Horsepower\": 95.0, \"Miles_per_Gallon\": 18.0, \"Name\": \"plymouth fury\", \"Origin\": \"USA\", \"Weight_in_lbs\": 3785, \"Year\": \"1975-01-01\"}, {\"Acceleration\": 15.0, \"Cylinders\": 6, \"Displacement\": 231.0, \"Horsepower\": 110.0, \"Miles_per_Gallon\": 21.0, \"Name\": \"buick skyhawk\", \"Origin\": \"USA\", \"Weight_in_lbs\": 3039, \"Year\": \"1975-01-01\"}, {\"Acceleration\": 13.5, \"Cylinders\": 8, \"Displacement\": 262.0, \"Horsepower\": 110.0, \"Miles_per_Gallon\": 20.0, \"Name\": \"chevrolet monza 2+2\", \"Origin\": \"USA\", \"Weight_in_lbs\": 3221, \"Year\": \"1975-01-01\"}, {\"Acceleration\": 12.0, \"Cylinders\": 8, \"Displacement\": 302.0, \"Horsepower\": 129.0, \"Miles_per_Gallon\": 13.0, \"Name\": \"ford mustang ii\", \"Origin\": \"USA\", \"Weight_in_lbs\": 3169, \"Year\": \"1975-01-01\"}, {\"Acceleration\": 16.0, \"Cylinders\": 4, \"Displacement\": 97.0, \"Horsepower\": 75.0, \"Miles_per_Gallon\": 29.0, \"Name\": \"toyota corolla\", \"Origin\": \"Japan\", \"Weight_in_lbs\": 2171, \"Year\": \"1975-01-01\"}, {\"Acceleration\": 17.0, \"Cylinders\": 4, \"Displacement\": 140.0, \"Horsepower\": 83.0, \"Miles_per_Gallon\": 23.0, \"Name\": \"ford pinto\", \"Origin\": \"USA\", \"Weight_in_lbs\": 2639, \"Year\": \"1975-01-01\"}, {\"Acceleration\": 16.0, \"Cylinders\": 6, \"Displacement\": 232.0, \"Horsepower\": 100.0, \"Miles_per_Gallon\": 20.0, \"Name\": \"amc gremlin\", \"Origin\": \"USA\", \"Weight_in_lbs\": 2914, \"Year\": \"1975-01-01\"}, {\"Acceleration\": 18.5, \"Cylinders\": 4, \"Displacement\": 140.0, \"Horsepower\": 78.0, \"Miles_per_Gallon\": 23.0, \"Name\": \"pontiac astro\", \"Origin\": \"USA\", \"Weight_in_lbs\": 2592, \"Year\": \"1975-01-01\"}, {\"Acceleration\": 13.5, \"Cylinders\": 4, \"Displacement\": 134.0, \"Horsepower\": 96.0, \"Miles_per_Gallon\": 24.0, \"Name\": \"toyota corona\", \"Origin\": \"Japan\", \"Weight_in_lbs\": 2702, \"Year\": \"1975-01-01\"}, {\"Acceleration\": 16.5, \"Cylinders\": 4, \"Displacement\": 90.0, \"Horsepower\": 71.0, \"Miles_per_Gallon\": 25.0, \"Name\": \"volkswagen dasher\", \"Origin\": \"Europe\", \"Weight_in_lbs\": 2223, \"Year\": \"1975-01-01\"}, {\"Acceleration\": 17.0, \"Cylinders\": 4, \"Displacement\": 119.0, \"Horsepower\": 97.0, \"Miles_per_Gallon\": 24.0, \"Name\": \"datsun 710\", \"Origin\": \"Japan\", \"Weight_in_lbs\": 2545, \"Year\": \"1975-01-01\"}, {\"Acceleration\": 14.5, \"Cylinders\": 6, \"Displacement\": 171.0, \"Horsepower\": 97.0, \"Miles_per_Gallon\": 18.0, \"Name\": \"ford pinto\", \"Origin\": \"USA\", \"Weight_in_lbs\": 2984, \"Year\": \"1975-01-01\"}, {\"Acceleration\": 14.0, \"Cylinders\": 4, \"Displacement\": 90.0, \"Horsepower\": 70.0, \"Miles_per_Gallon\": 29.0, \"Name\": \"volkswagen rabbit\", \"Origin\": \"Europe\", \"Weight_in_lbs\": 1937, \"Year\": \"1975-01-01\"}, {\"Acceleration\": 17.0, \"Cylinders\": 6, \"Displacement\": 232.0, \"Horsepower\": 90.0, \"Miles_per_Gallon\": 19.0, \"Name\": \"amc pacer\", \"Origin\": \"USA\", \"Weight_in_lbs\": 3211, \"Year\": \"1975-01-01\"}, {\"Acceleration\": 15.0, \"Cylinders\": 4, \"Displacement\": 115.0, \"Horsepower\": 95.0, \"Miles_per_Gallon\": 23.0, \"Name\": \"audi 100ls\", \"Origin\": \"Europe\", \"Weight_in_lbs\": 2694, \"Year\": \"1975-01-01\"}, {\"Acceleration\": 17.0, \"Cylinders\": 4, \"Displacement\": 120.0, \"Horsepower\": 88.0, \"Miles_per_Gallon\": 23.0, \"Name\": \"peugeot 504\", \"Origin\": \"Europe\", \"Weight_in_lbs\": 2957, \"Year\": \"1975-01-01\"}, {\"Acceleration\": 14.5, \"Cylinders\": 4, \"Displacement\": 121.0, \"Horsepower\": 98.0, \"Miles_per_Gallon\": 22.0, \"Name\": \"volvo 244dl\", \"Origin\": \"Europe\", \"Weight_in_lbs\": 2945, \"Year\": \"1975-01-01\"}, {\"Acceleration\": 13.5, \"Cylinders\": 4, \"Displacement\": 121.0, \"Horsepower\": 115.0, \"Miles_per_Gallon\": 25.0, \"Name\": \"saab 99le\", \"Origin\": \"Europe\", \"Weight_in_lbs\": 2671, \"Year\": \"1975-01-01\"}, {\"Acceleration\": 17.5, \"Cylinders\": 4, \"Displacement\": 91.0, \"Horsepower\": 53.0, \"Miles_per_Gallon\": 33.0, \"Name\": \"honda civic cvcc\", \"Origin\": \"Japan\", \"Weight_in_lbs\": 1795, \"Year\": \"1975-01-01\"}, {\"Acceleration\": 15.5, \"Cylinders\": 4, \"Displacement\": 107.0, \"Horsepower\": 86.0, \"Miles_per_Gallon\": 28.0, \"Name\": \"fiat 131\", \"Origin\": \"Europe\", \"Weight_in_lbs\": 2464, \"Year\": \"1976-01-01\"}, {\"Acceleration\": 16.9, \"Cylinders\": 4, \"Displacement\": 116.0, \"Horsepower\": 81.0, \"Miles_per_Gallon\": 25.0, \"Name\": \"opel 1900\", \"Origin\": \"Europe\", \"Weight_in_lbs\": 2220, \"Year\": \"1976-01-01\"}, {\"Acceleration\": 14.9, \"Cylinders\": 4, \"Displacement\": 140.0, \"Horsepower\": 92.0, \"Miles_per_Gallon\": 25.0, \"Name\": \"capri ii\", \"Origin\": \"USA\", \"Weight_in_lbs\": 2572, \"Year\": \"1976-01-01\"}, {\"Acceleration\": 17.7, \"Cylinders\": 4, \"Displacement\": 98.0, \"Horsepower\": 79.0, \"Miles_per_Gallon\": 26.0, \"Name\": \"dodge colt\", \"Origin\": \"USA\", \"Weight_in_lbs\": 2255, \"Year\": \"1976-01-01\"}, {\"Acceleration\": 15.3, \"Cylinders\": 4, \"Displacement\": 101.0, \"Horsepower\": 83.0, \"Miles_per_Gallon\": 27.0, \"Name\": \"renault 12tl\", \"Origin\": \"Europe\", \"Weight_in_lbs\": 2202, \"Year\": \"1976-01-01\"}, {\"Acceleration\": 13.0, \"Cylinders\": 8, \"Displacement\": 305.0, \"Horsepower\": 140.0, \"Miles_per_Gallon\": 17.5, \"Name\": \"chevrolet chevelle malibu classic\", \"Origin\": \"USA\", \"Weight_in_lbs\": 4215, \"Year\": \"1976-01-01\"}, {\"Acceleration\": 13.0, \"Cylinders\": 8, \"Displacement\": 318.0, \"Horsepower\": 150.0, \"Miles_per_Gallon\": 16.0, \"Name\": \"dodge coronet brougham\", \"Origin\": \"USA\", \"Weight_in_lbs\": 4190, \"Year\": \"1976-01-01\"}, {\"Acceleration\": 13.9, \"Cylinders\": 8, \"Displacement\": 304.0, \"Horsepower\": 120.0, \"Miles_per_Gallon\": 15.5, \"Name\": \"amc matador\", \"Origin\": \"USA\", \"Weight_in_lbs\": 3962, \"Year\": \"1976-01-01\"}, {\"Acceleration\": 12.8, \"Cylinders\": 8, \"Displacement\": 351.0, \"Horsepower\": 152.0, \"Miles_per_Gallon\": 14.5, \"Name\": \"ford gran torino\", \"Origin\": \"USA\", \"Weight_in_lbs\": 4215, \"Year\": \"1976-01-01\"}, {\"Acceleration\": 15.4, \"Cylinders\": 6, \"Displacement\": 225.0, \"Horsepower\": 100.0, \"Miles_per_Gallon\": 22.0, \"Name\": \"plymouth valiant\", \"Origin\": \"USA\", \"Weight_in_lbs\": 3233, \"Year\": \"1976-01-01\"}, {\"Acceleration\": 14.5, \"Cylinders\": 6, \"Displacement\": 250.0, \"Horsepower\": 105.0, \"Miles_per_Gallon\": 22.0, \"Name\": \"chevrolet nova\", \"Origin\": \"USA\", \"Weight_in_lbs\": 3353, \"Year\": \"1976-01-01\"}, {\"Acceleration\": 17.6, \"Cylinders\": 6, \"Displacement\": 200.0, \"Horsepower\": 81.0, \"Miles_per_Gallon\": 24.0, \"Name\": \"ford maverick\", \"Origin\": \"USA\", \"Weight_in_lbs\": 3012, \"Year\": \"1976-01-01\"}, {\"Acceleration\": 17.6, \"Cylinders\": 6, \"Displacement\": 232.0, \"Horsepower\": 90.0, \"Miles_per_Gallon\": 22.5, \"Name\": \"amc hornet\", \"Origin\": \"USA\", \"Weight_in_lbs\": 3085, \"Year\": \"1976-01-01\"}, {\"Acceleration\": 22.2, \"Cylinders\": 4, \"Displacement\": 85.0, \"Horsepower\": 52.0, \"Miles_per_Gallon\": 29.0, \"Name\": \"chevrolet chevette\", \"Origin\": \"USA\", \"Weight_in_lbs\": 2035, \"Year\": \"1976-01-01\"}, {\"Acceleration\": 22.1, \"Cylinders\": 4, \"Displacement\": 98.0, \"Horsepower\": 60.0, \"Miles_per_Gallon\": 24.5, \"Name\": \"chevrolet woody\", \"Origin\": \"USA\", \"Weight_in_lbs\": 2164, \"Year\": \"1976-01-01\"}, {\"Acceleration\": 14.2, \"Cylinders\": 4, \"Displacement\": 90.0, \"Horsepower\": 70.0, \"Miles_per_Gallon\": 29.0, \"Name\": \"vw rabbit\", \"Origin\": \"Europe\", \"Weight_in_lbs\": 1937, \"Year\": \"1976-01-01\"}, {\"Acceleration\": 17.4, \"Cylinders\": 4, \"Displacement\": 91.0, \"Horsepower\": 53.0, \"Miles_per_Gallon\": 33.0, \"Name\": \"honda civic\", \"Origin\": \"Japan\", \"Weight_in_lbs\": 1795, \"Year\": \"1976-01-01\"}, {\"Acceleration\": 17.7, \"Cylinders\": 6, \"Displacement\": 225.0, \"Horsepower\": 100.0, \"Miles_per_Gallon\": 20.0, \"Name\": \"dodge aspen se\", \"Origin\": \"USA\", \"Weight_in_lbs\": 3651, \"Year\": \"1976-01-01\"}, {\"Acceleration\": 21.0, \"Cylinders\": 6, \"Displacement\": 250.0, \"Horsepower\": 78.0, \"Miles_per_Gallon\": 18.0, \"Name\": \"ford granada ghia\", \"Origin\": \"USA\", \"Weight_in_lbs\": 3574, \"Year\": \"1976-01-01\"}, {\"Acceleration\": 16.2, \"Cylinders\": 6, \"Displacement\": 250.0, \"Horsepower\": 110.0, \"Miles_per_Gallon\": 18.5, \"Name\": \"pontiac ventura sj\", \"Origin\": \"USA\", \"Weight_in_lbs\": 3645, \"Year\": \"1976-01-01\"}, {\"Acceleration\": 17.8, \"Cylinders\": 6, \"Displacement\": 258.0, \"Horsepower\": 95.0, \"Miles_per_Gallon\": 17.5, \"Name\": \"amc pacer d/l\", \"Origin\": \"USA\", \"Weight_in_lbs\": 3193, \"Year\": \"1976-01-01\"}, {\"Acceleration\": 12.2, \"Cylinders\": 4, \"Displacement\": 97.0, \"Horsepower\": 71.0, \"Miles_per_Gallon\": 29.5, \"Name\": \"volkswagen rabbit\", \"Origin\": \"Europe\", \"Weight_in_lbs\": 1825, \"Year\": \"1976-01-01\"}, {\"Acceleration\": 17.0, \"Cylinders\": 4, \"Displacement\": 85.0, \"Horsepower\": 70.0, \"Miles_per_Gallon\": 32.0, \"Name\": \"datsun b-210\", \"Origin\": \"Japan\", \"Weight_in_lbs\": 1990, \"Year\": \"1976-01-01\"}, {\"Acceleration\": 16.4, \"Cylinders\": 4, \"Displacement\": 97.0, \"Horsepower\": 75.0, \"Miles_per_Gallon\": 28.0, \"Name\": \"toyota corolla\", \"Origin\": \"Japan\", \"Weight_in_lbs\": 2155, \"Year\": \"1976-01-01\"}, {\"Acceleration\": 13.6, \"Cylinders\": 4, \"Displacement\": 140.0, \"Horsepower\": 72.0, \"Miles_per_Gallon\": 26.5, \"Name\": \"ford pinto\", \"Origin\": \"USA\", \"Weight_in_lbs\": 2565, \"Year\": \"1976-01-01\"}, {\"Acceleration\": 15.7, \"Cylinders\": 4, \"Displacement\": 130.0, \"Horsepower\": 102.0, \"Miles_per_Gallon\": 20.0, \"Name\": \"volvo 245\", \"Origin\": \"Europe\", \"Weight_in_lbs\": 3150, \"Year\": \"1976-01-01\"}, {\"Acceleration\": 13.2, \"Cylinders\": 8, \"Displacement\": 318.0, \"Horsepower\": 150.0, \"Miles_per_Gallon\": 13.0, \"Name\": \"plymouth volare premier v8\", \"Origin\": \"USA\", \"Weight_in_lbs\": 3940, \"Year\": \"1976-01-01\"}, {\"Acceleration\": 21.9, \"Cylinders\": 4, \"Displacement\": 120.0, \"Horsepower\": 88.0, \"Miles_per_Gallon\": 19.0, \"Name\": \"peugeot 504\", \"Origin\": \"Europe\", \"Weight_in_lbs\": 3270, \"Year\": \"1976-01-01\"}, {\"Acceleration\": 15.5, \"Cylinders\": 6, \"Displacement\": 156.0, \"Horsepower\": 108.0, \"Miles_per_Gallon\": 19.0, \"Name\": \"toyota mark ii\", \"Origin\": \"Japan\", \"Weight_in_lbs\": 2930, \"Year\": \"1976-01-01\"}, {\"Acceleration\": 16.7, \"Cylinders\": 6, \"Displacement\": 168.0, \"Horsepower\": 120.0, \"Miles_per_Gallon\": 16.5, \"Name\": \"mercedes-benz 280s\", \"Origin\": \"Europe\", \"Weight_in_lbs\": 3820, \"Year\": \"1976-01-01\"}, {\"Acceleration\": 12.1, \"Cylinders\": 8, \"Displacement\": 350.0, \"Horsepower\": 180.0, \"Miles_per_Gallon\": 16.5, \"Name\": \"cadillac seville\", \"Origin\": \"USA\", \"Weight_in_lbs\": 4380, \"Year\": \"1976-01-01\"}, {\"Acceleration\": 12.0, \"Cylinders\": 8, \"Displacement\": 350.0, \"Horsepower\": 145.0, \"Miles_per_Gallon\": 13.0, \"Name\": \"chevy c10\", \"Origin\": \"USA\", \"Weight_in_lbs\": 4055, \"Year\": \"1976-01-01\"}, {\"Acceleration\": 15.0, \"Cylinders\": 8, \"Displacement\": 302.0, \"Horsepower\": 130.0, \"Miles_per_Gallon\": 13.0, \"Name\": \"ford f108\", \"Origin\": \"USA\", \"Weight_in_lbs\": 3870, \"Year\": \"1976-01-01\"}, {\"Acceleration\": 14.0, \"Cylinders\": 8, \"Displacement\": 318.0, \"Horsepower\": 150.0, \"Miles_per_Gallon\": 13.0, \"Name\": \"dodge d100\", \"Origin\": \"USA\", \"Weight_in_lbs\": 3755, \"Year\": \"1976-01-01\"}, {\"Acceleration\": 18.5, \"Cylinders\": 4, \"Displacement\": 98.0, \"Horsepower\": 68.0, \"Miles_per_Gallon\": 31.5, \"Name\": \"honda Accelerationord cvcc\", \"Origin\": \"Japan\", \"Weight_in_lbs\": 2045, \"Year\": \"1977-01-01\"}, {\"Acceleration\": 14.8, \"Cylinders\": 4, \"Displacement\": 111.0, \"Horsepower\": 80.0, \"Miles_per_Gallon\": 30.0, \"Name\": \"buick opel isuzu deluxe\", \"Origin\": \"USA\", \"Weight_in_lbs\": 2155, \"Year\": \"1977-01-01\"}, {\"Acceleration\": 18.6, \"Cylinders\": 4, \"Displacement\": 79.0, \"Horsepower\": 58.0, \"Miles_per_Gallon\": 36.0, \"Name\": \"renault 5 gtl\", \"Origin\": \"Europe\", \"Weight_in_lbs\": 1825, \"Year\": \"1977-01-01\"}, {\"Acceleration\": 15.5, \"Cylinders\": 4, \"Displacement\": 122.0, \"Horsepower\": 96.0, \"Miles_per_Gallon\": 25.5, \"Name\": \"plymouth arrow gs\", \"Origin\": \"USA\", \"Weight_in_lbs\": 2300, \"Year\": \"1977-01-01\"}, {\"Acceleration\": 16.8, \"Cylinders\": 4, \"Displacement\": 85.0, \"Horsepower\": 70.0, \"Miles_per_Gallon\": 33.5, \"Name\": \"datsun f-10 hatchback\", \"Origin\": \"Japan\", \"Weight_in_lbs\": 1945, \"Year\": \"1977-01-01\"}, {\"Acceleration\": 12.5, \"Cylinders\": 8, \"Displacement\": 305.0, \"Horsepower\": 145.0, \"Miles_per_Gallon\": 17.5, \"Name\": \"chevrolet caprice classic\", \"Origin\": \"USA\", \"Weight_in_lbs\": 3880, \"Year\": \"1977-01-01\"}, {\"Acceleration\": 19.0, \"Cylinders\": 8, \"Displacement\": 260.0, \"Horsepower\": 110.0, \"Miles_per_Gallon\": 17.0, \"Name\": \"oldsmobile cutlass supreme\", \"Origin\": \"USA\", \"Weight_in_lbs\": 4060, \"Year\": \"1977-01-01\"}, {\"Acceleration\": 13.7, \"Cylinders\": 8, \"Displacement\": 318.0, \"Horsepower\": 145.0, \"Miles_per_Gallon\": 15.5, \"Name\": \"dodge monaco brougham\", \"Origin\": \"USA\", \"Weight_in_lbs\": 4140, \"Year\": \"1977-01-01\"}, {\"Acceleration\": 14.9, \"Cylinders\": 8, \"Displacement\": 302.0, \"Horsepower\": 130.0, \"Miles_per_Gallon\": 15.0, \"Name\": \"mercury cougar brougham\", \"Origin\": \"USA\", \"Weight_in_lbs\": 4295, \"Year\": \"1977-01-01\"}, {\"Acceleration\": 16.4, \"Cylinders\": 6, \"Displacement\": 250.0, \"Horsepower\": 110.0, \"Miles_per_Gallon\": 17.5, \"Name\": \"chevrolet concours\", \"Origin\": \"USA\", \"Weight_in_lbs\": 3520, \"Year\": \"1977-01-01\"}, {\"Acceleration\": 16.9, \"Cylinders\": 6, \"Displacement\": 231.0, \"Horsepower\": 105.0, \"Miles_per_Gallon\": 20.5, \"Name\": \"buick skylark\", \"Origin\": \"USA\", \"Weight_in_lbs\": 3425, \"Year\": \"1977-01-01\"}, {\"Acceleration\": 17.7, \"Cylinders\": 6, \"Displacement\": 225.0, \"Horsepower\": 100.0, \"Miles_per_Gallon\": 19.0, \"Name\": \"plymouth volare custom\", \"Origin\": \"USA\", \"Weight_in_lbs\": 3630, \"Year\": \"1977-01-01\"}, {\"Acceleration\": 19.0, \"Cylinders\": 6, \"Displacement\": 250.0, \"Horsepower\": 98.0, \"Miles_per_Gallon\": 18.5, \"Name\": \"ford granada\", \"Origin\": \"USA\", \"Weight_in_lbs\": 3525, \"Year\": \"1977-01-01\"}, {\"Acceleration\": 11.1, \"Cylinders\": 8, \"Displacement\": 400.0, \"Horsepower\": 180.0, \"Miles_per_Gallon\": 16.0, \"Name\": \"pontiac grand prix lj\", \"Origin\": \"USA\", \"Weight_in_lbs\": 4220, \"Year\": \"1977-01-01\"}, {\"Acceleration\": 11.4, \"Cylinders\": 8, \"Displacement\": 350.0, \"Horsepower\": 170.0, \"Miles_per_Gallon\": 15.5, \"Name\": \"chevrolet monte carlo landau\", \"Origin\": \"USA\", \"Weight_in_lbs\": 4165, \"Year\": \"1977-01-01\"}, {\"Acceleration\": 12.2, \"Cylinders\": 8, \"Displacement\": 400.0, \"Horsepower\": 190.0, \"Miles_per_Gallon\": 15.5, \"Name\": \"chrysler cordoba\", \"Origin\": \"USA\", \"Weight_in_lbs\": 4325, \"Year\": \"1977-01-01\"}, {\"Acceleration\": 14.5, \"Cylinders\": 8, \"Displacement\": 351.0, \"Horsepower\": 149.0, \"Miles_per_Gallon\": 16.0, \"Name\": \"ford thunderbird\", \"Origin\": \"USA\", \"Weight_in_lbs\": 4335, \"Year\": \"1977-01-01\"}, {\"Acceleration\": 14.5, \"Cylinders\": 4, \"Displacement\": 97.0, \"Horsepower\": 78.0, \"Miles_per_Gallon\": 29.0, \"Name\": \"volkswagen rabbit custom\", \"Origin\": \"Europe\", \"Weight_in_lbs\": 1940, \"Year\": \"1977-01-01\"}, {\"Acceleration\": 16.0, \"Cylinders\": 4, \"Displacement\": 151.0, \"Horsepower\": 88.0, \"Miles_per_Gallon\": 24.5, \"Name\": \"pontiac sunbird coupe\", \"Origin\": \"USA\", \"Weight_in_lbs\": 2740, \"Year\": \"1977-01-01\"}, {\"Acceleration\": 18.2, \"Cylinders\": 4, \"Displacement\": 97.0, \"Horsepower\": 75.0, \"Miles_per_Gallon\": 26.0, \"Name\": \"toyota corolla liftback\", \"Origin\": \"Japan\", \"Weight_in_lbs\": 2265, \"Year\": \"1977-01-01\"}, {\"Acceleration\": 15.8, \"Cylinders\": 4, \"Displacement\": 140.0, \"Horsepower\": 89.0, \"Miles_per_Gallon\": 25.5, \"Name\": \"ford mustang ii 2+2\", \"Origin\": \"USA\", \"Weight_in_lbs\": 2755, \"Year\": \"1977-01-01\"}, {\"Acceleration\": 17.0, \"Cylinders\": 4, \"Displacement\": 98.0, \"Horsepower\": 63.0, \"Miles_per_Gallon\": 30.5, \"Name\": \"chevrolet chevette\", \"Origin\": \"USA\", \"Weight_in_lbs\": 2051, \"Year\": \"1977-01-01\"}, {\"Acceleration\": 15.9, \"Cylinders\": 4, \"Displacement\": 98.0, \"Horsepower\": 83.0, \"Miles_per_Gallon\": 33.5, \"Name\": \"dodge colt m/m\", \"Origin\": \"USA\", \"Weight_in_lbs\": 2075, \"Year\": \"1977-01-01\"}, {\"Acceleration\": 16.4, \"Cylinders\": 4, \"Displacement\": 97.0, \"Horsepower\": 67.0, \"Miles_per_Gallon\": 30.0, \"Name\": \"subaru dl\", \"Origin\": \"Japan\", \"Weight_in_lbs\": 1985, \"Year\": \"1977-01-01\"}, {\"Acceleration\": 14.1, \"Cylinders\": 4, \"Displacement\": 97.0, \"Horsepower\": 78.0, \"Miles_per_Gallon\": 30.5, \"Name\": \"volkswagen dasher\", \"Origin\": \"Europe\", \"Weight_in_lbs\": 2190, \"Year\": \"1977-01-01\"}, {\"Acceleration\": 14.5, \"Cylinders\": 6, \"Displacement\": 146.0, \"Horsepower\": 97.0, \"Miles_per_Gallon\": 22.0, \"Name\": \"datsun 810\", \"Origin\": \"Japan\", \"Weight_in_lbs\": 2815, \"Year\": \"1977-01-01\"}, {\"Acceleration\": 12.8, \"Cylinders\": 4, \"Displacement\": 121.0, \"Horsepower\": 110.0, \"Miles_per_Gallon\": 21.5, \"Name\": \"bmw 320i\", \"Origin\": \"Europe\", \"Weight_in_lbs\": 2600, \"Year\": \"1977-01-01\"}, {\"Acceleration\": 13.5, \"Cylinders\": 3, \"Displacement\": 80.0, \"Horsepower\": 110.0, \"Miles_per_Gallon\": 21.5, \"Name\": \"mazda rx-4\", \"Origin\": \"Japan\", \"Weight_in_lbs\": 2720, \"Year\": \"1977-01-01\"}, {\"Acceleration\": 21.5, \"Cylinders\": 4, \"Displacement\": 90.0, \"Horsepower\": 48.0, \"Miles_per_Gallon\": 43.1, \"Name\": \"volkswagen rabbit custom diesel\", \"Origin\": \"Europe\", \"Weight_in_lbs\": 1985, \"Year\": \"1978-01-01\"}, {\"Acceleration\": 14.4, \"Cylinders\": 4, \"Displacement\": 98.0, \"Horsepower\": 66.0, \"Miles_per_Gallon\": 36.1, \"Name\": \"ford fiesta\", \"Origin\": \"USA\", \"Weight_in_lbs\": 1800, \"Year\": \"1978-01-01\"}, {\"Acceleration\": 19.4, \"Cylinders\": 4, \"Displacement\": 78.0, \"Horsepower\": 52.0, \"Miles_per_Gallon\": 32.8, \"Name\": \"mazda glc deluxe\", \"Origin\": \"Japan\", \"Weight_in_lbs\": 1985, \"Year\": \"1978-01-01\"}, {\"Acceleration\": 18.6, \"Cylinders\": 4, \"Displacement\": 85.0, \"Horsepower\": 70.0, \"Miles_per_Gallon\": 39.4, \"Name\": \"datsun b210 gx\", \"Origin\": \"Japan\", \"Weight_in_lbs\": 2070, \"Year\": \"1978-01-01\"}, {\"Acceleration\": 16.4, \"Cylinders\": 4, \"Displacement\": 91.0, \"Horsepower\": 60.0, \"Miles_per_Gallon\": 36.1, \"Name\": \"honda civic cvcc\", \"Origin\": \"Japan\", \"Weight_in_lbs\": 1800, \"Year\": \"1978-01-01\"}, {\"Acceleration\": 15.5, \"Cylinders\": 8, \"Displacement\": 260.0, \"Horsepower\": 110.0, \"Miles_per_Gallon\": 19.9, \"Name\": \"oldsmobile cutlass salon brougham\", \"Origin\": \"USA\", \"Weight_in_lbs\": 3365, \"Year\": \"1978-01-01\"}, {\"Acceleration\": 13.2, \"Cylinders\": 8, \"Displacement\": 318.0, \"Horsepower\": 140.0, \"Miles_per_Gallon\": 19.4, \"Name\": \"dodge diplomat\", \"Origin\": \"USA\", \"Weight_in_lbs\": 3735, \"Year\": \"1978-01-01\"}, {\"Acceleration\": 12.8, \"Cylinders\": 8, \"Displacement\": 302.0, \"Horsepower\": 139.0, \"Miles_per_Gallon\": 20.2, \"Name\": \"mercury monarch ghia\", \"Origin\": \"USA\", \"Weight_in_lbs\": 3570, \"Year\": \"1978-01-01\"}, {\"Acceleration\": 19.2, \"Cylinders\": 6, \"Displacement\": 231.0, \"Horsepower\": 105.0, \"Miles_per_Gallon\": 19.2, \"Name\": \"pontiac phoenix lj\", \"Origin\": \"USA\", \"Weight_in_lbs\": 3535, \"Year\": \"1978-01-01\"}, {\"Acceleration\": 18.2, \"Cylinders\": 6, \"Displacement\": 200.0, \"Horsepower\": 95.0, \"Miles_per_Gallon\": 20.5, \"Name\": \"chevrolet malibu\", \"Origin\": \"USA\", \"Weight_in_lbs\": 3155, \"Year\": \"1978-01-01\"}, {\"Acceleration\": 15.8, \"Cylinders\": 6, \"Displacement\": 200.0, \"Horsepower\": 85.0, \"Miles_per_Gallon\": 20.2, \"Name\": \"ford fairmont (auto)\", \"Origin\": \"USA\", \"Weight_in_lbs\": 2965, \"Year\": \"1978-01-01\"}, {\"Acceleration\": 15.4, \"Cylinders\": 4, \"Displacement\": 140.0, \"Horsepower\": 88.0, \"Miles_per_Gallon\": 25.1, \"Name\": \"ford fairmont (man)\", \"Origin\": \"USA\", \"Weight_in_lbs\": 2720, \"Year\": \"1978-01-01\"}, {\"Acceleration\": 17.2, \"Cylinders\": 6, \"Displacement\": 225.0, \"Horsepower\": 100.0, \"Miles_per_Gallon\": 20.5, \"Name\": \"plymouth volare\", \"Origin\": \"USA\", \"Weight_in_lbs\": 3430, \"Year\": \"1978-01-01\"}, {\"Acceleration\": 17.2, \"Cylinders\": 6, \"Displacement\": 232.0, \"Horsepower\": 90.0, \"Miles_per_Gallon\": 19.4, \"Name\": \"amc concord\", \"Origin\": \"USA\", \"Weight_in_lbs\": 3210, \"Year\": \"1978-01-01\"}, {\"Acceleration\": 15.8, \"Cylinders\": 6, \"Displacement\": 231.0, \"Horsepower\": 105.0, \"Miles_per_Gallon\": 20.6, \"Name\": \"buick century special\", \"Origin\": \"USA\", \"Weight_in_lbs\": 3380, \"Year\": \"1978-01-01\"}, {\"Acceleration\": 16.7, \"Cylinders\": 6, \"Displacement\": 200.0, \"Horsepower\": 85.0, \"Miles_per_Gallon\": 20.8, \"Name\": \"mercury zephyr\", \"Origin\": \"USA\", \"Weight_in_lbs\": 3070, \"Year\": \"1978-01-01\"}, {\"Acceleration\": 18.7, \"Cylinders\": 6, \"Displacement\": 225.0, \"Horsepower\": 110.0, \"Miles_per_Gallon\": 18.6, \"Name\": \"dodge aspen\", \"Origin\": \"USA\", \"Weight_in_lbs\": 3620, \"Year\": \"1978-01-01\"}, {\"Acceleration\": 15.1, \"Cylinders\": 6, \"Displacement\": 258.0, \"Horsepower\": 120.0, \"Miles_per_Gallon\": 18.1, \"Name\": \"amc concord d/l\", \"Origin\": \"USA\", \"Weight_in_lbs\": 3410, \"Year\": \"1978-01-01\"}, {\"Acceleration\": 13.2, \"Cylinders\": 8, \"Displacement\": 305.0, \"Horsepower\": 145.0, \"Miles_per_Gallon\": 19.2, \"Name\": \"chevrolet monte carlo landau\", \"Origin\": \"USA\", \"Weight_in_lbs\": 3425, \"Year\": \"1978-01-01\"}, {\"Acceleration\": 13.4, \"Cylinders\": 6, \"Displacement\": 231.0, \"Horsepower\": 165.0, \"Miles_per_Gallon\": 17.7, \"Name\": \"buick regal sport coupe (turbo)\", \"Origin\": \"USA\", \"Weight_in_lbs\": 3445, \"Year\": \"1978-01-01\"}, {\"Acceleration\": 11.2, \"Cylinders\": 8, \"Displacement\": 302.0, \"Horsepower\": 139.0, \"Miles_per_Gallon\": 18.1, \"Name\": \"ford futura\", \"Origin\": \"USA\", \"Weight_in_lbs\": 3205, \"Year\": \"1978-01-01\"}, {\"Acceleration\": 13.7, \"Cylinders\": 8, \"Displacement\": 318.0, \"Horsepower\": 140.0, \"Miles_per_Gallon\": 17.5, \"Name\": \"dodge magnum xe\", \"Origin\": \"USA\", \"Weight_in_lbs\": 4080, \"Year\": \"1978-01-01\"}, {\"Acceleration\": 16.5, \"Cylinders\": 4, \"Displacement\": 98.0, \"Horsepower\": 68.0, \"Miles_per_Gallon\": 30.0, \"Name\": \"chevrolet chevette\", \"Origin\": \"USA\", \"Weight_in_lbs\": 2155, \"Year\": \"1978-01-01\"}, {\"Acceleration\": 14.2, \"Cylinders\": 4, \"Displacement\": 134.0, \"Horsepower\": 95.0, \"Miles_per_Gallon\": 27.5, \"Name\": \"toyota corona\", \"Origin\": \"Japan\", \"Weight_in_lbs\": 2560, \"Year\": \"1978-01-01\"}, {\"Acceleration\": 14.7, \"Cylinders\": 4, \"Displacement\": 119.0, \"Horsepower\": 97.0, \"Miles_per_Gallon\": 27.2, \"Name\": \"datsun 510\", \"Origin\": \"Japan\", \"Weight_in_lbs\": 2300, \"Year\": \"1978-01-01\"}, {\"Acceleration\": 14.5, \"Cylinders\": 4, \"Displacement\": 105.0, \"Horsepower\": 75.0, \"Miles_per_Gallon\": 30.9, \"Name\": \"dodge omni\", \"Origin\": \"USA\", \"Weight_in_lbs\": 2230, \"Year\": \"1978-01-01\"}, {\"Acceleration\": 14.8, \"Cylinders\": 4, \"Displacement\": 134.0, \"Horsepower\": 95.0, \"Miles_per_Gallon\": 21.1, \"Name\": \"toyota celica gt liftback\", \"Origin\": \"Japan\", \"Weight_in_lbs\": 2515, \"Year\": \"1978-01-01\"}, {\"Acceleration\": 16.7, \"Cylinders\": 4, \"Displacement\": 156.0, \"Horsepower\": 105.0, \"Miles_per_Gallon\": 23.2, \"Name\": \"plymouth sapporo\", \"Origin\": \"USA\", \"Weight_in_lbs\": 2745, \"Year\": \"1978-01-01\"}, {\"Acceleration\": 17.6, \"Cylinders\": 4, \"Displacement\": 151.0, \"Horsepower\": 85.0, \"Miles_per_Gallon\": 23.8, \"Name\": \"oldsmobile starfire sx\", \"Origin\": \"USA\", \"Weight_in_lbs\": 2855, \"Year\": \"1978-01-01\"}, {\"Acceleration\": 14.9, \"Cylinders\": 4, \"Displacement\": 119.0, \"Horsepower\": 97.0, \"Miles_per_Gallon\": 23.9, \"Name\": \"datsun 200-sx\", \"Origin\": \"Japan\", \"Weight_in_lbs\": 2405, \"Year\": \"1978-01-01\"}, {\"Acceleration\": 15.9, \"Cylinders\": 5, \"Displacement\": 131.0, \"Horsepower\": 103.0, \"Miles_per_Gallon\": 20.3, \"Name\": \"audi 5000\", \"Origin\": \"Europe\", \"Weight_in_lbs\": 2830, \"Year\": \"1978-01-01\"}, {\"Acceleration\": 13.6, \"Cylinders\": 6, \"Displacement\": 163.0, \"Horsepower\": 125.0, \"Miles_per_Gallon\": 17.0, \"Name\": \"volvo 264gl\", \"Origin\": \"Europe\", \"Weight_in_lbs\": 3140, \"Year\": \"1978-01-01\"}, {\"Acceleration\": 15.7, \"Cylinders\": 4, \"Displacement\": 121.0, \"Horsepower\": 115.0, \"Miles_per_Gallon\": 21.6, \"Name\": \"saab 99gle\", \"Origin\": \"Europe\", \"Weight_in_lbs\": 2795, \"Year\": \"1978-01-01\"}, {\"Acceleration\": 15.8, \"Cylinders\": 6, \"Displacement\": 163.0, \"Horsepower\": 133.0, \"Miles_per_Gallon\": 16.2, \"Name\": \"peugeot 604sl\", \"Origin\": \"Europe\", \"Weight_in_lbs\": 3410, \"Year\": \"1978-01-01\"}, {\"Acceleration\": 14.9, \"Cylinders\": 4, \"Displacement\": 89.0, \"Horsepower\": 71.0, \"Miles_per_Gallon\": 31.5, \"Name\": \"volkswagen scirocco\", \"Origin\": \"Europe\", \"Weight_in_lbs\": 1990, \"Year\": \"1978-01-01\"}, {\"Acceleration\": 16.6, \"Cylinders\": 4, \"Displacement\": 98.0, \"Horsepower\": 68.0, \"Miles_per_Gallon\": 29.5, \"Name\": \"honda Accelerationord lx\", \"Origin\": \"Japan\", \"Weight_in_lbs\": 2135, \"Year\": \"1978-01-01\"}, {\"Acceleration\": 15.4, \"Cylinders\": 6, \"Displacement\": 231.0, \"Horsepower\": 115.0, \"Miles_per_Gallon\": 21.5, \"Name\": \"pontiac lemans v6\", \"Origin\": \"USA\", \"Weight_in_lbs\": 3245, \"Year\": \"1979-01-01\"}, {\"Acceleration\": 18.2, \"Cylinders\": 6, \"Displacement\": 200.0, \"Horsepower\": 85.0, \"Miles_per_Gallon\": 19.8, \"Name\": \"mercury zephyr 6\", \"Origin\": \"USA\", \"Weight_in_lbs\": 2990, \"Year\": \"1979-01-01\"}, {\"Acceleration\": 17.3, \"Cylinders\": 4, \"Displacement\": 140.0, \"Horsepower\": 88.0, \"Miles_per_Gallon\": 22.3, \"Name\": \"ford fairmont 4\", \"Origin\": \"USA\", \"Weight_in_lbs\": 2890, \"Year\": \"1979-01-01\"}, {\"Acceleration\": 18.2, \"Cylinders\": 6, \"Displacement\": 232.0, \"Horsepower\": 90.0, \"Miles_per_Gallon\": 20.2, \"Name\": \"amc concord dl 6\", \"Origin\": \"USA\", \"Weight_in_lbs\": 3265, \"Year\": \"1979-01-01\"}, {\"Acceleration\": 16.6, \"Cylinders\": 6, \"Displacement\": 225.0, \"Horsepower\": 110.0, \"Miles_per_Gallon\": 20.6, \"Name\": \"dodge aspen 6\", \"Origin\": \"USA\", \"Weight_in_lbs\": 3360, \"Year\": \"1979-01-01\"}, {\"Acceleration\": 15.4, \"Cylinders\": 8, \"Displacement\": 305.0, \"Horsepower\": 130.0, \"Miles_per_Gallon\": 17.0, \"Name\": \"chevrolet caprice classic\", \"Origin\": \"USA\", \"Weight_in_lbs\": 3840, \"Year\": \"1979-01-01\"}, {\"Acceleration\": 13.4, \"Cylinders\": 8, \"Displacement\": 302.0, \"Horsepower\": 129.0, \"Miles_per_Gallon\": 17.6, \"Name\": \"ford ltd landau\", \"Origin\": \"USA\", \"Weight_in_lbs\": 3725, \"Year\": \"1979-01-01\"}, {\"Acceleration\": 13.2, \"Cylinders\": 8, \"Displacement\": 351.0, \"Horsepower\": 138.0, \"Miles_per_Gallon\": 16.5, \"Name\": \"mercury grand marquis\", \"Origin\": \"USA\", \"Weight_in_lbs\": 3955, \"Year\": \"1979-01-01\"}, {\"Acceleration\": 15.2, \"Cylinders\": 8, \"Displacement\": 318.0, \"Horsepower\": 135.0, \"Miles_per_Gallon\": 18.2, \"Name\": \"dodge st. regis\", \"Origin\": \"USA\", \"Weight_in_lbs\": 3830, \"Year\": \"1979-01-01\"}, {\"Acceleration\": 14.9, \"Cylinders\": 8, \"Displacement\": 350.0, \"Horsepower\": 155.0, \"Miles_per_Gallon\": 16.9, \"Name\": \"buick estate wagon (sw)\", \"Origin\": \"USA\", \"Weight_in_lbs\": 4360, \"Year\": \"1979-01-01\"}, {\"Acceleration\": 14.3, \"Cylinders\": 8, \"Displacement\": 351.0, \"Horsepower\": 142.0, \"Miles_per_Gallon\": 15.5, \"Name\": \"ford country squire (sw)\", \"Origin\": \"USA\", \"Weight_in_lbs\": 4054, \"Year\": \"1979-01-01\"}, {\"Acceleration\": 15.0, \"Cylinders\": 8, \"Displacement\": 267.0, \"Horsepower\": 125.0, \"Miles_per_Gallon\": 19.2, \"Name\": \"chevrolet malibu classic (sw)\", \"Origin\": \"USA\", \"Weight_in_lbs\": 3605, \"Year\": \"1979-01-01\"}, {\"Acceleration\": 13.0, \"Cylinders\": 8, \"Displacement\": 360.0, \"Horsepower\": 150.0, \"Miles_per_Gallon\": 18.5, \"Name\": \"chrysler lebaron town @ country (sw)\", \"Origin\": \"USA\", \"Weight_in_lbs\": 3940, \"Year\": \"1979-01-01\"}, {\"Acceleration\": 14.0, \"Cylinders\": 4, \"Displacement\": 89.0, \"Horsepower\": 71.0, \"Miles_per_Gallon\": 31.9, \"Name\": \"vw rabbit custom\", \"Origin\": \"Europe\", \"Weight_in_lbs\": 1925, \"Year\": \"1979-01-01\"}, {\"Acceleration\": 15.2, \"Cylinders\": 4, \"Displacement\": 86.0, \"Horsepower\": 65.0, \"Miles_per_Gallon\": 34.1, \"Name\": \"maxda glc deluxe\", \"Origin\": \"Japan\", \"Weight_in_lbs\": 1975, \"Year\": \"1979-01-01\"}, {\"Acceleration\": 14.4, \"Cylinders\": 4, \"Displacement\": 98.0, \"Horsepower\": 80.0, \"Miles_per_Gallon\": 35.7, \"Name\": \"dodge colt hatchback custom\", \"Origin\": \"USA\", \"Weight_in_lbs\": 1915, \"Year\": \"1979-01-01\"}, {\"Acceleration\": 15.0, \"Cylinders\": 4, \"Displacement\": 121.0, \"Horsepower\": 80.0, \"Miles_per_Gallon\": 27.4, \"Name\": \"amc spirit dl\", \"Origin\": \"USA\", \"Weight_in_lbs\": 2670, \"Year\": \"1979-01-01\"}, {\"Acceleration\": 20.1, \"Cylinders\": 5, \"Displacement\": 183.0, \"Horsepower\": 77.0, \"Miles_per_Gallon\": 25.4, \"Name\": \"mercedes benz 300d\", \"Origin\": \"Europe\", \"Weight_in_lbs\": 3530, \"Year\": \"1979-01-01\"}, {\"Acceleration\": 17.4, \"Cylinders\": 8, \"Displacement\": 350.0, \"Horsepower\": 125.0, \"Miles_per_Gallon\": 23.0, \"Name\": \"cadillac eldorado\", \"Origin\": \"USA\", \"Weight_in_lbs\": 3900, \"Year\": \"1979-01-01\"}, {\"Acceleration\": 24.8, \"Cylinders\": 4, \"Displacement\": 141.0, \"Horsepower\": 71.0, \"Miles_per_Gallon\": 27.2, \"Name\": \"peugeot 504\", \"Origin\": \"Europe\", \"Weight_in_lbs\": 3190, \"Year\": \"1979-01-01\"}, {\"Acceleration\": 22.2, \"Cylinders\": 8, \"Displacement\": 260.0, \"Horsepower\": 90.0, \"Miles_per_Gallon\": 23.9, \"Name\": \"oldsmobile cutlass salon brougham\", \"Origin\": \"USA\", \"Weight_in_lbs\": 3420, \"Year\": \"1979-01-01\"}, {\"Acceleration\": 13.2, \"Cylinders\": 4, \"Displacement\": 105.0, \"Horsepower\": 70.0, \"Miles_per_Gallon\": 34.2, \"Name\": \"plymouth horizon\", \"Origin\": \"USA\", \"Weight_in_lbs\": 2200, \"Year\": \"1979-01-01\"}, {\"Acceleration\": 14.9, \"Cylinders\": 4, \"Displacement\": 105.0, \"Horsepower\": 70.0, \"Miles_per_Gallon\": 34.5, \"Name\": \"plymouth horizon tc3\", \"Origin\": \"USA\", \"Weight_in_lbs\": 2150, \"Year\": \"1979-01-01\"}, {\"Acceleration\": 19.2, \"Cylinders\": 4, \"Displacement\": 85.0, \"Horsepower\": 65.0, \"Miles_per_Gallon\": 31.8, \"Name\": \"datsun 210\", \"Origin\": \"Japan\", \"Weight_in_lbs\": 2020, \"Year\": \"1979-01-01\"}, {\"Acceleration\": 14.7, \"Cylinders\": 4, \"Displacement\": 91.0, \"Horsepower\": 69.0, \"Miles_per_Gallon\": 37.3, \"Name\": \"fiat strada custom\", \"Origin\": \"Europe\", \"Weight_in_lbs\": 2130, \"Year\": \"1979-01-01\"}, {\"Acceleration\": 16.0, \"Cylinders\": 4, \"Displacement\": 151.0, \"Horsepower\": 90.0, \"Miles_per_Gallon\": 28.4, \"Name\": \"buick skylark limited\", \"Origin\": \"USA\", \"Weight_in_lbs\": 2670, \"Year\": \"1979-01-01\"}, {\"Acceleration\": 11.3, \"Cylinders\": 6, \"Displacement\": 173.0, \"Horsepower\": 115.0, \"Miles_per_Gallon\": 28.8, \"Name\": \"chevrolet citation\", \"Origin\": \"USA\", \"Weight_in_lbs\": 2595, \"Year\": \"1979-01-01\"}, {\"Acceleration\": 12.9, \"Cylinders\": 6, \"Displacement\": 173.0, \"Horsepower\": 115.0, \"Miles_per_Gallon\": 26.8, \"Name\": \"oldsmobile omega brougham\", \"Origin\": \"USA\", \"Weight_in_lbs\": 2700, \"Year\": \"1979-01-01\"}, {\"Acceleration\": 13.2, \"Cylinders\": 4, \"Displacement\": 151.0, \"Horsepower\": 90.0, \"Miles_per_Gallon\": 33.5, \"Name\": \"pontiac phoenix\", \"Origin\": \"USA\", \"Weight_in_lbs\": 2556, \"Year\": \"1979-01-01\"}, {\"Acceleration\": 14.7, \"Cylinders\": 4, \"Displacement\": 98.0, \"Horsepower\": 76.0, \"Miles_per_Gallon\": 41.5, \"Name\": \"vw rabbit\", \"Origin\": \"Europe\", \"Weight_in_lbs\": 2144, \"Year\": \"1980-01-01\"}, {\"Acceleration\": 18.8, \"Cylinders\": 4, \"Displacement\": 89.0, \"Horsepower\": 60.0, \"Miles_per_Gallon\": 38.1, \"Name\": \"toyota corolla tercel\", \"Origin\": \"Japan\", \"Weight_in_lbs\": 1968, \"Year\": \"1980-01-01\"}, {\"Acceleration\": 15.5, \"Cylinders\": 4, \"Displacement\": 98.0, \"Horsepower\": 70.0, \"Miles_per_Gallon\": 32.1, \"Name\": \"chevrolet chevette\", \"Origin\": \"USA\", \"Weight_in_lbs\": 2120, \"Year\": \"1980-01-01\"}, {\"Acceleration\": 16.4, \"Cylinders\": 4, \"Displacement\": 86.0, \"Horsepower\": 65.0, \"Miles_per_Gallon\": 37.2, \"Name\": \"datsun 310\", \"Origin\": \"Japan\", \"Weight_in_lbs\": 2019, \"Year\": \"1980-01-01\"}, {\"Acceleration\": 16.5, \"Cylinders\": 4, \"Displacement\": 151.0, \"Horsepower\": 90.0, \"Miles_per_Gallon\": 28.0, \"Name\": \"chevrolet citation\", \"Origin\": \"USA\", \"Weight_in_lbs\": 2678, \"Year\": \"1980-01-01\"}, {\"Acceleration\": 18.1, \"Cylinders\": 4, \"Displacement\": 140.0, \"Horsepower\": 88.0, \"Miles_per_Gallon\": 26.4, \"Name\": \"ford fairmont\", \"Origin\": \"USA\", \"Weight_in_lbs\": 2870, \"Year\": \"1980-01-01\"}, {\"Acceleration\": 20.1, \"Cylinders\": 4, \"Displacement\": 151.0, \"Horsepower\": 90.0, \"Miles_per_Gallon\": 24.3, \"Name\": \"amc concord\", \"Origin\": \"USA\", \"Weight_in_lbs\": 3003, \"Year\": \"1980-01-01\"}, {\"Acceleration\": 18.7, \"Cylinders\": 6, \"Displacement\": 225.0, \"Horsepower\": 90.0, \"Miles_per_Gallon\": 19.1, \"Name\": \"dodge aspen\", \"Origin\": \"USA\", \"Weight_in_lbs\": 3381, \"Year\": \"1980-01-01\"}, {\"Acceleration\": 15.8, \"Cylinders\": 4, \"Displacement\": 97.0, \"Horsepower\": 78.0, \"Miles_per_Gallon\": 34.3, \"Name\": \"audi 4000\", \"Origin\": \"Europe\", \"Weight_in_lbs\": 2188, \"Year\": \"1980-01-01\"}, {\"Acceleration\": 15.5, \"Cylinders\": 4, \"Displacement\": 134.0, \"Horsepower\": 90.0, \"Miles_per_Gallon\": 29.8, \"Name\": \"toyota corona liftback\", \"Origin\": \"Japan\", \"Weight_in_lbs\": 2711, \"Year\": \"1980-01-01\"}, {\"Acceleration\": 17.5, \"Cylinders\": 4, \"Displacement\": 120.0, \"Horsepower\": 75.0, \"Miles_per_Gallon\": 31.3, \"Name\": \"mazda 626\", \"Origin\": \"Japan\", \"Weight_in_lbs\": 2542, \"Year\": \"1980-01-01\"}, {\"Acceleration\": 15.0, \"Cylinders\": 4, \"Displacement\": 119.0, \"Horsepower\": 92.0, \"Miles_per_Gallon\": 37.0, \"Name\": \"datsun 510 hatchback\", \"Origin\": \"Japan\", \"Weight_in_lbs\": 2434, \"Year\": \"1980-01-01\"}, {\"Acceleration\": 15.2, \"Cylinders\": 4, \"Displacement\": 108.0, \"Horsepower\": 75.0, \"Miles_per_Gallon\": 32.2, \"Name\": \"toyota corolla\", \"Origin\": \"Japan\", \"Weight_in_lbs\": 2265, \"Year\": \"1980-01-01\"}, {\"Acceleration\": 17.9, \"Cylinders\": 4, \"Displacement\": 86.0, \"Horsepower\": 65.0, \"Miles_per_Gallon\": 46.6, \"Name\": \"mazda glc\", \"Origin\": \"Japan\", \"Weight_in_lbs\": 2110, \"Year\": \"1980-01-01\"}, {\"Acceleration\": 14.4, \"Cylinders\": 4, \"Displacement\": 156.0, \"Horsepower\": 105.0, \"Miles_per_Gallon\": 27.9, \"Name\": \"dodge colt\", \"Origin\": \"USA\", \"Weight_in_lbs\": 2800, \"Year\": \"1980-01-01\"}, {\"Acceleration\": 19.2, \"Cylinders\": 4, \"Displacement\": 85.0, \"Horsepower\": 65.0, \"Miles_per_Gallon\": 40.8, \"Name\": \"datsun 210\", \"Origin\": \"Japan\", \"Weight_in_lbs\": 2110, \"Year\": \"1980-01-01\"}, {\"Acceleration\": 21.7, \"Cylinders\": 4, \"Displacement\": 90.0, \"Horsepower\": 48.0, \"Miles_per_Gallon\": 44.3, \"Name\": \"vw rabbit c (diesel)\", \"Origin\": \"Europe\", \"Weight_in_lbs\": 2085, \"Year\": \"1980-01-01\"}, {\"Acceleration\": 23.7, \"Cylinders\": 4, \"Displacement\": 90.0, \"Horsepower\": 48.0, \"Miles_per_Gallon\": 43.4, \"Name\": \"vw dasher (diesel)\", \"Origin\": \"Europe\", \"Weight_in_lbs\": 2335, \"Year\": \"1980-01-01\"}, {\"Acceleration\": 19.9, \"Cylinders\": 5, \"Displacement\": 121.0, \"Horsepower\": 67.0, \"Miles_per_Gallon\": 36.4, \"Name\": \"audi 5000s (diesel)\", \"Origin\": \"Europe\", \"Weight_in_lbs\": 2950, \"Year\": \"1980-01-01\"}, {\"Acceleration\": 21.8, \"Cylinders\": 4, \"Displacement\": 146.0, \"Horsepower\": 67.0, \"Miles_per_Gallon\": 30.0, \"Name\": \"mercedes-benz 240d\", \"Origin\": \"Europe\", \"Weight_in_lbs\": 3250, \"Year\": \"1980-01-01\"}, {\"Acceleration\": 13.8, \"Cylinders\": 4, \"Displacement\": 91.0, \"Horsepower\": 67.0, \"Miles_per_Gallon\": 44.6, \"Name\": \"honda civic 1500 gl\", \"Origin\": \"Japan\", \"Weight_in_lbs\": 1850, \"Year\": \"1980-01-01\"}, {\"Acceleration\": 17.3, \"Cylinders\": 4, \"Displacement\": 85.0, \"Horsepower\": null, \"Miles_per_Gallon\": 40.9, \"Name\": \"renault lecar deluxe\", \"Origin\": \"Europe\", \"Weight_in_lbs\": 1835, \"Year\": \"1980-01-01\"}, {\"Acceleration\": 18.0, \"Cylinders\": 4, \"Displacement\": 97.0, \"Horsepower\": 67.0, \"Miles_per_Gallon\": 33.8, \"Name\": \"subaru dl\", \"Origin\": \"Japan\", \"Weight_in_lbs\": 2145, \"Year\": \"1980-01-01\"}, {\"Acceleration\": 15.3, \"Cylinders\": 4, \"Displacement\": 89.0, \"Horsepower\": 62.0, \"Miles_per_Gallon\": 29.8, \"Name\": \"vokswagen rabbit\", \"Origin\": \"Europe\", \"Weight_in_lbs\": 1845, \"Year\": \"1980-01-01\"}, {\"Acceleration\": 11.4, \"Cylinders\": 6, \"Displacement\": 168.0, \"Horsepower\": 132.0, \"Miles_per_Gallon\": 32.7, \"Name\": \"datsun 280-zx\", \"Origin\": \"Japan\", \"Weight_in_lbs\": 2910, \"Year\": \"1980-01-01\"}, {\"Acceleration\": 12.5, \"Cylinders\": 3, \"Displacement\": 70.0, \"Horsepower\": 100.0, \"Miles_per_Gallon\": 23.7, \"Name\": \"mazda rx-7 gs\", \"Origin\": \"Japan\", \"Weight_in_lbs\": 2420, \"Year\": \"1980-01-01\"}, {\"Acceleration\": 15.1, \"Cylinders\": 4, \"Displacement\": 122.0, \"Horsepower\": 88.0, \"Miles_per_Gallon\": 35.0, \"Name\": \"triumph tr7 coupe\", \"Origin\": \"Europe\", \"Weight_in_lbs\": 2500, \"Year\": \"1980-01-01\"}, {\"Acceleration\": 14.3, \"Cylinders\": 4, \"Displacement\": 140.0, \"Horsepower\": null, \"Miles_per_Gallon\": 23.6, \"Name\": \"ford mustang cobra\", \"Origin\": \"USA\", \"Weight_in_lbs\": 2905, \"Year\": \"1980-01-01\"}, {\"Acceleration\": 17.0, \"Cylinders\": 4, \"Displacement\": 107.0, \"Horsepower\": 72.0, \"Miles_per_Gallon\": 32.4, \"Name\": \"honda Accelerationord\", \"Origin\": \"Japan\", \"Weight_in_lbs\": 2290, \"Year\": \"1980-01-01\"}, {\"Acceleration\": 15.7, \"Cylinders\": 4, \"Displacement\": 135.0, \"Horsepower\": 84.0, \"Miles_per_Gallon\": 27.2, \"Name\": \"plymouth reliant\", \"Origin\": \"USA\", \"Weight_in_lbs\": 2490, \"Year\": \"1982-01-01\"}, {\"Acceleration\": 16.4, \"Cylinders\": 4, \"Displacement\": 151.0, \"Horsepower\": 84.0, \"Miles_per_Gallon\": 26.6, \"Name\": \"buick skylark\", \"Origin\": \"USA\", \"Weight_in_lbs\": 2635, \"Year\": \"1982-01-01\"}, {\"Acceleration\": 14.4, \"Cylinders\": 4, \"Displacement\": 156.0, \"Horsepower\": 92.0, \"Miles_per_Gallon\": 25.8, \"Name\": \"dodge aries wagon (sw)\", \"Origin\": \"USA\", \"Weight_in_lbs\": 2620, \"Year\": \"1982-01-01\"}, {\"Acceleration\": 12.6, \"Cylinders\": 6, \"Displacement\": 173.0, \"Horsepower\": 110.0, \"Miles_per_Gallon\": 23.5, \"Name\": \"chevrolet citation\", \"Origin\": \"USA\", \"Weight_in_lbs\": 2725, \"Year\": \"1982-01-01\"}, {\"Acceleration\": 12.9, \"Cylinders\": 4, \"Displacement\": 135.0, \"Horsepower\": 84.0, \"Miles_per_Gallon\": 30.0, \"Name\": \"plymouth reliant\", \"Origin\": \"USA\", \"Weight_in_lbs\": 2385, \"Year\": \"1982-01-01\"}, {\"Acceleration\": 16.9, \"Cylinders\": 4, \"Displacement\": 79.0, \"Horsepower\": 58.0, \"Miles_per_Gallon\": 39.1, \"Name\": \"toyota starlet\", \"Origin\": \"Japan\", \"Weight_in_lbs\": 1755, \"Year\": \"1982-01-01\"}, {\"Acceleration\": 16.4, \"Cylinders\": 4, \"Displacement\": 86.0, \"Horsepower\": 64.0, \"Miles_per_Gallon\": 39.0, \"Name\": \"plymouth champ\", \"Origin\": \"USA\", \"Weight_in_lbs\": 1875, \"Year\": \"1982-01-01\"}, {\"Acceleration\": 16.1, \"Cylinders\": 4, \"Displacement\": 81.0, \"Horsepower\": 60.0, \"Miles_per_Gallon\": 35.1, \"Name\": \"honda civic 1300\", \"Origin\": \"Japan\", \"Weight_in_lbs\": 1760, \"Year\": \"1982-01-01\"}, {\"Acceleration\": 17.8, \"Cylinders\": 4, \"Displacement\": 97.0, \"Horsepower\": 67.0, \"Miles_per_Gallon\": 32.3, \"Name\": \"subaru\", \"Origin\": \"Japan\", \"Weight_in_lbs\": 2065, \"Year\": \"1982-01-01\"}, {\"Acceleration\": 19.4, \"Cylinders\": 4, \"Displacement\": 85.0, \"Horsepower\": 65.0, \"Miles_per_Gallon\": 37.0, \"Name\": \"datsun 210\", \"Origin\": \"Japan\", \"Weight_in_lbs\": 1975, \"Year\": \"1982-01-01\"}, {\"Acceleration\": 17.3, \"Cylinders\": 4, \"Displacement\": 89.0, \"Horsepower\": 62.0, \"Miles_per_Gallon\": 37.7, \"Name\": \"toyota tercel\", \"Origin\": \"Japan\", \"Weight_in_lbs\": 2050, \"Year\": \"1982-01-01\"}, {\"Acceleration\": 16.0, \"Cylinders\": 4, \"Displacement\": 91.0, \"Horsepower\": 68.0, \"Miles_per_Gallon\": 34.1, \"Name\": \"mazda glc 4\", \"Origin\": \"Japan\", \"Weight_in_lbs\": 1985, \"Year\": \"1982-01-01\"}, {\"Acceleration\": 14.9, \"Cylinders\": 4, \"Displacement\": 105.0, \"Horsepower\": 63.0, \"Miles_per_Gallon\": 34.7, \"Name\": \"plymouth horizon 4\", \"Origin\": \"USA\", \"Weight_in_lbs\": 2215, \"Year\": \"1982-01-01\"}, {\"Acceleration\": 16.2, \"Cylinders\": 4, \"Displacement\": 98.0, \"Horsepower\": 65.0, \"Miles_per_Gallon\": 34.4, \"Name\": \"ford escort 4w\", \"Origin\": \"USA\", \"Weight_in_lbs\": 2045, \"Year\": \"1982-01-01\"}, {\"Acceleration\": 20.7, \"Cylinders\": 4, \"Displacement\": 98.0, \"Horsepower\": 65.0, \"Miles_per_Gallon\": 29.9, \"Name\": \"ford escort 2h\", \"Origin\": \"USA\", \"Weight_in_lbs\": 2380, \"Year\": \"1982-01-01\"}, {\"Acceleration\": 14.2, \"Cylinders\": 4, \"Displacement\": 105.0, \"Horsepower\": 74.0, \"Miles_per_Gallon\": 33.0, \"Name\": \"volkswagen jetta\", \"Origin\": \"Europe\", \"Weight_in_lbs\": 2190, \"Year\": \"1982-01-01\"}, {\"Acceleration\": 15.8, \"Cylinders\": 4, \"Displacement\": 100.0, \"Horsepower\": null, \"Miles_per_Gallon\": 34.5, \"Name\": \"renault 18i\", \"Origin\": \"Europe\", \"Weight_in_lbs\": 2320, \"Year\": \"1982-01-01\"}, {\"Acceleration\": 14.4, \"Cylinders\": 4, \"Displacement\": 107.0, \"Horsepower\": 75.0, \"Miles_per_Gallon\": 33.7, \"Name\": \"honda prelude\", \"Origin\": \"Japan\", \"Weight_in_lbs\": 2210, \"Year\": \"1982-01-01\"}, {\"Acceleration\": 16.8, \"Cylinders\": 4, \"Displacement\": 108.0, \"Horsepower\": 75.0, \"Miles_per_Gallon\": 32.4, \"Name\": \"toyota corolla\", \"Origin\": \"Japan\", \"Weight_in_lbs\": 2350, \"Year\": \"1982-01-01\"}, {\"Acceleration\": 14.8, \"Cylinders\": 4, \"Displacement\": 119.0, \"Horsepower\": 100.0, \"Miles_per_Gallon\": 32.9, \"Name\": \"datsun 200sx\", \"Origin\": \"Japan\", \"Weight_in_lbs\": 2615, \"Year\": \"1982-01-01\"}, {\"Acceleration\": 18.3, \"Cylinders\": 4, \"Displacement\": 120.0, \"Horsepower\": 74.0, \"Miles_per_Gallon\": 31.6, \"Name\": \"mazda 626\", \"Origin\": \"Japan\", \"Weight_in_lbs\": 2635, \"Year\": \"1982-01-01\"}, {\"Acceleration\": 20.4, \"Cylinders\": 4, \"Displacement\": 141.0, \"Horsepower\": 80.0, \"Miles_per_Gallon\": 28.1, \"Name\": \"peugeot 505s turbo diesel\", \"Origin\": \"Europe\", \"Weight_in_lbs\": 3230, \"Year\": \"1982-01-01\"}, {\"Acceleration\": 15.4, \"Cylinders\": 4, \"Displacement\": 121.0, \"Horsepower\": 110.0, \"Miles_per_Gallon\": null, \"Name\": \"saab 900s\", \"Origin\": \"Europe\", \"Weight_in_lbs\": 2800, \"Year\": \"1982-01-01\"}, {\"Acceleration\": 19.6, \"Cylinders\": 6, \"Displacement\": 145.0, \"Horsepower\": 76.0, \"Miles_per_Gallon\": 30.7, \"Name\": \"volvo diesel\", \"Origin\": \"Europe\", \"Weight_in_lbs\": 3160, \"Year\": \"1982-01-01\"}, {\"Acceleration\": 12.6, \"Cylinders\": 6, \"Displacement\": 168.0, \"Horsepower\": 116.0, \"Miles_per_Gallon\": 25.4, \"Name\": \"toyota cressida\", \"Origin\": \"Japan\", \"Weight_in_lbs\": 2900, \"Year\": \"1982-01-01\"}, {\"Acceleration\": 13.8, \"Cylinders\": 6, \"Displacement\": 146.0, \"Horsepower\": 120.0, \"Miles_per_Gallon\": 24.2, \"Name\": \"datsun 810 maxima\", \"Origin\": \"Japan\", \"Weight_in_lbs\": 2930, \"Year\": \"1982-01-01\"}, {\"Acceleration\": 15.8, \"Cylinders\": 6, \"Displacement\": 231.0, \"Horsepower\": 110.0, \"Miles_per_Gallon\": 22.4, \"Name\": \"buick century\", \"Origin\": \"USA\", \"Weight_in_lbs\": 3415, \"Year\": \"1982-01-01\"}, {\"Acceleration\": 19.0, \"Cylinders\": 8, \"Displacement\": 350.0, \"Horsepower\": 105.0, \"Miles_per_Gallon\": 26.6, \"Name\": \"oldsmobile cutlass ls\", \"Origin\": \"USA\", \"Weight_in_lbs\": 3725, \"Year\": \"1982-01-01\"}, {\"Acceleration\": 17.1, \"Cylinders\": 6, \"Displacement\": 200.0, \"Horsepower\": 88.0, \"Miles_per_Gallon\": 20.2, \"Name\": \"ford granada gl\", \"Origin\": \"USA\", \"Weight_in_lbs\": 3060, \"Year\": \"1982-01-01\"}, {\"Acceleration\": 16.6, \"Cylinders\": 6, \"Displacement\": 225.0, \"Horsepower\": 85.0, \"Miles_per_Gallon\": 17.6, \"Name\": \"chrysler lebaron salon\", \"Origin\": \"USA\", \"Weight_in_lbs\": 3465, \"Year\": \"1982-01-01\"}, {\"Acceleration\": 19.6, \"Cylinders\": 4, \"Displacement\": 112.0, \"Horsepower\": 88.0, \"Miles_per_Gallon\": 28.0, \"Name\": \"chevrolet cavalier\", \"Origin\": \"USA\", \"Weight_in_lbs\": 2605, \"Year\": \"1982-01-01\"}, {\"Acceleration\": 18.6, \"Cylinders\": 4, \"Displacement\": 112.0, \"Horsepower\": 88.0, \"Miles_per_Gallon\": 27.0, \"Name\": \"chevrolet cavalier wagon\", \"Origin\": \"USA\", \"Weight_in_lbs\": 2640, \"Year\": \"1982-01-01\"}, {\"Acceleration\": 18.0, \"Cylinders\": 4, \"Displacement\": 112.0, \"Horsepower\": 88.0, \"Miles_per_Gallon\": 34.0, \"Name\": \"chevrolet cavalier 2-door\", \"Origin\": \"USA\", \"Weight_in_lbs\": 2395, \"Year\": \"1982-01-01\"}, {\"Acceleration\": 16.2, \"Cylinders\": 4, \"Displacement\": 112.0, \"Horsepower\": 85.0, \"Miles_per_Gallon\": 31.0, \"Name\": \"pontiac j2000 se hatchback\", \"Origin\": \"USA\", \"Weight_in_lbs\": 2575, \"Year\": \"1982-01-01\"}, {\"Acceleration\": 16.0, \"Cylinders\": 4, \"Displacement\": 135.0, \"Horsepower\": 84.0, \"Miles_per_Gallon\": 29.0, \"Name\": \"dodge aries se\", \"Origin\": \"USA\", \"Weight_in_lbs\": 2525, \"Year\": \"1982-01-01\"}, {\"Acceleration\": 18.0, \"Cylinders\": 4, \"Displacement\": 151.0, \"Horsepower\": 90.0, \"Miles_per_Gallon\": 27.0, \"Name\": \"pontiac phoenix\", \"Origin\": \"USA\", \"Weight_in_lbs\": 2735, \"Year\": \"1982-01-01\"}, {\"Acceleration\": 16.4, \"Cylinders\": 4, \"Displacement\": 140.0, \"Horsepower\": 92.0, \"Miles_per_Gallon\": 24.0, \"Name\": \"ford fairmont futura\", \"Origin\": \"USA\", \"Weight_in_lbs\": 2865, \"Year\": \"1982-01-01\"}, {\"Acceleration\": 20.5, \"Cylinders\": 4, \"Displacement\": 151.0, \"Horsepower\": null, \"Miles_per_Gallon\": 23.0, \"Name\": \"amc concord dl\", \"Origin\": \"USA\", \"Weight_in_lbs\": 3035, \"Year\": \"1982-01-01\"}, {\"Acceleration\": 15.3, \"Cylinders\": 4, \"Displacement\": 105.0, \"Horsepower\": 74.0, \"Miles_per_Gallon\": 36.0, \"Name\": \"volkswagen rabbit l\", \"Origin\": \"Europe\", \"Weight_in_lbs\": 1980, \"Year\": \"1982-01-01\"}, {\"Acceleration\": 18.2, \"Cylinders\": 4, \"Displacement\": 91.0, \"Horsepower\": 68.0, \"Miles_per_Gallon\": 37.0, \"Name\": \"mazda glc custom l\", \"Origin\": \"Japan\", \"Weight_in_lbs\": 2025, \"Year\": \"1982-01-01\"}, {\"Acceleration\": 17.6, \"Cylinders\": 4, \"Displacement\": 91.0, \"Horsepower\": 68.0, \"Miles_per_Gallon\": 31.0, \"Name\": \"mazda glc custom\", \"Origin\": \"Japan\", \"Weight_in_lbs\": 1970, \"Year\": \"1982-01-01\"}, {\"Acceleration\": 14.7, \"Cylinders\": 4, \"Displacement\": 105.0, \"Horsepower\": 63.0, \"Miles_per_Gallon\": 38.0, \"Name\": \"plymouth horizon miser\", \"Origin\": \"USA\", \"Weight_in_lbs\": 2125, \"Year\": \"1982-01-01\"}, {\"Acceleration\": 17.3, \"Cylinders\": 4, \"Displacement\": 98.0, \"Horsepower\": 70.0, \"Miles_per_Gallon\": 36.0, \"Name\": \"mercury lynx l\", \"Origin\": \"USA\", \"Weight_in_lbs\": 2125, \"Year\": \"1982-01-01\"}, {\"Acceleration\": 14.5, \"Cylinders\": 4, \"Displacement\": 120.0, \"Horsepower\": 88.0, \"Miles_per_Gallon\": 36.0, \"Name\": \"nissan stanza xe\", \"Origin\": \"Japan\", \"Weight_in_lbs\": 2160, \"Year\": \"1982-01-01\"}, {\"Acceleration\": 14.5, \"Cylinders\": 4, \"Displacement\": 107.0, \"Horsepower\": 75.0, \"Miles_per_Gallon\": 36.0, \"Name\": \"honda Accelerationord\", \"Origin\": \"Japan\", \"Weight_in_lbs\": 2205, \"Year\": \"1982-01-01\"}, {\"Acceleration\": 16.9, \"Cylinders\": 4, \"Displacement\": 108.0, \"Horsepower\": 70.0, \"Miles_per_Gallon\": 34.0, \"Name\": \"toyota corolla\", \"Origin\": \"Japan\", \"Weight_in_lbs\": 2245, \"Year\": \"1982-01-01\"}, {\"Acceleration\": 15.0, \"Cylinders\": 4, \"Displacement\": 91.0, \"Horsepower\": 67.0, \"Miles_per_Gallon\": 38.0, \"Name\": \"honda civic\", \"Origin\": \"Japan\", \"Weight_in_lbs\": 1965, \"Year\": \"1982-01-01\"}, {\"Acceleration\": 15.7, \"Cylinders\": 4, \"Displacement\": 91.0, \"Horsepower\": 67.0, \"Miles_per_Gallon\": 32.0, \"Name\": \"honda civic (auto)\", \"Origin\": \"Japan\", \"Weight_in_lbs\": 1965, \"Year\": \"1982-01-01\"}, {\"Acceleration\": 16.2, \"Cylinders\": 4, \"Displacement\": 91.0, \"Horsepower\": 67.0, \"Miles_per_Gallon\": 38.0, \"Name\": \"datsun 310 gx\", \"Origin\": \"Japan\", \"Weight_in_lbs\": 1995, \"Year\": \"1982-01-01\"}, {\"Acceleration\": 16.4, \"Cylinders\": 6, \"Displacement\": 181.0, \"Horsepower\": 110.0, \"Miles_per_Gallon\": 25.0, \"Name\": \"buick century limited\", \"Origin\": \"USA\", \"Weight_in_lbs\": 2945, \"Year\": \"1982-01-01\"}, {\"Acceleration\": 17.0, \"Cylinders\": 6, \"Displacement\": 262.0, \"Horsepower\": 85.0, \"Miles_per_Gallon\": 38.0, \"Name\": \"oldsmobile cutlass ciera (diesel)\", \"Origin\": \"USA\", \"Weight_in_lbs\": 3015, \"Year\": \"1982-01-01\"}, {\"Acceleration\": 14.5, \"Cylinders\": 4, \"Displacement\": 156.0, \"Horsepower\": 92.0, \"Miles_per_Gallon\": 26.0, \"Name\": \"chrysler lebaron medallion\", \"Origin\": \"USA\", \"Weight_in_lbs\": 2585, \"Year\": \"1982-01-01\"}, {\"Acceleration\": 14.7, \"Cylinders\": 6, \"Displacement\": 232.0, \"Horsepower\": 112.0, \"Miles_per_Gallon\": 22.0, \"Name\": \"ford granada l\", \"Origin\": \"USA\", \"Weight_in_lbs\": 2835, \"Year\": \"1982-01-01\"}, {\"Acceleration\": 13.9, \"Cylinders\": 4, \"Displacement\": 144.0, \"Horsepower\": 96.0, \"Miles_per_Gallon\": 32.0, \"Name\": \"toyota celica gt\", \"Origin\": \"Japan\", \"Weight_in_lbs\": 2665, \"Year\": \"1982-01-01\"}, {\"Acceleration\": 13.0, \"Cylinders\": 4, \"Displacement\": 135.0, \"Horsepower\": 84.0, \"Miles_per_Gallon\": 36.0, \"Name\": \"dodge charger 2.2\", \"Origin\": \"USA\", \"Weight_in_lbs\": 2370, \"Year\": \"1982-01-01\"}, {\"Acceleration\": 17.3, \"Cylinders\": 4, \"Displacement\": 151.0, \"Horsepower\": 90.0, \"Miles_per_Gallon\": 27.0, \"Name\": \"chevrolet camaro\", \"Origin\": \"USA\", \"Weight_in_lbs\": 2950, \"Year\": \"1982-01-01\"}, {\"Acceleration\": 15.6, \"Cylinders\": 4, \"Displacement\": 140.0, \"Horsepower\": 86.0, \"Miles_per_Gallon\": 27.0, \"Name\": \"ford mustang gl\", \"Origin\": \"USA\", \"Weight_in_lbs\": 2790, \"Year\": \"1982-01-01\"}, {\"Acceleration\": 24.6, \"Cylinders\": 4, \"Displacement\": 97.0, \"Horsepower\": 52.0, \"Miles_per_Gallon\": 44.0, \"Name\": \"vw pickup\", \"Origin\": \"Europe\", \"Weight_in_lbs\": 2130, \"Year\": \"1982-01-01\"}, {\"Acceleration\": 11.6, \"Cylinders\": 4, \"Displacement\": 135.0, \"Horsepower\": 84.0, \"Miles_per_Gallon\": 32.0, \"Name\": \"dodge rampage\", \"Origin\": \"USA\", \"Weight_in_lbs\": 2295, \"Year\": \"1982-01-01\"}, {\"Acceleration\": 18.6, \"Cylinders\": 4, \"Displacement\": 120.0, \"Horsepower\": 79.0, \"Miles_per_Gallon\": 28.0, \"Name\": \"ford ranger\", \"Origin\": \"USA\", \"Weight_in_lbs\": 2625, \"Year\": \"1982-01-01\"}, {\"Acceleration\": 19.4, \"Cylinders\": 4, \"Displacement\": 119.0, \"Horsepower\": 82.0, \"Miles_per_Gallon\": 31.0, \"Name\": \"chevy s-10\", \"Origin\": \"USA\", \"Weight_in_lbs\": 2720, \"Year\": \"1982-01-01\"}]}, \"$schema\": \"https://vega.github.io/schema/vega-lite/v1.2.1.json\"};\n",
       "var selector = \"#d1f9bf3b-fa14-4734-95d9-1c0f8327f27a\";\n",
       "var type = \"vega-lite\";\n",
       "\n",
       "var output_area = this;\n",
       "require(['nbextensions/jupyter-vega/index'], function(vega) {\n",
       "  vega.render(selector, spec, type, output_area);\n",
       "}, function (err) {\n",
       "  if (err.requireType !== 'scripterror') {\n",
       "    throw(err);\n",
       "  }\n",
       "});\n"
      ]
     },
     "metadata": {
      "jupyter-vega": "#d1f9bf3b-fa14-4734-95d9-1c0f8327f27a"
     },
     "output_type": "display_data"
    },
    {
     "data": {
      "image/png": "[encoded data removed]"
     },
     "metadata": {
      "jupyter-vega": "#d1f9bf3b-fa14-4734-95d9-1c0f8327f27a"
     },
     "output_type": "display_data"
    }
   ],
   "source": [
    "import altair as alt\n",
    "\n",
    "# Uncomment/run this line to enable Altair in JupyterLab/nteract:\n",
    "# alt.enable_mime_rendering()\n",
    "\n",
    "data = alt.load_dataset('cars')\n",
    "\n",
    "chart = alt.Chart(data).mark_circle().encode(\n",
    "    x='Horsepower',\n",
    "    y='Miles_per_Gallon',\n",
    "    color='Origin',\n",
    ")\n",
    "\n",
    "chart"
   ]
  },
  {
   "cell_type": "markdown",
   "metadata": {},
   "source": [
    "In most cases, the data passed to the ``Chart`` will be a standard Pandas dataframe, as we can see here:"
   ]
  },
  {
   "cell_type": "code",
   "execution_count": 2,
   "metadata": {},
   "outputs": [
    {
     "data": {
      "text/html": [
       "<div>\n",
       "<style scoped>\n",
       "    .dataframe tbody tr th:only-of-type {\n",
       "        vertical-align: middle;\n",
       "    }\n",
       "\n",
       "    .dataframe tbody tr th {\n",
       "        vertical-align: top;\n",
       "    }\n",
       "\n",
       "    .dataframe thead th {\n",
       "        text-align: right;\n",
       "    }\n",
       "</style>\n",
       "<table border=\"1\" class=\"dataframe\">\n",
       "  <thead>\n",
       "    <tr style=\"text-align: right;\">\n",
       "      <th></th>\n",
       "      <th>Acceleration</th>\n",
       "      <th>Cylinders</th>\n",
       "      <th>Displacement</th>\n",
       "      <th>Horsepower</th>\n",
       "      <th>Miles_per_Gallon</th>\n",
       "      <th>Name</th>\n",
       "      <th>Origin</th>\n",
       "      <th>Weight_in_lbs</th>\n",
       "      <th>Year</th>\n",
       "    </tr>\n",
       "  </thead>\n",
       "  <tbody>\n",
       "    <tr>\n",
       "      <th>0</th>\n",
       "      <td>12.0</td>\n",
       "      <td>8</td>\n",
       "      <td>307.0</td>\n",
       "      <td>130.0</td>\n",
       "      <td>18.0</td>\n",
       "      <td>chevrolet chevelle malibu</td>\n",
       "      <td>USA</td>\n",
       "      <td>3504</td>\n",
       "      <td>1970-01-01</td>\n",
       "    </tr>\n",
       "    <tr>\n",
       "      <th>1</th>\n",
       "      <td>11.5</td>\n",
       "      <td>8</td>\n",
       "      <td>350.0</td>\n",
       "      <td>165.0</td>\n",
       "      <td>15.0</td>\n",
       "      <td>buick skylark 320</td>\n",
       "      <td>USA</td>\n",
       "      <td>3693</td>\n",
       "      <td>1970-01-01</td>\n",
       "    </tr>\n",
       "    <tr>\n",
       "      <th>2</th>\n",
       "      <td>11.0</td>\n",
       "      <td>8</td>\n",
       "      <td>318.0</td>\n",
       "      <td>150.0</td>\n",
       "      <td>18.0</td>\n",
       "      <td>plymouth satellite</td>\n",
       "      <td>USA</td>\n",
       "      <td>3436</td>\n",
       "      <td>1970-01-01</td>\n",
       "    </tr>\n",
       "    <tr>\n",
       "      <th>3</th>\n",
       "      <td>12.0</td>\n",
       "      <td>8</td>\n",
       "      <td>304.0</td>\n",
       "      <td>150.0</td>\n",
       "      <td>16.0</td>\n",
       "      <td>amc rebel sst</td>\n",
       "      <td>USA</td>\n",
       "      <td>3433</td>\n",
       "      <td>1970-01-01</td>\n",
       "    </tr>\n",
       "    <tr>\n",
       "      <th>4</th>\n",
       "      <td>10.5</td>\n",
       "      <td>8</td>\n",
       "      <td>302.0</td>\n",
       "      <td>140.0</td>\n",
       "      <td>17.0</td>\n",
       "      <td>ford torino</td>\n",
       "      <td>USA</td>\n",
       "      <td>3449</td>\n",
       "      <td>1970-01-01</td>\n",
       "    </tr>\n",
       "  </tbody>\n",
       "</table>\n",
       "</div>"
      ],
      "text/plain": [
       "   Acceleration  Cylinders  Displacement  Horsepower  Miles_per_Gallon  \\\n",
       "0          12.0          8         307.0       130.0              18.0   \n",
       "1          11.5          8         350.0       165.0              15.0   \n",
       "2          11.0          8         318.0       150.0              18.0   \n",
       "3          12.0          8         304.0       150.0              16.0   \n",
       "4          10.5          8         302.0       140.0              17.0   \n",
       "\n",
       "                        Name Origin  Weight_in_lbs        Year  \n",
       "0  chevrolet chevelle malibu    USA           3504  1970-01-01  \n",
       "1          buick skylark 320    USA           3693  1970-01-01  \n",
       "2         plymouth satellite    USA           3436  1970-01-01  \n",
       "3              amc rebel sst    USA           3433  1970-01-01  \n",
       "4                ford torino    USA           3449  1970-01-01  "
      ]
     },
     "execution_count": 2,
     "metadata": {},
     "output_type": "execute_result"
    }
   ],
   "source": [
    "data.head()"
   ]
  },
  {
   "cell_type": "markdown",
   "metadata": {},
   "source": [
    "Under the hood, Altair interprets the input and constructs a Python dictionary of the vega spec:"
   ]
  },
  {
   "cell_type": "code",
   "execution_count": 3,
   "metadata": {},
   "outputs": [
    {
     "data": {
      "text/plain": [
       "{'$schema': 'https://vega.github.io/schema/vega-lite/v1.2.1.json',\n",
       " 'encoding': {'color': {'field': 'Origin', 'type': 'nominal'},\n",
       "  'x': {'field': 'Horsepower', 'type': 'quantitative'},\n",
       "  'y': {'field': 'Miles_per_Gallon', 'type': 'quantitative'}},\n",
       " 'mark': 'circle'}"
      ]
     },
     "execution_count": 3,
     "metadata": {},
     "output_type": "execute_result"
    }
   ],
   "source": [
    "chart.to_dict(data=False)"
   ]
  },
  {
   "cell_type": "markdown",
   "metadata": {},
   "source": [
    "When converted to JSON, this spec is exactly in the form expected by Vega-Lite."
   ]
  },
  {
   "cell_type": "markdown",
   "metadata": {},
   "source": [
    "## Comparison to Matplotlib"
   ]
  },
  {
   "cell_type": "markdown",
   "metadata": {},
   "source": [
    "To clarify the declarative nature of Altair, we perform the same visualization with [Matplotlib](http://matplotlib.org/). In this case, the user has to manually perform a group-by operation and label the axes and legend. With Altairs declarative approach, the user only has to specify *what* should happen, not *how*."
   ]
  },
  {
   "cell_type": "code",
   "execution_count": 4,
   "metadata": {},
   "outputs": [],
   "source": [
    "%matplotlib inline\n",
    "import matplotlib.pyplot as plt"
   ]
  },
  {
   "cell_type": "code",
   "execution_count": 5,
   "metadata": {},
   "outputs": [
    {
     "data": {
      "image/png": "[encoded data removed]",
      "text/plain": [
       "<matplotlib.figure.Figure at 0x1078f44e0>"
      ]
     },
     "metadata": {},
     "output_type": "display_data"
    }
   ],
   "source": [
    "for (origin), group in data.groupby('Origin'):\n",
    "    plt.plot(group['Horsepower'], group['Miles_per_Gallon'],\n",
    "             'o', label=origin)\n",
    "plt.legend(title='Origin')\n",
    "plt.xlabel('Horsepower')\n",
    "plt.ylabel('Miles_per_Gallon');\n",
    "plt.grid(True)"
   ]
  },
  {
   "cell_type": "markdown",
   "metadata": {},
   "source": [
    "## Documentation\n",
    "\n",
    "You can learn more about Altair at its documentation site:\n",
    "\n",
    "- [Altair Documentation](http://altair-viz.github.io)\n",
    "\n",
    "Additionally, it can be useful when using Altair to understand the Vega-Lite library that underlies it. Vega-Lite's documentation can be found here:\n",
    "\n",
    "- [Vega-Lite Documentation](https://vega.github.io/vega-lite/docs/)"
   ]
  },
  {
   "cell_type": "markdown",
   "metadata": {},
   "source": [
    "# Tutorial: Introduction to Altair"
   ]
  },
  {
   "cell_type": "markdown",
   "metadata": {},
   "source": [
    "This tutorial will guide you through the process of creating visualizations in Altair. For details on installing Altair or its underlying philosophy, please see the [Altair Documentation](http://altair-viz.github.io/)\n",
    "\n",
    "Outline:\n",
    "\n",
    "- [The data](#The-data)\n",
    "- [The `Chart` object](#The-Chart-object)\n",
    "- [Data encodings and marks](#Data-encodings-and-marks)\n",
    "- [Data transformation: Aggregation](#Data-transformation:-Aggregation)\n",
    "- [Customizing your visualization](#Customizing-your-visualization)\n",
    "- [Publishing a visualization online](#Publishing-a-visualization-online)\n",
    "\n",
    "This tutorial is written in the form of a Jupyter Notebook; we suggest downloading the notebook and following along, executing the code yourself as we go. For creating Altair visualizations in the notebook, all that is required is to [install the package and its dependencies](https://altair-viz.github.io/installation.html) and import the Altair namespace:"
   ]
  },
  {
   "cell_type": "code",
   "execution_count": 6,
   "metadata": {},
   "outputs": [],
   "source": [
    "import altair as alt"
   ]
  },
  {
   "cell_type": "code",
   "execution_count": 7,
   "metadata": {},
   "outputs": [],
   "source": [
    "# Uncomment/run this line to enable Altair in JupyterLab/nteract:\n",
    "# alt.enable_mime_rendering()"
   ]
  },
  {
   "cell_type": "markdown",
   "metadata": {},
   "source": [
    "## The data"
   ]
  },
  {
   "cell_type": "markdown",
   "metadata": {},
   "source": [
    "Data in Altair is built around the [Pandas Dataframe](http://pandas.pydata.org/pandas-docs/stable/generated/pandas.DataFrame.html).\n",
    "For the purposes of this tutorial, we'll start by importing Pandas and creating a simple `DataFrame` to visualize, with a categorical variable in column `a` and a numerical variable in column `b`:"
   ]
  },
  {
   "cell_type": "code",
   "execution_count": 8,
   "metadata": {},
   "outputs": [
    {
     "data": {
      "text/html": [
       "<div>\n",
       "<style scoped>\n",
       "    .dataframe tbody tr th:only-of-type {\n",
       "        vertical-align: middle;\n",
       "    }\n",
       "\n",
       "    .dataframe tbody tr th {\n",
       "        vertical-align: top;\n",
       "    }\n",
       "\n",
       "    .dataframe thead th {\n",
       "        text-align: right;\n",
       "    }\n",
       "</style>\n",
       "<table border=\"1\" class=\"dataframe\">\n",
       "  <thead>\n",
       "    <tr style=\"text-align: right;\">\n",
       "      <th></th>\n",
       "      <th>a</th>\n",
       "      <th>b</th>\n",
       "    </tr>\n",
       "  </thead>\n",
       "  <tbody>\n",
       "    <tr>\n",
       "      <th>0</th>\n",
       "      <td>C</td>\n",
       "      <td>2</td>\n",
       "    </tr>\n",
       "    <tr>\n",
       "      <th>1</th>\n",
       "      <td>C</td>\n",
       "      <td>7</td>\n",
       "    </tr>\n",
       "    <tr>\n",
       "      <th>2</th>\n",
       "      <td>C</td>\n",
       "      <td>4</td>\n",
       "    </tr>\n",
       "    <tr>\n",
       "      <th>3</th>\n",
       "      <td>D</td>\n",
       "      <td>1</td>\n",
       "    </tr>\n",
       "    <tr>\n",
       "      <th>4</th>\n",
       "      <td>D</td>\n",
       "      <td>2</td>\n",
       "    </tr>\n",
       "    <tr>\n",
       "      <th>5</th>\n",
       "      <td>D</td>\n",
       "      <td>6</td>\n",
       "    </tr>\n",
       "    <tr>\n",
       "      <th>6</th>\n",
       "      <td>E</td>\n",
       "      <td>8</td>\n",
       "    </tr>\n",
       "    <tr>\n",
       "      <th>7</th>\n",
       "      <td>E</td>\n",
       "      <td>4</td>\n",
       "    </tr>\n",
       "    <tr>\n",
       "      <th>8</th>\n",
       "      <td>E</td>\n",
       "      <td>7</td>\n",
       "    </tr>\n",
       "  </tbody>\n",
       "</table>\n",
       "</div>"
      ],
      "text/plain": [
       "   a  b\n",
       "0  C  2\n",
       "1  C  7\n",
       "2  C  4\n",
       "3  D  1\n",
       "4  D  2\n",
       "5  D  6\n",
       "6  E  8\n",
       "7  E  4\n",
       "8  E  7"
      ]
     },
     "execution_count": 8,
     "metadata": {},
     "output_type": "execute_result"
    }
   ],
   "source": [
    "import pandas as pd\n",
    "data = pd.DataFrame({'a': list('CCCDDDEEE'),\n",
    "                     'b': [2, 7, 4, 1, 2, 6, 8, 4, 7]})\n",
    "data"
   ]
  },
  {
   "cell_type": "markdown",
   "metadata": {},
   "source": [
    "In Altair, every dataset should be provided as a `Dataframe`, or as a URL referencing an appropriate dataset (see [Defining Data](https://altair-viz.github.io/documentation/data.html))."
   ]
  },
  {
   "cell_type": "markdown",
   "metadata": {},
   "source": [
    "## The `Chart` object\n",
    "\n",
    "The fundamental object in Altair is the ``Chart``. It takes the dataframe as a single argument:"
   ]
  },
  {
   "cell_type": "code",
   "execution_count": 9,
   "metadata": {},
   "outputs": [],
   "source": [
    "chart = alt.Chart(data)"
   ]
  },
  {
   "cell_type": "markdown",
   "metadata": {},
   "source": [
    "Fundamentally, a ``Chart`` is an object which knows how to emit a JSON dictionary representing the data and visualization encodings (see below), which can be sent to the notebook and rendered by the Vega-Lite JavaScript library.\n",
    "\n",
    "Here is what that JSON looks like for the current chart:"
   ]
  },
  {
   "cell_type": "code",
   "execution_count": 10,
   "metadata": {},
   "outputs": [
    {
     "data": {
      "text/plain": [
       "{'$schema': 'https://vega.github.io/schema/vega-lite/v1.2.1.json',\n",
       " 'data': {'values': [{'a': 'C', 'b': 2},\n",
       "   {'a': 'C', 'b': 7},\n",
       "   {'a': 'C', 'b': 4},\n",
       "   {'a': 'D', 'b': 1},\n",
       "   {'a': 'D', 'b': 2},\n",
       "   {'a': 'D', 'b': 6},\n",
       "   {'a': 'E', 'b': 8},\n",
       "   {'a': 'E', 'b': 4},\n",
       "   {'a': 'E', 'b': 7}]},\n",
       " 'mark': 'point'}"
      ]
     },
     "execution_count": 10,
     "metadata": {},
     "output_type": "execute_result"
    }
   ],
   "source": [
    "chart.to_dict()"
   ]
  },
  {
   "cell_type": "markdown",
   "metadata": {},
   "source": [
    "At this point the specification contains only the data, and no visualization specification."
   ]
  },
  {
   "cell_type": "markdown",
   "metadata": {},
   "source": [
    "## Chart Marks\n",
    "\n",
    "Next we can decide what sort of *mark* we would like to use to represent our data.\n",
    "For example, we can choose the ``point`` mark to represent each data as a point on the plot:"
   ]
  },
  {
   "cell_type": "code",
   "execution_count": 11,
   "metadata": {},
   "outputs": [
    {
     "data": {
      "text/html": [
       "<div class=\"vega-embed\" id=\"e45de4b5-9cab-48a7-9fb9-277c7bbf96a8\"></div>\n",
       "\n",
       "<style>\n",
       ".vega-embed svg, .vega-embed canvas {\n",
       "  border: 1px dotted gray;\n",
       "}\n",
       "\n",
       ".vega-embed .vega-actions a {\n",
       "  margin-right: 6px;\n",
       "}\n",
       "</style>\n"
      ]
     },
     "metadata": {
      "jupyter-vega": "#e45de4b5-9cab-48a7-9fb9-277c7bbf96a8"
     },
     "output_type": "display_data"
    },
    {
     "data": {
      "application/javascript": [
       "var spec = {\"config\": {\"cell\": {\"width\": 500, \"height\": 350}}, \"mark\": \"point\", \"data\": {\"values\": [{\"a\": \"C\", \"b\": 2}, {\"a\": \"C\", \"b\": 7}, {\"a\": \"C\", \"b\": 4}, {\"a\": \"D\", \"b\": 1}, {\"a\": \"D\", \"b\": 2}, {\"a\": \"D\", \"b\": 6}, {\"a\": \"E\", \"b\": 8}, {\"a\": \"E\", \"b\": 4}, {\"a\": \"E\", \"b\": 7}]}, \"$schema\": \"https://vega.github.io/schema/vega-lite/v1.2.1.json\"};\n",
       "var selector = \"#e45de4b5-9cab-48a7-9fb9-277c7bbf96a8\";\n",
       "var type = \"vega-lite\";\n",
       "\n",
       "var output_area = this;\n",
       "require(['nbextensions/jupyter-vega/index'], function(vega) {\n",
       "  vega.render(selector, spec, type, output_area);\n",
       "}, function (err) {\n",
       "  if (err.requireType !== 'scripterror') {\n",
       "    throw(err);\n",
       "  }\n",
       "});\n"
      ]
     },
     "metadata": {
      "jupyter-vega": "#e45de4b5-9cab-48a7-9fb9-277c7bbf96a8"
     },
     "output_type": "display_data"
    },
    {
     "data": {
      "image/png": "[encoded data removed]"
     },
     "metadata": {
      "jupyter-vega": "#e45de4b5-9cab-48a7-9fb9-277c7bbf96a8"
     },
     "output_type": "display_data"
    }
   ],
   "source": [
    "chart = alt.Chart(data).mark_point()\n",
    "chart"
   ]
  },
  {
   "cell_type": "markdown",
   "metadata": {},
   "source": [
    "The result is a visualization with one point per row in the data, though it is not a particularly interesting: all the points are stacked right on top of each other!\n",
    "To see how this affects the specification, we can once again examine the JSON:"
   ]
  },
  {
   "cell_type": "code",
   "execution_count": 12,
   "metadata": {},
   "outputs": [
    {
     "data": {
      "text/plain": [
       "{'$schema': 'https://vega.github.io/schema/vega-lite/v1.2.1.json',\n",
       " 'data': {'values': [{'a': 'C', 'b': 2},\n",
       "   {'a': 'C', 'b': 7},\n",
       "   {'a': 'C', 'b': 4},\n",
       "   {'a': 'D', 'b': 1},\n",
       "   {'a': 'D', 'b': 2},\n",
       "   {'a': 'D', 'b': 6},\n",
       "   {'a': 'E', 'b': 8},\n",
       "   {'a': 'E', 'b': 4},\n",
       "   {'a': 'E', 'b': 7}]},\n",
       " 'mark': 'point'}"
      ]
     },
     "execution_count": 12,
     "metadata": {},
     "output_type": "execute_result"
    }
   ],
   "source": [
    "chart.to_dict()"
   ]
  },
  {
   "cell_type": "markdown",
   "metadata": {},
   "source": [
    "Notice that now in addition to the data, the specification includes information about the mark type."
   ]
  },
  {
   "cell_type": "markdown",
   "metadata": {},
   "source": [
    "## Data encodings"
   ]
  },
  {
   "cell_type": "markdown",
   "metadata": {},
   "source": [
    "The next step is to add *visual encodings* (or *encodings* for short) to the chart. A visual encoding specifies how a given data column should be mapped onto the visual properties of the visualization.\n",
    "Some of the more frequenty used visual encodings are listed here:\n",
    "\n",
    "* X: x-axis value\n",
    "* Y: y-axis value\n",
    "* Color: color of the mark\n",
    "* Opacity: transparency/opacity of the mark\n",
    "* Shape: shape of the mark\n",
    "* Size: size of the mark\n",
    "* Row: row within a grid of facet plots\n",
    "* Column: column within a grid of facet plots\n",
    "\n",
    "For a complete list of these encodings, see the [Encodings](https://altair-viz.github.io/documentation/encoding.html) section of the documentation.\n",
    "\n",
    "Visual encodings can be created with the `encode()` method of the `Chart` object. For example, we can start by mapping the `y` axis of the chart to column `a`:"
   ]
  },
  {
   "cell_type": "code",
   "execution_count": 13,
   "metadata": {},
   "outputs": [
    {
     "data": {
      "text/html": [
       "<div class=\"vega-embed\" id=\"cb9c8402-f2bd-4b70-a89d-2c7ed7016aec\"></div>\n",
       "\n",
       "<style>\n",
       ".vega-embed svg, .vega-embed canvas {\n",
       "  border: 1px dotted gray;\n",
       "}\n",
       "\n",
       ".vega-embed .vega-actions a {\n",
       "  margin-right: 6px;\n",
       "}\n",
       "</style>\n"
      ]
     },
     "metadata": {
      "jupyter-vega": "#cb9c8402-f2bd-4b70-a89d-2c7ed7016aec"
     },
     "output_type": "display_data"
    },
    {
     "data": {
      "application/javascript": [
       "var spec = {\"config\": {\"cell\": {\"width\": 500, \"height\": 350}}, \"encoding\": {\"y\": {\"field\": \"a\", \"type\": \"nominal\"}}, \"mark\": \"point\", \"data\": {\"values\": [{\"a\": \"C\", \"b\": 2}, {\"a\": \"C\", \"b\": 7}, {\"a\": \"C\", \"b\": 4}, {\"a\": \"D\", \"b\": 1}, {\"a\": \"D\", \"b\": 2}, {\"a\": \"D\", \"b\": 6}, {\"a\": \"E\", \"b\": 8}, {\"a\": \"E\", \"b\": 4}, {\"a\": \"E\", \"b\": 7}]}, \"$schema\": \"https://vega.github.io/schema/vega-lite/v1.2.1.json\"};\n",
       "var selector = \"#cb9c8402-f2bd-4b70-a89d-2c7ed7016aec\";\n",
       "var type = \"vega-lite\";\n",
       "\n",
       "var output_area = this;\n",
       "require(['nbextensions/jupyter-vega/index'], function(vega) {\n",
       "  vega.render(selector, spec, type, output_area);\n",
       "}, function (err) {\n",
       "  if (err.requireType !== 'scripterror') {\n",
       "    throw(err);\n",
       "  }\n",
       "});\n"
      ]
     },
     "metadata": {
      "jupyter-vega": "#cb9c8402-f2bd-4b70-a89d-2c7ed7016aec"
     },
     "output_type": "display_data"
    },
    {
     "data": {
      "image/png": "[encoded data removed]"
     },
     "metadata": {
      "jupyter-vega": "#cb9c8402-f2bd-4b70-a89d-2c7ed7016aec"
     },
     "output_type": "display_data"
    }
   ],
   "source": [
    "c = alt.Chart(data).mark_point().encode(y='a')\n",
    "c # save the Chart to a variable and then display"
   ]
  },
  {
   "cell_type": "markdown",
   "metadata": {},
   "source": [
    "The result is a one-dimensional visualization representing the values taken on by `a`.\n",
    "As above, we can view the JSON data generated for this visualization:"
   ]
  },
  {
   "cell_type": "code",
   "execution_count": 14,
   "metadata": {},
   "outputs": [
    {
     "data": {
      "text/plain": [
       "{'$schema': 'https://vega.github.io/schema/vega-lite/v1.2.1.json',\n",
       " 'data': {'values': [{'a': 'C', 'b': 2},\n",
       "   {'a': 'C', 'b': 7},\n",
       "   {'a': 'C', 'b': 4},\n",
       "   {'a': 'D', 'b': 1},\n",
       "   {'a': 'D', 'b': 2},\n",
       "   {'a': 'D', 'b': 6},\n",
       "   {'a': 'E', 'b': 8},\n",
       "   {'a': 'E', 'b': 4},\n",
       "   {'a': 'E', 'b': 7}]},\n",
       " 'encoding': {'y': {'field': 'a', 'type': 'nominal'}},\n",
       " 'mark': 'point'}"
      ]
     },
     "execution_count": 14,
     "metadata": {},
     "output_type": "execute_result"
    }
   ],
   "source": [
    "c.to_dict()"
   ]
  },
  {
   "cell_type": "markdown",
   "metadata": {},
   "source": [
    "The result is the same as above with the addition of the `'encoding'` key, which specifies the visualization channel (`y`), the name of the field (`a`), and the type of the variable (`nominal`).\n",
    "\n",
    "Altair is able to automatically determine the type of the variable using built-in heuristics. Altair and Vega-Lite support four primitive data types:\n",
    "\n",
    "<table>\n",
    "  <tr>\n",
    "    <th>Data Type</th>\n",
    "    <th>Code</th>\n",
    "    <th>Description</th>\n",
    "  </tr>\n",
    "  <tr>\n",
    "    <td>quantitative</td>\n",
    "    <td>Q</td>\n",
    "    <td>Number (real-valued)</td>\n",
    "  </tr>\n",
    "  <tr>\n",
    "    <td>nominal</td>\n",
    "    <td>N</td>\n",
    "    <td>Unordered categorical</td>\n",
    "  </tr>\n",
    "  <tr>\n",
    "    <td>ordinal</td>\n",
    "    <td>O</td>\n",
    "    <td>Ordered categorial</td>\n",
    "  </tr>\n",
    "  <tr>\n",
    "    <td>temporal</td>\n",
    "    <td>T</td>\n",
    "    <td>Date/time</td>\n",
    "  </tr>\n",
    "</table>\n",
    "\n",
    "You can set the data type of a column explicitly using a one letter code as follows:"
   ]
  },
  {
   "cell_type": "code",
   "execution_count": 15,
   "metadata": {},
   "outputs": [
    {
     "data": {
      "text/html": [
       "<div class=\"vega-embed\" id=\"4d8e5f19-a945-4630-8c06-5984e6ca9c32\"></div>\n",
       "\n",
       "<style>\n",
       ".vega-embed svg, .vega-embed canvas {\n",
       "  border: 1px dotted gray;\n",
       "}\n",
       "\n",
       ".vega-embed .vega-actions a {\n",
       "  margin-right: 6px;\n",
       "}\n",
       "</style>\n"
      ]
     },
     "metadata": {
      "jupyter-vega": "#4d8e5f19-a945-4630-8c06-5984e6ca9c32"
     },
     "output_type": "display_data"
    },
    {
     "data": {
      "application/javascript": [
       "var spec = {\"config\": {\"cell\": {\"width\": 500, \"height\": 350}}, \"encoding\": {\"y\": {\"field\": \"a\", \"type\": \"nominal\"}}, \"mark\": \"point\", \"data\": {\"values\": [{\"a\": \"C\", \"b\": 2}, {\"a\": \"C\", \"b\": 7}, {\"a\": \"C\", \"b\": 4}, {\"a\": \"D\", \"b\": 1}, {\"a\": \"D\", \"b\": 2}, {\"a\": \"D\", \"b\": 6}, {\"a\": \"E\", \"b\": 8}, {\"a\": \"E\", \"b\": 4}, {\"a\": \"E\", \"b\": 7}]}, \"$schema\": \"https://vega.github.io/schema/vega-lite/v1.2.1.json\"};\n",
       "var selector = \"#4d8e5f19-a945-4630-8c06-5984e6ca9c32\";\n",
       "var type = \"vega-lite\";\n",
       "\n",
       "var output_area = this;\n",
       "require(['nbextensions/jupyter-vega/index'], function(vega) {\n",
       "  vega.render(selector, spec, type, output_area);\n",
       "}, function (err) {\n",
       "  if (err.requireType !== 'scripterror') {\n",
       "    throw(err);\n",
       "  }\n",
       "});\n"
      ]
     },
     "metadata": {
      "jupyter-vega": "#4d8e5f19-a945-4630-8c06-5984e6ca9c32"
     },
     "output_type": "display_data"
    },
    {
     "data": {
      "image/png": "[encoded data removed]"
     },
     "metadata": {
      "jupyter-vega": "#4d8e5f19-a945-4630-8c06-5984e6ca9c32"
     },
     "output_type": "display_data"
    }
   ],
   "source": [
    "alt.Chart(data).mark_point().encode(y='a:N')"
   ]
  },
  {
   "cell_type": "markdown",
   "metadata": {},
   "source": [
    "The visualization can be made more interesting by adding another channel to the encoding: let's encode column `b` as the `x` position:"
   ]
  },
  {
   "cell_type": "code",
   "execution_count": 16,
   "metadata": {},
   "outputs": [
    {
     "data": {
      "text/html": [
       "<div class=\"vega-embed\" id=\"8622fdcd-5e5f-483e-b3e9-88f46618794a\"></div>\n",
       "\n",
       "<style>\n",
       ".vega-embed svg, .vega-embed canvas {\n",
       "  border: 1px dotted gray;\n",
       "}\n",
       "\n",
       ".vega-embed .vega-actions a {\n",
       "  margin-right: 6px;\n",
       "}\n",
       "</style>\n"
      ]
     },
     "metadata": {
      "jupyter-vega": "#8622fdcd-5e5f-483e-b3e9-88f46618794a"
     },
     "output_type": "display_data"
    },
    {
     "data": {
      "application/javascript": [
       "var spec = {\"config\": {\"cell\": {\"width\": 500, \"height\": 350}}, \"encoding\": {\"x\": {\"field\": \"b\", \"type\": \"quantitative\"}, \"y\": {\"field\": \"a\", \"type\": \"nominal\"}}, \"mark\": \"point\", \"data\": {\"values\": [{\"a\": \"C\", \"b\": 2}, {\"a\": \"C\", \"b\": 7}, {\"a\": \"C\", \"b\": 4}, {\"a\": \"D\", \"b\": 1}, {\"a\": \"D\", \"b\": 2}, {\"a\": \"D\", \"b\": 6}, {\"a\": \"E\", \"b\": 8}, {\"a\": \"E\", \"b\": 4}, {\"a\": \"E\", \"b\": 7}]}, \"$schema\": \"https://vega.github.io/schema/vega-lite/v1.2.1.json\"};\n",
       "var selector = \"#8622fdcd-5e5f-483e-b3e9-88f46618794a\";\n",
       "var type = \"vega-lite\";\n",
       "\n",
       "var output_area = this;\n",
       "require(['nbextensions/jupyter-vega/index'], function(vega) {\n",
       "  vega.render(selector, spec, type, output_area);\n",
       "}, function (err) {\n",
       "  if (err.requireType !== 'scripterror') {\n",
       "    throw(err);\n",
       "  }\n",
       "});\n"
      ]
     },
     "metadata": {
      "jupyter-vega": "#8622fdcd-5e5f-483e-b3e9-88f46618794a"
     },
     "output_type": "display_data"
    },
    {
     "data": {
      "image/png": "[encoded data removed]"
     },
     "metadata": {
      "jupyter-vega": "#8622fdcd-5e5f-483e-b3e9-88f46618794a"
     },
     "output_type": "display_data"
    }
   ],
   "source": [
    "alt.Chart(data).mark_point().encode(\n",
    "    y='a',\n",
    "    x='b'\n",
    ")"
   ]
  },
  {
   "cell_type": "markdown",
   "metadata": {},
   "source": [
    "With two visual channels encoded, we can see the raw data points in the `DataFrame`. A different mark type can be chosen using a different `mark_*()` method, such as `mark_bar()`:"
   ]
  },
  {
   "cell_type": "code",
   "execution_count": 17,
   "metadata": {},
   "outputs": [
    {
     "data": {
      "text/html": [
       "<div class=\"vega-embed\" id=\"b6763968-8ab7-44c2-8c62-dfcd64ce5fa6\"></div>\n",
       "\n",
       "<style>\n",
       ".vega-embed svg, .vega-embed canvas {\n",
       "  border: 1px dotted gray;\n",
       "}\n",
       "\n",
       ".vega-embed .vega-actions a {\n",
       "  margin-right: 6px;\n",
       "}\n",
       "</style>\n"
      ]
     },
     "metadata": {
      "jupyter-vega": "#b6763968-8ab7-44c2-8c62-dfcd64ce5fa6"
     },
     "output_type": "display_data"
    },
    {
     "data": {
      "application/javascript": [
       "var spec = {\"config\": {\"cell\": {\"width\": 500, \"height\": 350}}, \"encoding\": {\"x\": {\"field\": \"b\", \"type\": \"quantitative\"}, \"y\": {\"field\": \"a\", \"type\": \"nominal\"}}, \"mark\": \"bar\", \"data\": {\"values\": [{\"a\": \"C\", \"b\": 2}, {\"a\": \"C\", \"b\": 7}, {\"a\": \"C\", \"b\": 4}, {\"a\": \"D\", \"b\": 1}, {\"a\": \"D\", \"b\": 2}, {\"a\": \"D\", \"b\": 6}, {\"a\": \"E\", \"b\": 8}, {\"a\": \"E\", \"b\": 4}, {\"a\": \"E\", \"b\": 7}]}, \"$schema\": \"https://vega.github.io/schema/vega-lite/v1.2.1.json\"};\n",
       "var selector = \"#b6763968-8ab7-44c2-8c62-dfcd64ce5fa6\";\n",
       "var type = \"vega-lite\";\n",
       "\n",
       "var output_area = this;\n",
       "require(['nbextensions/jupyter-vega/index'], function(vega) {\n",
       "  vega.render(selector, spec, type, output_area);\n",
       "}, function (err) {\n",
       "  if (err.requireType !== 'scripterror') {\n",
       "    throw(err);\n",
       "  }\n",
       "});\n"
      ]
     },
     "metadata": {
      "jupyter-vega": "#b6763968-8ab7-44c2-8c62-dfcd64ce5fa6"
     },
     "output_type": "display_data"
    },
    {
     "data": {
      "image/png": "[encoded data removed]"
     },
     "metadata": {
      "jupyter-vega": "#b6763968-8ab7-44c2-8c62-dfcd64ce5fa6"
     },
     "output_type": "display_data"
    }
   ],
   "source": [
    "alt.Chart(data).mark_bar().encode(\n",
    "    alt.Y('a'),\n",
    "    alt.X('b')\n",
    ")"
   ]
  },
  {
   "cell_type": "markdown",
   "metadata": {},
   "source": [
    "Notice, we have used a slightly different syntax for specifying the channels using classes (`X` and `Y`) passed as positional arguments. These classes allow additional arguments to be passed to each channel.\n",
    "\n",
    "Here are some of the more commonly used `mark_*()` methods supported in Altair and Vega-Lite; for more detail see [Markings](https://altair-viz.github.io/documentation/marks.html) in the Altair documentation:\n",
    "\n",
    "<table>\n",
    "  <tr>\n",
    "    <th>Method</th>\n",
    "  </tr>\n",
    "  <tr>\n",
    "    <td><code>mark_area()</code></td>\n",
    "  </tr>\n",
    "  <tr>\n",
    "    <td><code>mark_bar()</code></td>\n",
    "  </tr>\n",
    "  <tr>\n",
    "    <td><code>mark_circle()</code></td>\n",
    "  </tr>\n",
    "  <tr>\n",
    "    <td><code>mark_line()</code></td>\n",
    "  </tr>\n",
    "  <tr>\n",
    "    <td><code>mark_point()</code></td>\n",
    "  </tr>\n",
    "  <tr>\n",
    "    <td><code>mark_rule()</code></td>\n",
    "  </tr>\n",
    "  <tr>\n",
    "    <td><code>mark_square()</code></td>\n",
    "  </tr>\n",
    "  <tr>\n",
    "    <td><code>mark_text()</code></td>\n",
    "  </tr>\n",
    "  <tr>\n",
    "    <td><code>mark_tick()</code></td>\n",
    "  </tr>\n",
    "</table>\n",
    "\n"
   ]
  },
  {
   "cell_type": "markdown",
   "metadata": {},
   "source": [
    "## Data transformation: Aggregation"
   ]
  },
  {
   "cell_type": "markdown",
   "metadata": {},
   "source": [
    "Altair and Vega-Lite also support a variety of built-in data transformations, such as aggregation. The easiest way to specify such aggregations is through a string-function syntax in the argument to the column name. For example, here we will plot not all the values, but a single point representing the average of the x-values for a given y-value:"
   ]
  },
  {
   "cell_type": "code",
   "execution_count": 18,
   "metadata": {},
   "outputs": [
    {
     "data": {
      "text/html": [
       "<div class=\"vega-embed\" id=\"e6d7a9ad-98ee-44d8-b228-865f5d1a2c93\"></div>\n",
       "\n",
       "<style>\n",
       ".vega-embed svg, .vega-embed canvas {\n",
       "  border: 1px dotted gray;\n",
       "}\n",
       "\n",
       ".vega-embed .vega-actions a {\n",
       "  margin-right: 6px;\n",
       "}\n",
       "</style>\n"
      ]
     },
     "metadata": {
      "jupyter-vega": "#e6d7a9ad-98ee-44d8-b228-865f5d1a2c93"
     },
     "output_type": "display_data"
    },
    {
     "data": {
      "application/javascript": [
       "var spec = {\"config\": {\"cell\": {\"width\": 500, \"height\": 350}}, \"encoding\": {\"x\": {\"aggregate\": \"average\", \"field\": \"b\", \"type\": \"quantitative\"}, \"y\": {\"field\": \"a\", \"type\": \"nominal\"}}, \"mark\": \"point\", \"data\": {\"values\": [{\"a\": \"C\", \"b\": 2}, {\"a\": \"C\", \"b\": 7}, {\"a\": \"C\", \"b\": 4}, {\"a\": \"D\", \"b\": 1}, {\"a\": \"D\", \"b\": 2}, {\"a\": \"D\", \"b\": 6}, {\"a\": \"E\", \"b\": 8}, {\"a\": \"E\", \"b\": 4}, {\"a\": \"E\", \"b\": 7}]}, \"$schema\": \"https://vega.github.io/schema/vega-lite/v1.2.1.json\"};\n",
       "var selector = \"#e6d7a9ad-98ee-44d8-b228-865f5d1a2c93\";\n",
       "var type = \"vega-lite\";\n",
       "\n",
       "var output_area = this;\n",
       "require(['nbextensions/jupyter-vega/index'], function(vega) {\n",
       "  vega.render(selector, spec, type, output_area);\n",
       "}, function (err) {\n",
       "  if (err.requireType !== 'scripterror') {\n",
       "    throw(err);\n",
       "  }\n",
       "});\n"
      ]
     },
     "metadata": {
      "jupyter-vega": "#e6d7a9ad-98ee-44d8-b228-865f5d1a2c93"
     },
     "output_type": "display_data"
    },
    {
     "data": {
      "image/png": "[encoded data removed]"
     },
     "metadata": {
      "jupyter-vega": "#e6d7a9ad-98ee-44d8-b228-865f5d1a2c93"
     },
     "output_type": "display_data"
    }
   ],
   "source": [
    "alt.Chart(data).mark_point().encode(\n",
    "    y='a',\n",
    "    x='average(b)'\n",
    ")"
   ]
  },
  {
   "cell_type": "markdown",
   "metadata": {},
   "source": [
    "Conceptually, this is equivalent to the following groupby operation:"
   ]
  },
  {
   "cell_type": "code",
   "execution_count": 19,
   "metadata": {},
   "outputs": [
    {
     "data": {
      "text/html": [
       "<div>\n",
       "<style scoped>\n",
       "    .dataframe tbody tr th:only-of-type {\n",
       "        vertical-align: middle;\n",
       "    }\n",
       "\n",
       "    .dataframe tbody tr th {\n",
       "        vertical-align: top;\n",
       "    }\n",
       "\n",
       "    .dataframe thead th {\n",
       "        text-align: right;\n",
       "    }\n",
       "</style>\n",
       "<table border=\"1\" class=\"dataframe\">\n",
       "  <thead>\n",
       "    <tr style=\"text-align: right;\">\n",
       "      <th></th>\n",
       "      <th>b</th>\n",
       "    </tr>\n",
       "    <tr>\n",
       "      <th>a</th>\n",
       "      <th></th>\n",
       "    </tr>\n",
       "  </thead>\n",
       "  <tbody>\n",
       "    <tr>\n",
       "      <th>C</th>\n",
       "      <td>4.333333</td>\n",
       "    </tr>\n",
       "    <tr>\n",
       "      <th>D</th>\n",
       "      <td>3.000000</td>\n",
       "    </tr>\n",
       "    <tr>\n",
       "      <th>E</th>\n",
       "      <td>6.333333</td>\n",
       "    </tr>\n",
       "  </tbody>\n",
       "</table>\n",
       "</div>"
      ],
      "text/plain": [
       "          b\n",
       "a          \n",
       "C  4.333333\n",
       "D  3.000000\n",
       "E  6.333333"
      ]
     },
     "execution_count": 19,
     "metadata": {},
     "output_type": "execute_result"
    }
   ],
   "source": [
    "data.groupby('a').mean()"
   ]
  },
  {
   "cell_type": "markdown",
   "metadata": {},
   "source": [
    "More typically, aggregated values are displayed using bar charts.\n",
    "Making this change is as simple as replacing `mark_point()` with `mark_bar()`:"
   ]
  },
  {
   "cell_type": "code",
   "execution_count": 20,
   "metadata": {},
   "outputs": [
    {
     "data": {
      "text/html": [
       "<div class=\"vega-embed\" id=\"8e1783b9-5915-49f0-b62c-1a6ea53696e7\"></div>\n",
       "\n",
       "<style>\n",
       ".vega-embed svg, .vega-embed canvas {\n",
       "  border: 1px dotted gray;\n",
       "}\n",
       "\n",
       ".vega-embed .vega-actions a {\n",
       "  margin-right: 6px;\n",
       "}\n",
       "</style>\n"
      ]
     },
     "metadata": {
      "jupyter-vega": "#8e1783b9-5915-49f0-b62c-1a6ea53696e7"
     },
     "output_type": "display_data"
    },
    {
     "data": {
      "application/javascript": [
       "var spec = {\"config\": {\"cell\": {\"width\": 500, \"height\": 350}}, \"encoding\": {\"x\": {\"aggregate\": \"average\", \"field\": \"b\", \"type\": \"quantitative\"}, \"y\": {\"field\": \"a\", \"type\": \"nominal\"}}, \"mark\": \"bar\", \"data\": {\"values\": [{\"a\": \"C\", \"b\": 2}, {\"a\": \"C\", \"b\": 7}, {\"a\": \"C\", \"b\": 4}, {\"a\": \"D\", \"b\": 1}, {\"a\": \"D\", \"b\": 2}, {\"a\": \"D\", \"b\": 6}, {\"a\": \"E\", \"b\": 8}, {\"a\": \"E\", \"b\": 4}, {\"a\": \"E\", \"b\": 7}]}, \"$schema\": \"https://vega.github.io/schema/vega-lite/v1.2.1.json\"};\n",
       "var selector = \"#8e1783b9-5915-49f0-b62c-1a6ea53696e7\";\n",
       "var type = \"vega-lite\";\n",
       "\n",
       "var output_area = this;\n",
       "require(['nbextensions/jupyter-vega/index'], function(vega) {\n",
       "  vega.render(selector, spec, type, output_area);\n",
       "}, function (err) {\n",
       "  if (err.requireType !== 'scripterror') {\n",
       "    throw(err);\n",
       "  }\n",
       "});\n"
      ]
     },
     "metadata": {
      "jupyter-vega": "#8e1783b9-5915-49f0-b62c-1a6ea53696e7"
     },
     "output_type": "display_data"
    },
    {
     "data": {
      "image/png": "[encoded data removed]"
     },
     "metadata": {
      "jupyter-vega": "#8e1783b9-5915-49f0-b62c-1a6ea53696e7"
     },
     "output_type": "display_data"
    }
   ],
   "source": [
    "c = alt.Chart(data).mark_bar().encode(\n",
    "    y='a',\n",
    "    x='average(b)'\n",
    ")\n",
    "c # save the Chart to a variable and then display"
   ]
  },
  {
   "cell_type": "markdown",
   "metadata": {},
   "source": [
    "As above, Altair's role in this visualization is converting the resulting object into an appropriate JSON dict.\n",
    "Here it is, leaving out the data for clarity:"
   ]
  },
  {
   "cell_type": "code",
   "execution_count": 21,
   "metadata": {},
   "outputs": [
    {
     "data": {
      "text/plain": [
       "{'$schema': 'https://vega.github.io/schema/vega-lite/v1.2.1.json',\n",
       " 'encoding': {'x': {'aggregate': 'average',\n",
       "   'field': 'b',\n",
       "   'type': 'quantitative'},\n",
       "  'y': {'field': 'a', 'type': 'nominal'}},\n",
       " 'mark': 'bar'}"
      ]
     },
     "execution_count": 21,
     "metadata": {},
     "output_type": "execute_result"
    }
   ],
   "source": [
    "c.to_dict(data=False)"
   ]
  },
  {
   "cell_type": "markdown",
   "metadata": {},
   "source": [
    "Notice that Altair has taken the string `'average(b)'` and converted it to a mapping that includes `field`, `type`, and `aggregate`. The full shorthand syntax for the column names in Altair also includes the explicit type code separated by a column:"
   ]
  },
  {
   "cell_type": "code",
   "execution_count": 22,
   "metadata": {},
   "outputs": [
    {
     "data": {
      "text/plain": [
       "{'aggregate': 'average', 'field': 'b', 'type': 'quantitative'}"
      ]
     },
     "execution_count": 22,
     "metadata": {},
     "output_type": "execute_result"
    }
   ],
   "source": [
    "x = alt.X('average(b):Q')\n",
    "x.to_dict()"
   ]
  },
  {
   "cell_type": "markdown",
   "metadata": {},
   "source": [
    "This shorthand is equivalent to spelling-out these properties by name:"
   ]
  },
  {
   "cell_type": "code",
   "execution_count": 23,
   "metadata": {},
   "outputs": [
    {
     "data": {
      "text/plain": [
       "{'aggregate': 'average', 'field': 'b', 'type': 'quantitative'}"
      ]
     },
     "execution_count": 23,
     "metadata": {},
     "output_type": "execute_result"
    }
   ],
   "source": [
    "x = alt.X('b', aggregate='average', type='quantitative')\n",
    "x.to_dict()"
   ]
  },
  {
   "cell_type": "markdown",
   "metadata": {},
   "source": [
    "This is one benefit of using the Altair API over writing the Vega-Lite spec from scratch: valid Vega-Lite specifications can be created very succinctly, with less boilerplate code."
   ]
  },
  {
   "cell_type": "markdown",
   "metadata": {},
   "source": [
    "## Customizing your visualization"
   ]
  },
  {
   "cell_type": "markdown",
   "metadata": {},
   "source": [
    "To speed the process of data exploration, Altair (via Vega-Lite) makes some choices about default properties of the visualization.\n",
    "Altair also provides an API to customize the look of the visualization. For example, we can use the `X` object we saw above to override the default x-axis title:"
   ]
  },
  {
   "cell_type": "code",
   "execution_count": 24,
   "metadata": {},
   "outputs": [
    {
     "data": {
      "text/html": [
       "<div class=\"vega-embed\" id=\"6e87f3a4-817e-4a1c-ba16-4356efe6fcf0\"></div>\n",
       "\n",
       "<style>\n",
       ".vega-embed svg, .vega-embed canvas {\n",
       "  border: 1px dotted gray;\n",
       "}\n",
       "\n",
       ".vega-embed .vega-actions a {\n",
       "  margin-right: 6px;\n",
       "}\n",
       "</style>\n"
      ]
     },
     "metadata": {
      "jupyter-vega": "#6e87f3a4-817e-4a1c-ba16-4356efe6fcf0"
     },
     "output_type": "display_data"
    },
    {
     "data": {
      "application/javascript": [
       "var spec = {\"config\": {\"cell\": {\"width\": 500, \"height\": 350}}, \"encoding\": {\"x\": {\"aggregate\": \"average\", \"axis\": {\"title\": \"Average of b\"}, \"field\": \"b\", \"type\": \"quantitative\"}, \"y\": {\"field\": \"a\", \"type\": \"nominal\"}}, \"mark\": \"bar\", \"data\": {\"values\": [{\"a\": \"C\", \"b\": 2}, {\"a\": \"C\", \"b\": 7}, {\"a\": \"C\", \"b\": 4}, {\"a\": \"D\", \"b\": 1}, {\"a\": \"D\", \"b\": 2}, {\"a\": \"D\", \"b\": 6}, {\"a\": \"E\", \"b\": 8}, {\"a\": \"E\", \"b\": 4}, {\"a\": \"E\", \"b\": 7}]}, \"$schema\": \"https://vega.github.io/schema/vega-lite/v1.2.1.json\"};\n",
       "var selector = \"#6e87f3a4-817e-4a1c-ba16-4356efe6fcf0\";\n",
       "var type = \"vega-lite\";\n",
       "\n",
       "var output_area = this;\n",
       "require(['nbextensions/jupyter-vega/index'], function(vega) {\n",
       "  vega.render(selector, spec, type, output_area);\n",
       "}, function (err) {\n",
       "  if (err.requireType !== 'scripterror') {\n",
       "    throw(err);\n",
       "  }\n",
       "});\n"
      ]
     },
     "metadata": {
      "jupyter-vega": "#6e87f3a4-817e-4a1c-ba16-4356efe6fcf0"
     },
     "output_type": "display_data"
    },
    {
     "data": {
      "image/png": "[encoded data removed]"
     },
     "metadata": {
      "jupyter-vega": "#6e87f3a4-817e-4a1c-ba16-4356efe6fcf0"
     },
     "output_type": "display_data"
    }
   ],
   "source": [
    "alt.Chart(data).mark_bar().encode(\n",
    "    y='a',\n",
    "    x=alt.X('average(b)', axis=alt.Axis(title='Average of b'))\n",
    ")"
   ]
  },
  {
   "cell_type": "markdown",
   "metadata": {},
   "source": [
    "The properties of marks can be configured by passing keyword arguments to the `mark_*()` methods:"
   ]
  },
  {
   "cell_type": "code",
   "execution_count": 25,
   "metadata": {},
   "outputs": [
    {
     "data": {
      "text/html": [
       "<div class=\"vega-embed\" id=\"a3260e63-7272-4b81-b63d-6799a306b469\"></div>\n",
       "\n",
       "<style>\n",
       ".vega-embed svg, .vega-embed canvas {\n",
       "  border: 1px dotted gray;\n",
       "}\n",
       "\n",
       ".vega-embed .vega-actions a {\n",
       "  margin-right: 6px;\n",
       "}\n",
       "</style>\n"
      ]
     },
     "metadata": {
      "jupyter-vega": "#a3260e63-7272-4b81-b63d-6799a306b469"
     },
     "output_type": "display_data"
    },
    {
     "data": {
      "application/javascript": [
       "var spec = {\"config\": {\"cell\": {\"width\": 500, \"height\": 350}, \"mark\": {\"color\": \"#03A9F4\"}}, \"encoding\": {\"x\": {\"aggregate\": \"average\", \"axis\": {\"title\": \"Average of b\"}, \"field\": \"b\", \"type\": \"quantitative\"}, \"y\": {\"field\": \"a\", \"type\": \"nominal\"}}, \"mark\": \"bar\", \"data\": {\"values\": [{\"a\": \"C\", \"b\": 2}, {\"a\": \"C\", \"b\": 7}, {\"a\": \"C\", \"b\": 4}, {\"a\": \"D\", \"b\": 1}, {\"a\": \"D\", \"b\": 2}, {\"a\": \"D\", \"b\": 6}, {\"a\": \"E\", \"b\": 8}, {\"a\": \"E\", \"b\": 4}, {\"a\": \"E\", \"b\": 7}]}, \"$schema\": \"https://vega.github.io/schema/vega-lite/v1.2.1.json\"};\n",
       "var selector = \"#a3260e63-7272-4b81-b63d-6799a306b469\";\n",
       "var type = \"vega-lite\";\n",
       "\n",
       "var output_area = this;\n",
       "require(['nbextensions/jupyter-vega/index'], function(vega) {\n",
       "  vega.render(selector, spec, type, output_area);\n",
       "}, function (err) {\n",
       "  if (err.requireType !== 'scripterror') {\n",
       "    throw(err);\n",
       "  }\n",
       "});\n"
      ]
     },
     "metadata": {
      "jupyter-vega": "#a3260e63-7272-4b81-b63d-6799a306b469"
     },
     "output_type": "display_data"
    },
    {
     "data": {
      "image/png": "[encoded data removed]"
     },
     "metadata": {
      "jupyter-vega": "#a3260e63-7272-4b81-b63d-6799a306b469"
     },
     "output_type": "display_data"
    }
   ],
   "source": [
    "alt.Chart(data).mark_bar(color='#03A9F4').encode(\n",
    "    y='a',\n",
    "    x=alt.X('average(b)', axis=alt.Axis(title='Average of b'))\n",
    ")"
   ]
  },
  {
   "cell_type": "markdown",
   "metadata": {},
   "source": [
    "Similarly, we can use various `configure_*()` methods to adjust global properties of the chart, such as the chart width or height:"
   ]
  },
  {
   "cell_type": "code",
   "execution_count": 26,
   "metadata": {},
   "outputs": [
    {
     "data": {
      "text/html": [
       "<div class=\"vega-embed\" id=\"6936be95-3e60-485e-ad96-be26de355453\"></div>\n",
       "\n",
       "<style>\n",
       ".vega-embed svg, .vega-embed canvas {\n",
       "  border: 1px dotted gray;\n",
       "}\n",
       "\n",
       ".vega-embed .vega-actions a {\n",
       "  margin-right: 6px;\n",
       "}\n",
       "</style>\n"
      ]
     },
     "metadata": {
      "jupyter-vega": "#6936be95-3e60-485e-ad96-be26de355453"
     },
     "output_type": "display_data"
    },
    {
     "data": {
      "application/javascript": [
       "var spec = {\"config\": {\"cell\": {\"width\": 300.0, \"height\": 350}, \"scale\": {\"bandSize\": 50.0}}, \"encoding\": {\"x\": {\"aggregate\": \"average\", \"axis\": {\"title\": \"Average of b\"}, \"field\": \"b\", \"type\": \"quantitative\"}, \"y\": {\"field\": \"a\", \"type\": \"nominal\"}}, \"mark\": \"bar\", \"data\": {\"values\": [{\"a\": \"C\", \"b\": 2}, {\"a\": \"C\", \"b\": 7}, {\"a\": \"C\", \"b\": 4}, {\"a\": \"D\", \"b\": 1}, {\"a\": \"D\", \"b\": 2}, {\"a\": \"D\", \"b\": 6}, {\"a\": \"E\", \"b\": 8}, {\"a\": \"E\", \"b\": 4}, {\"a\": \"E\", \"b\": 7}]}, \"$schema\": \"https://vega.github.io/schema/vega-lite/v1.2.1.json\"};\n",
       "var selector = \"#6936be95-3e60-485e-ad96-be26de355453\";\n",
       "var type = \"vega-lite\";\n",
       "\n",
       "var output_area = this;\n",
       "require(['nbextensions/jupyter-vega/index'], function(vega) {\n",
       "  vega.render(selector, spec, type, output_area);\n",
       "}, function (err) {\n",
       "  if (err.requireType !== 'scripterror') {\n",
       "    throw(err);\n",
       "  }\n",
       "});\n"
      ]
     },
     "metadata": {
      "jupyter-vega": "#6936be95-3e60-485e-ad96-be26de355453"
     },
     "output_type": "display_data"
    },
    {
     "data": {
      "image/png": "[encoded data removed]"
     },
     "metadata": {
      "jupyter-vega": "#6936be95-3e60-485e-ad96-be26de355453"
     },
     "output_type": "display_data"
    }
   ],
   "source": [
    "c = alt.Chart(data).mark_bar().encode(\n",
    "    y='a',\n",
    "    x=alt.X('average(b)', axis=alt.Axis(title='Average of b'))\n",
    ").configure_scale(\n",
    "    bandSize=50  # scale.bandSize adjusts thickness (in pixels) of bars\n",
    ").configure_cell(\n",
    "    width=300  # cell.width adjusts the width (in pixels) of the chart\n",
    ")\n",
    "\n",
    "c"
   ]
  },
  {
   "cell_type": "markdown",
   "metadata": {},
   "source": [
    "As above, we can inspect how these configuration options affect the resulting Vega-lite specification:"
   ]
  },
  {
   "cell_type": "code",
   "execution_count": 27,
   "metadata": {},
   "outputs": [
    {
     "data": {
      "text/plain": [
       "{'$schema': 'https://vega.github.io/schema/vega-lite/v1.2.1.json',\n",
       " 'config': {'cell': {'width': 300.0}, 'scale': {'bandSize': 50.0}},\n",
       " 'encoding': {'x': {'aggregate': 'average',\n",
       "   'axis': {'title': 'Average of b'},\n",
       "   'field': 'b',\n",
       "   'type': 'quantitative'},\n",
       "  'y': {'field': 'a', 'type': 'nominal'}},\n",
       " 'mark': 'bar'}"
      ]
     },
     "execution_count": 27,
     "metadata": {},
     "output_type": "execute_result"
    }
   ],
   "source": [
    "c.to_dict(data=False)"
   ]
  },
  {
   "cell_type": "markdown",
   "metadata": {},
   "source": [
    "To learn more about the various configuration options, one useful place to start is Altair's ``Config`` object, along with IPython's documentation capabilities:"
   ]
  },
  {
   "cell_type": "code",
   "execution_count": 28,
   "metadata": {},
   "outputs": [
    {
     "name": "stdout",
     "output_type": "stream",
     "text": [
      "Object `Config` not found.\n"
     ]
    }
   ],
   "source": [
    "Config?"
   ]
  },
  {
   "cell_type": "markdown",
   "metadata": {},
   "source": [
    "You can also read more in Altair's [Configuration](https://altair-viz.github.io/documentation/config.html) documentation."
   ]
  },
  {
   "cell_type": "markdown",
   "metadata": {},
   "source": [
    "## Publishing a visualization online"
   ]
  },
  {
   "cell_type": "markdown",
   "metadata": {},
   "source": [
    "Because Altair produces Vega-Lite specifications, it is relatively straightforward to export charts and publish them on the web as Vega-Lite plots.\n",
    "All that is required is to load the Vega-Lite javascript library, and pass it the JSON plot specification output by Altair.\n",
    "For convenience Altair contains a built-in bare-bones HTML template that can be used to display any plot.\n",
    "Here's the template with an empty chart for clarity:"
   ]
  },
  {
   "cell_type": "code",
   "execution_count": 29,
   "metadata": {},
   "outputs": [
    {
     "name": "stdout",
     "output_type": "stream",
     "text": [
      "\n",
      "<!DOCTYPE html>\n",
      "<head>\n",
      "  <title>Vega-Lite Chart</title>\n",
      "  <meta charset=\"utf-8\">\n",
      "\n",
      "  <script src=\"https://d3js.org/d3.v3.min.js\"></script>\n",
      "  <script src=\"https://cdnjs.cloudflare.com/ajax/libs/vega/2.6.5/vega.min.js\"></script>\n",
      "  <script src=\"https://cdnjs.cloudflare.com/ajax/libs/vega-lite/1.2.1/vega-lite.min.js\"></script>\n",
      "  <script src=\"https://cdnjs.cloudflare.com/ajax/libs/vega-embed/2.2.0/vega-embed.min.js\" charset=\"utf-8\"></script>\n",
      "\n",
      "  <style media=\"screen\">\n",
      "    /* Add space between vega-embed links  */\n",
      "    .vega-actions a {\n",
      "      margin-right: 5px;\n",
      "    }\n",
      "  </style>\n",
      "</head>\n",
      "<body>\n",
      "  <!-- Container for the visualization -->\n",
      "  <div id=\"vis\"></div>\n",
      "\n",
      "  <script>\n",
      "  var vlSpec = {\n",
      "    \"mark\": \"point\",\n",
      "    \"$schema\": \"https://vega.github.io/schema/vega-lite/v1.2.1.json\"\n",
      "}\n",
      "\n",
      "  var embedSpec = {\n",
      "    mode: \"vega-lite\",  // Instruct Vega-Embed to use the Vega-Lite compiler\n",
      "    spec: vlSpec\n",
      "  };\n",
      "\n",
      "  // Embed the visualization in the container with id `vis`\n",
      "  vg.embed(\"#vis\", embedSpec, function(error, result) {\n",
      "    // Callback receiving the View instance and parsed Vega spec\n",
      "    // result.view is the View, which resides under the '#vis' element\n",
      "  });\n",
      "  </script>\n",
      "</body>\n",
      "</html>\n",
      "\n"
     ]
    }
   ],
   "source": [
    "print(alt.Chart().to_html())"
   ]
  },
  {
   "cell_type": "markdown",
   "metadata": {},
   "source": [
    "All that must be changed is the ``vlSpec`` variable, which should contain the Vega-Lite spec output by ``chart.to_dict()``.\n",
    "This is done automatically using the ``Chart.savechart`` method:"
   ]
  },
  {
   "cell_type": "code",
   "execution_count": 30,
   "metadata": {},
   "outputs": [],
   "source": [
    "chart = alt.Chart(data).mark_bar().encode(\n",
    "    y='a',\n",
    "    x='average(b)'\n",
    ")\n",
    "\n",
    "chart.savechart('example.html')"
   ]
  },
  {
   "cell_type": "markdown",
   "metadata": {},
   "source": [
    "We can view the output in an iframe within the notebook (note that some online notebook viewers will not show iframes for security reasons):"
   ]
  },
  {
   "cell_type": "code",
   "execution_count": 31,
   "metadata": {},
   "outputs": [
    {
     "data": {
      "text/html": [
       "\n",
       "        <iframe\n",
       "            width=\"400\"\n",
       "            height=\"200\"\n",
       "            src=\"example.html\"\n",
       "            frameborder=\"0\"\n",
       "            allowfullscreen\n",
       "        ></iframe>\n",
       "        "
      ],
      "text/plain": [
       "<IPython.lib.display.IFrame at 0x1078f4438>"
      ]
     },
     "execution_count": 31,
     "metadata": {},
     "output_type": "execute_result"
    }
   ],
   "source": [
    "# Display IFrame in IPython\n",
    "from IPython.display import IFrame\n",
    "IFrame('example.html', width=400, height=200)"
   ]
  },
  {
   "cell_type": "markdown",
   "metadata": {},
   "source": [
    "Alternatively, you can use your web browser to open the file manually to confirm that it works: [example.html](example.html)."
   ]
  },
  {
   "cell_type": "markdown",
   "metadata": {},
   "source": [
    "## Learning More\n",
    "\n",
    "For more information on Altair, please refer to Altair's online documentation: http://altair-viz.github.io/\n",
    "\n",
    "You can also see some of the example plots listed in the [accompanying notebooks](01-Index.ipynb)."
   ]
  }
 ],
 "metadata": {
  "anaconda-cloud": {},
  "kernelspec": {
   "display_name": "Python 3",
   "language": "python",
   "name": "python3"
  },
  "language_info": {
   "codemirror_mode": {
    "name": "ipython",
    "version": 3
   },
   "file_extension": ".py",
   "mimetype": "text/x-python",
   "name": "python",
   "nbconvert_exporter": "python",
   "pygments_lexer": "ipython3",
   "version": "3.6.4"
  }
 },
 "nbformat": 4,
 "nbformat_minor": 2
}
