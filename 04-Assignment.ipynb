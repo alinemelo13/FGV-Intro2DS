{
 "cells": [
  {
   "cell_type": "markdown",
   "metadata": {},
   "source": [
    "# Visualization Design"
   ]
  },
  {
   "cell_type": "markdown",
   "metadata": {},
   "source": [
    "In this assignment, you will design a visualization for a small data set and provide a rigorous rationale for your design choices. You should, in theory, be ready to explain the contribution of every pixel in the display. You are free to use any graphics or charting tool you please. However, I recommend to used Altair for this assignment. "
   ]
  },
  {
   "cell_type": "markdown",
   "metadata": {},
   "source": [
    "## Dataset\n",
    "\n",
    "After the World War II, antibiotics were considered as \"wonder drugs\", since they were easy remedy for what had been intractable ailments. To learn which drug worked most effectively for which bacterial infection, performance of the three most popular antibiotics on 16 bacteria were gathered."
   ]
  },
  {
   "cell_type": "code",
   "execution_count": null,
   "metadata": {},
   "outputs": [],
   "source": [
    "# load data\n",
    "import pandas as pd\n",
    "data= pd.read_csv('a1-burtin.csv')\n",
    "\n",
    "data"
   ]
  },
  {
   "cell_type": "markdown",
   "metadata": {},
   "source": [
    "The values in the table represent the minimum inhibitory concentration (MIC), a measure of the effectiveness of the antibiotic, which represents the concentration of antibiotic required to prevent growth in vitro. The reaction of the bacteria to Gram staining is described by the covariate “gram staining”. Bacteria that are stained dark blue or violet are Gram-positive. Otherwise, they are Gram-negative."
   ]
  },
  {
   "cell_type": "markdown",
   "metadata": {},
   "source": [
    "## Task\n",
    "\n",
    "Your task is to design a static (i.e., single image) visualization that you believe effectively communicates the data and provide a short write-up (no more than 4 paragraphs) describing your design. While you must use the data set given, note that you are free to transform the data as you see fit. You are also free to incorporate external data as you see fit. Your chart image should be interpretable without recourse to your short write-up. Do not forget to include title, axis labels or legends as needed!\n",
    "\n",
    "As different visualizations can emphasize different aspects of a data set, you should document what aspects of the data you are attempting to most effectively communicate. In short, what story (or stories) are you trying to tell? Just as important, also note which aspects of the data might be obscured or down-played due to your visualization design.\n",
    "\n",
    "In your write-up, you should provide a rigorous rationale for your design decisions. Document the visual encodings you used and why they are appropriate for the data. These decisions include the choice of visualization type, size, color, scale, and other visual elements, as well as the use of sorting or other data transformations. How do these decisions facilitate effective communication?"
   ]
  },
  {
   "cell_type": "markdown",
   "metadata": {},
   "source": [
    "## Some Tentative Results\n",
    "The following visualizations were created by students in the Data Visualization course (Winter 2014) at University of Washington [link](https://courses.cs.washington.edu/courses/cse512/14wi/a1.html)."
   ]
  },
  {
   "cell_type": "markdown",
   "metadata": {},
   "source": [
    "<img src=\"tmp/bar1.png\",width=800>\n",
    "<img src=\"tmp/bar2.png\",width=800>\n",
    "<img src=\"tmp/bar3.png\",width=800>\n",
    "<img src=\"tmp/dot_plot.png\",width=800>\n",
    "<img src=\"tmp/line_chart.png\",width=800>\n",
    "<img src=\"tmp/heatmap.png\",width=800>"
   ]
  },
  {
   "cell_type": "markdown",
   "metadata": {},
   "source": [
    "# Follow these steps:\n",
    "\n",
    "## 1. Analyse the data \n",
    "    * What are the data types?\n",
    "    * Transform the data to 'tidy format'"
   ]
  },
  {
   "cell_type": "code",
   "execution_count": null,
   "metadata": {},
   "outputs": [],
   "source": [
    "data2 = pd.melt(data, id_vars=['Bacteria', 'Gram_Staining'], \n",
    "                value_vars=['Penicilin', 'Streptomycin', 'Neomycin'], var_name='antibiotic', value_name='MIC')\n",
    "data2"
   ]
  },
  {
   "cell_type": "markdown",
   "metadata": {},
   "source": [
    "Use the template code below to start your visualization. "
   ]
  },
  {
   "cell_type": "code",
   "execution_count": null,
   "metadata": {},
   "outputs": [],
   "source": [
    "from altair import *\n",
    "\n",
    "Chart(data2).mark_*().encode(\n",
    "    ## COMPLETE ##\n",
    ")"
   ]
  },
  {
   "cell_type": "markdown",
   "metadata": {},
   "source": [
    "## 2. Select a *bar* mark "
   ]
  },
  {
   "cell_type": "code",
   "execution_count": null,
   "metadata": {},
   "outputs": [],
   "source": [
    "from altair import *\n",
    "\n",
    "Chart(data2).mark_*().encode(\n",
    "    ## COMPLETE ##\n",
    ")"
   ]
  },
  {
   "cell_type": "markdown",
   "metadata": {},
   "source": [
    "## 3. Define the following encoding:\n",
    "  * x: antibiotic\n",
    "  * y: MIC\n",
    "  * color: antibiotic\n",
    "  * column: Bacteria"
   ]
  },
  {
   "cell_type": "code",
   "execution_count": null,
   "metadata": {},
   "outputs": [],
   "source": [
    "from altair import *\n",
    "\n",
    "Chart(data2).mark_*().encode(\n",
    "    ## COMPLETE ##\n",
    ")"
   ]
  },
  {
   "cell_type": "markdown",
   "metadata": {},
   "source": [
    "## 4. Use *log* scale for *y*-axis\n",
    "* y.scale=Scale(type='log')\n",
    "* y.axis=Axis(title='log(MIC)')"
   ]
  },
  {
   "cell_type": "code",
   "execution_count": null,
   "metadata": {},
   "outputs": [],
   "source": [
    "from altair import *\n",
    "\n",
    "Chart(data2).mark_*().encode(\n",
    "    ## COMPLETE ##\n",
    ")"
   ]
  },
  {
   "cell_type": "markdown",
   "metadata": {},
   "source": [
    "## 5. Adjusting Aesthetics\n",
    "  * x.scale=Scale(bandSize=6.0)\n",
    "  * x.axis=False\n",
    "  * y.axis=Axis(grid=False)\n",
    "  * column=title=''\n",
    "  * column.axis=Axis(orient='bottom', labelAngle=45, labelAlign-'top')"
   ]
  },
  {
   "cell_type": "code",
   "execution_count": null,
   "metadata": {},
   "outputs": [],
   "source": [
    "from altair import *\n",
    "\n",
    "Chart(data2).mark_*().encode(\n",
    "    ## COMPLETE ##\n",
    ")"
   ]
  },
  {
   "cell_type": "markdown",
   "metadata": {},
   "source": [
    "## 6. Split the data by 'Gram Staining'\n",
    "* add filter: filter=(expr.df.Gram_Staining == 'negative')\n",
    "* same for 'positive'"
   ]
  },
  {
   "cell_type": "code",
   "execution_count": null,
   "metadata": {},
   "outputs": [],
   "source": [
    "from altair import *\n",
    "\n",
    "Chart(data2).mark_*().encode(\n",
    "    ## COMPLETE ##\n",
    ").transform_data(\n",
    "    ## ADD FILTER ##\n",
    ").display()\n",
    "\n",
    "Chart(data2).mark_*().encode(\n",
    "    ## COMPLETE ##\n",
    ").transform_data(\n",
    "    ## ADD FILTER ##\n",
    ").display()\n",
    "\n"
   ]
  }
 ],
 "metadata": {
  "kernelspec": {
   "display_name": "Python 3",
   "language": "python",
   "name": "python3"
  },
  "language_info": {
   "codemirror_mode": {
    "name": "ipython",
    "version": 3
   },
   "file_extension": ".py",
   "mimetype": "text/x-python",
   "name": "python",
   "nbconvert_exporter": "python",
   "pygments_lexer": "ipython3",
   "version": "3.6.4"
  }
 },
 "nbformat": 4,
 "nbformat_minor": 2
}
